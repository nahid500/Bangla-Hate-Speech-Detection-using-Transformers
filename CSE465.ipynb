{
 "cells": [
  {
   "cell_type": "code",
   "execution_count": 1,
   "id": "2e59b547",
   "metadata": {},
   "outputs": [],
   "source": [
    "import pandas as pd\n",
    "import numpy as np\n",
    "import re\n",
    "import seaborn as sns\n",
    "from sklearn.svm import SVC\n",
    "import matplotlib.pyplot as plt\n",
    "from matplotlib import style\n",
    "style.use('ggplot')\n",
    "from nltk.tokenize import word_tokenize\n",
    "from nltk.stem import WordNetLemmatizer\n",
    "from nltk.corpus import stopwords\n",
    "stop_words = set(stopwords.words('english'))\n",
    "#from wordcloud import WordCloud\n",
    "from sklearn.feature_extraction.text import TfidfVectorizer\n",
    "from sklearn.model_selection import train_test_split\n",
    "from sklearn.linear_model import LogisticRegression\n",
    "from sklearn.metrics import accuracy_score, classification_report, confusion_matrix, ConfusionMatrixDisplay"
   ]
  },
  {
   "cell_type": "code",
   "execution_count": 2,
   "id": "e397f8f0",
   "metadata": {},
   "outputs": [
    {
     "data": {
      "text/html": [
       "<div>\n",
       "<style scoped>\n",
       "    .dataframe tbody tr th:only-of-type {\n",
       "        vertical-align: middle;\n",
       "    }\n",
       "\n",
       "    .dataframe tbody tr th {\n",
       "        vertical-align: top;\n",
       "    }\n",
       "\n",
       "    .dataframe thead th {\n",
       "        text-align: right;\n",
       "    }\n",
       "</style>\n",
       "<table border=\"1\" class=\"dataframe\">\n",
       "  <thead>\n",
       "    <tr style=\"text-align: right;\">\n",
       "      <th></th>\n",
       "      <th>sentence</th>\n",
       "      <th>target</th>\n",
       "      <th>type</th>\n",
       "      <th>hate speech</th>\n",
       "    </tr>\n",
       "  </thead>\n",
       "  <tbody>\n",
       "    <tr>\n",
       "      <th>0</th>\n",
       "      <td>.... ঐ ইন্দুর তোই মরছ নাই?</td>\n",
       "      <td>ind</td>\n",
       "      <td>callToViolence</td>\n",
       "      <td>1</td>\n",
       "    </tr>\n",
       "    <tr>\n",
       "      <th>1</th>\n",
       "      <td>#গেবনের শেষে আইসা আপনার মুখোশ টা খুলছে এতেই আম...</td>\n",
       "      <td>ind</td>\n",
       "      <td>callToViolence</td>\n",
       "      <td>1</td>\n",
       "    </tr>\n",
       "    <tr>\n",
       "      <th>2</th>\n",
       "      <td>✈✈✈✈��� মুরগি চোরের পাছায় ডুকবি আর মারবি।।।</td>\n",
       "      <td>ind</td>\n",
       "      <td>callToViolence</td>\n",
       "      <td>1</td>\n",
       "    </tr>\n",
       "    <tr>\n",
       "      <th>3</th>\n",
       "      <td>১৮ কোটির চোদা খাওয়া শেষে এখন ১৫০কোটির চোদা খাব...</td>\n",
       "      <td>female</td>\n",
       "      <td>callToViolence</td>\n",
       "      <td>1</td>\n",
       "    </tr>\n",
       "    <tr>\n",
       "      <th>4</th>\n",
       "      <td>২য় মীর জাফরের মুখে মুতে দে...</td>\n",
       "      <td>male</td>\n",
       "      <td>callToViolence</td>\n",
       "      <td>1</td>\n",
       "    </tr>\n",
       "  </tbody>\n",
       "</table>\n",
       "</div>"
      ],
      "text/plain": [
       "                                            sentence  target            type  \\\n",
       "0                         .... ঐ ইন্দুর তোই মরছ নাই?     ind  callToViolence   \n",
       "1  #গেবনের শেষে আইসা আপনার মুখোশ টা খুলছে এতেই আম...     ind  callToViolence   \n",
       "2        ✈✈✈✈��� মুরগি চোরের পাছায় ডুকবি আর মারবি।।।     ind  callToViolence   \n",
       "3  ১৮ কোটির চোদা খাওয়া শেষে এখন ১৫০কোটির চোদা খাব...  female  callToViolence   \n",
       "4                      ২য় মীর জাফরের মুখে মুতে দে...    male  callToViolence   \n",
       "\n",
       "   hate speech  \n",
       "0            1  \n",
       "1            1  \n",
       "2            1  \n",
       "3            1  \n",
       "4            1  "
      ]
     },
     "execution_count": 2,
     "metadata": {},
     "output_type": "execute_result"
    }
   ],
   "source": [
    "dataset = pd.read_csv(\"C:\\\\Users\\\\User\\\\Desktop\\\\Spring'24\\\\CSE465 Project\\\\Dataset\\\\train.csv\")\n",
    "df = dataset\n",
    "dataset.head()"
   ]
  },
  {
   "cell_type": "code",
   "execution_count": 3,
   "id": "d093e522",
   "metadata": {},
   "outputs": [
    {
     "name": "stdout",
     "output_type": "stream",
     "text": [
      "<class 'pandas.core.frame.DataFrame'>\n",
      "RangeIndex: 40224 entries, 0 to 40223\n",
      "Data columns (total 4 columns):\n",
      " #   Column       Non-Null Count  Dtype \n",
      "---  ------       --------------  ----- \n",
      " 0   sentence     40224 non-null  object\n",
      " 1   target       19324 non-null  object\n",
      " 2   type         19324 non-null  object\n",
      " 3   hate speech  40224 non-null  int64 \n",
      "dtypes: int64(1), object(3)\n",
      "memory usage: 1.2+ MB\n"
     ]
    }
   ],
   "source": [
    "df.info()"
   ]
  },
  {
   "cell_type": "code",
   "execution_count": 4,
   "id": "8662db1d",
   "metadata": {},
   "outputs": [
    {
     "data": {
      "text/plain": [
       "(40224, 4)"
      ]
     },
     "execution_count": 4,
     "metadata": {},
     "output_type": "execute_result"
    }
   ],
   "source": [
    "df.shape"
   ]
  },
  {
   "cell_type": "code",
   "execution_count": 5,
   "id": "51bc57b5",
   "metadata": {},
   "outputs": [],
   "source": [
    "df = df.drop('target',axis=1)"
   ]
  },
  {
   "cell_type": "code",
   "execution_count": 6,
   "id": "166ca18b",
   "metadata": {},
   "outputs": [],
   "source": [
    "df = df.drop('type', axis=1)"
   ]
  },
  {
   "cell_type": "code",
   "execution_count": 7,
   "id": "76cf0b2b",
   "metadata": {},
   "outputs": [
    {
     "data": {
      "text/plain": [
       "sentence       0\n",
       "hate speech    0\n",
       "dtype: int64"
      ]
     },
     "execution_count": 7,
     "metadata": {},
     "output_type": "execute_result"
    }
   ],
   "source": [
    "df.isnull().sum()"
   ]
  },
  {
   "cell_type": "code",
   "execution_count": 8,
   "id": "799e0dd7",
   "metadata": {},
   "outputs": [
    {
     "data": {
      "text/html": [
       "<div>\n",
       "<style scoped>\n",
       "    .dataframe tbody tr th:only-of-type {\n",
       "        vertical-align: middle;\n",
       "    }\n",
       "\n",
       "    .dataframe tbody tr th {\n",
       "        vertical-align: top;\n",
       "    }\n",
       "\n",
       "    .dataframe thead th {\n",
       "        text-align: right;\n",
       "    }\n",
       "</style>\n",
       "<table border=\"1\" class=\"dataframe\">\n",
       "  <thead>\n",
       "    <tr style=\"text-align: right;\">\n",
       "      <th></th>\n",
       "      <th>sentence</th>\n",
       "      <th>hate speech</th>\n",
       "    </tr>\n",
       "  </thead>\n",
       "  <tbody>\n",
       "    <tr>\n",
       "      <th>0</th>\n",
       "      <td>.... ঐ ইন্দুর তোই মরছ নাই?</td>\n",
       "      <td>1</td>\n",
       "    </tr>\n",
       "    <tr>\n",
       "      <th>1</th>\n",
       "      <td>#গেবনের শেষে আইসা আপনার মুখোশ টা খুলছে এতেই আম...</td>\n",
       "      <td>1</td>\n",
       "    </tr>\n",
       "    <tr>\n",
       "      <th>2</th>\n",
       "      <td>✈✈✈✈��� মুরগি চোরের পাছায় ডুকবি আর মারবি।।।</td>\n",
       "      <td>1</td>\n",
       "    </tr>\n",
       "    <tr>\n",
       "      <th>3</th>\n",
       "      <td>১৮ কোটির চোদা খাওয়া শেষে এখন ১৫০কোটির চোদা খাব...</td>\n",
       "      <td>1</td>\n",
       "    </tr>\n",
       "    <tr>\n",
       "      <th>4</th>\n",
       "      <td>২য় মীর জাফরের মুখে মুতে দে...</td>\n",
       "      <td>1</td>\n",
       "    </tr>\n",
       "    <tr>\n",
       "      <th>...</th>\n",
       "      <td>...</td>\n",
       "      <td>...</td>\n",
       "    </tr>\n",
       "    <tr>\n",
       "      <th>40219</th>\n",
       "      <td>��� গানটা চালু করে ওয়াস রুমে গিয়েছিলাম! এসে দে...</td>\n",
       "      <td>0</td>\n",
       "    </tr>\n",
       "    <tr>\n",
       "      <th>40220</th>\n",
       "      <td>���� হালকার উপজেলা ঝাপসা</td>\n",
       "      <td>0</td>\n",
       "    </tr>\n",
       "    <tr>\n",
       "      <th>40221</th>\n",
       "      <td>���� ��</td>\n",
       "      <td>0</td>\n",
       "    </tr>\n",
       "    <tr>\n",
       "      <th>40222</th>\n",
       "      <td>���� ��পুরাই আগুনের গুলা� () ��</td>\n",
       "      <td>0</td>\n",
       "    </tr>\n",
       "    <tr>\n",
       "      <th>40223</th>\n",
       "      <td>������� মজা পাইলাম �����</td>\n",
       "      <td>0</td>\n",
       "    </tr>\n",
       "  </tbody>\n",
       "</table>\n",
       "<p>40224 rows × 2 columns</p>\n",
       "</div>"
      ],
      "text/plain": [
       "                                                sentence  hate speech\n",
       "0                             .... ঐ ইন্দুর তোই মরছ নাই?            1\n",
       "1      #গেবনের শেষে আইসা আপনার মুখোশ টা খুলছে এতেই আম...            1\n",
       "2            ✈✈✈✈��� মুরগি চোরের পাছায় ডুকবি আর মারবি।।।            1\n",
       "3      ১৮ কোটির চোদা খাওয়া শেষে এখন ১৫০কোটির চোদা খাব...            1\n",
       "4                          ২য় মীর জাফরের মুখে মুতে দে...            1\n",
       "...                                                  ...          ...\n",
       "40219  ��� গানটা চালু করে ওয়াস রুমে গিয়েছিলাম! এসে দে...            0\n",
       "40220                           ���� হালকার উপজেলা ঝাপসা            0\n",
       "40221                                            ���� ��            0\n",
       "40222                    ���� ��পুরাই আগুনের গুলা� () ��            0\n",
       "40223                           ������� মজা পাইলাম �����            0\n",
       "\n",
       "[40224 rows x 2 columns]"
      ]
     },
     "execution_count": 8,
     "metadata": {},
     "output_type": "execute_result"
    }
   ],
   "source": [
    "df"
   ]
  },
  {
   "cell_type": "code",
   "execution_count": 9,
   "id": "4633c0f4",
   "metadata": {},
   "outputs": [
    {
     "data": {
      "text/plain": [
       "Index(['sentence', 'hate speech'], dtype='object')"
      ]
     },
     "execution_count": 9,
     "metadata": {},
     "output_type": "execute_result"
    }
   ],
   "source": [
    "df.columns"
   ]
  },
  {
   "cell_type": "code",
   "execution_count": 10,
   "id": "3bfc37d4",
   "metadata": {},
   "outputs": [
    {
     "name": "stdout",
     "output_type": "stream",
     "text": [
      "sentence\n",
      "['.... ঐ ইন্দুর তোই মরছ নাই?'\n",
      " '#গেবনের শেষে আইসা আপনার মুখোশ টা খুলছে এতেই আমি মহাখুশী ✌✌আপনি তো হ র হ র করে বমি করবেন নাকি আমাদের দেখলে� আমরা না হয় মূত্রত্যাগেই আপনাকে দিব #গু দক্ষিনা'\n",
      " '✈✈✈✈��� মুরগি চোরের পাছায় ডুকবি আর মারবি।।।' ... '���� ��'\n",
      " '���� ��পুরাই আগুনের গুলা� () ��' '������� মজা পাইলাম �����']\n",
      "------------------------------------------------------------\n",
      "hate speech\n",
      "[1 0]\n",
      "------------------------------------------------------------\n"
     ]
    }
   ],
   "source": [
    "for i in df.columns:\n",
    "  print(i)\n",
    "  print(df[i].unique())\n",
    "  print('---'*20)"
   ]
  },
  {
   "cell_type": "code",
   "execution_count": 11,
   "id": "0313177e",
   "metadata": {},
   "outputs": [
    {
     "data": {
      "text/plain": [
       "hate speech\n",
       "0    20900\n",
       "1    19324\n",
       "Name: count, dtype: int64"
      ]
     },
     "execution_count": 11,
     "metadata": {},
     "output_type": "execute_result"
    }
   ],
   "source": [
    "df['hate speech'].value_counts()"
   ]
  },
  {
   "cell_type": "code",
   "execution_count": 12,
   "id": "61fb2bab",
   "metadata": {},
   "outputs": [
    {
     "data": {
      "text/plain": [
       "<Axes: xlabel='hate speech', ylabel='count'>"
      ]
     },
     "execution_count": 12,
     "metadata": {},
     "output_type": "execute_result"
    },
    {
     "data": {
      "image/png": "[encoded data removed]",
      "text/plain": [
       "<Figure size 640x480 with 1 Axes>"
      ]
     },
     "metadata": {},
     "output_type": "display_data"
    }
   ],
   "source": [
    "sns.countplot(data=df, x='hate speech')"
   ]
  },
  {
   "cell_type": "code",
   "execution_count": 13,
   "id": "05b86aae",
   "metadata": {},
   "outputs": [
    {
     "name": "stdout",
     "output_type": "stream",
     "text": [
      ".... ঐ ইন্দুর তোই মরছ নাই? \n",
      "\n",
      "#গেবনের শেষে আইসা আপনার মুখোশ টা খুলছে এতেই আমি মহাখুশী ✌✌আপনি তো হ র হ র করে বমি করবেন নাকি আমাদের দেখলে� আমরা না হয় মূত্রত্যাগেই আপনাকে দিব #গু দক্ষিনা \n",
      "\n",
      "✈✈✈✈��� মুরগি চোরের পাছায় ডুকবি আর মারবি।।। \n",
      "\n",
      "১৮ কোটির চোদা খাওয়া শেষে এখন ১৫০কোটির চোদা খাবে মিথিলা \n",
      "\n",
      "২য় মীর জাফরের মুখে মুতে দে... \n",
      "\n"
     ]
    }
   ],
   "source": [
    "print(df['sentence'].iloc[0],\"\\n\")\n",
    "print(df['sentence'].iloc[1],\"\\n\")\n",
    "print(df['sentence'].iloc[2],\"\\n\")\n",
    "print(df['sentence'].iloc[3],\"\\n\")\n",
    "print(df['sentence'].iloc[4],\"\\n\")"
   ]
  },
  {
   "cell_type": "code",
   "execution_count": 14,
   "id": "b2427ece",
   "metadata": {},
   "outputs": [],
   "source": [
    "# def data_processing(sentence):\n",
    "#     sentence = sentence.lower()\n",
    "#     sentence = re.sub(r\"https\\S+|www\\S+http\\S+\", '', sentence, flags = re.MULTILINE)\n",
    "#     sentence = re.sub(r'\\@w+|\\#','', sentence)\n",
    "#     sentence = re.sub(r'[^\\w\\s]','',sentence)\n",
    "#     sentence = re.sub(r'ð','',sentence)\n",
    "#     # tweet_tokens = word_tokenize(sentence)\n",
    "#     filtered_tweets = [w for w in tweet_tokens if not w in stop_words]\n",
    "#     return \" \".join(filtered_tweets)"
   ]
  },
  {
   "cell_type": "code",
   "execution_count": 15,
   "id": "0d0f8b44",
   "metadata": {},
   "outputs": [],
   "source": [
    "# from bnlp import BasicTokenizer\n",
    "# from nltk.tokenize import word_tokenize\n",
    "# from nltk.corpus import stopwords\n",
    "# import nltk\n",
    "\n",
    "# def data_processing(sentence):\n",
    "#     # Convert the sentence to lowercase\n",
    "#     sentence = sentence.lower()\n",
    "    \n",
    "#     # Remove URLs\n",
    "#     sentence = re.sub(r\"https?\\S+|www\\S+http\\S+\", '', sentence, flags=re.MULTILINE)\n",
    "    \n",
    "#     # Remove @ and # symbols\n",
    "#     sentence = re.sub(r'\\@\\w+|\\#', '', sentence)\n",
    "    \n",
    "#     # Remove non-Bangla characters and digits\n",
    "#     sentence = re.sub(r'[^\\u0980-\\u09FF\\s]', '', sentence)\n",
    "    \n",
    "#     # Remove special character ð\n",
    "#     sentence = re.sub(r'ð', '', sentence)\n",
    "    \n",
    "#     # Remove extra whitespaces\n",
    "#     sentence = re.sub(r'\\s+', ' ', sentence)\n",
    "    \n",
    "#     # stop_words = set(stopwords.words('bengali'))\n",
    "#     # tweet_tokens = word_tokenize(sentence)\n",
    "#     # filtered_tweets = [w for w in tweet_tokens if not w in stop_words]\n",
    "#     # return \" \".join(filtered_tweets)\n",
    "    \n",
    "#     return sentence"
   ]
  },
  {
   "cell_type": "code",
   "execution_count": 16,
   "id": "841b5966",
   "metadata": {},
   "outputs": [],
   "source": [
    "# from bnlp import BasicTokenizer\n",
    "# from nltk.tokenize import word_tokenize\n",
    "# from nltk.corpus import stopwords\n",
    "# import nltk\n",
    "# import re\n",
    "\n",
    "# def data_processing(sentence):\n",
    "#     # Convert the sentence to lowercase\n",
    "#     sentence = sentence.lower()\n",
    "    \n",
    "#     # Remove URLs\n",
    "#     sentence = re.sub(r\"https?\\S+|www\\S+http\\S+\", '', sentence, flags=re.MULTILINE)\n",
    "    \n",
    "#     # Remove @ and # symbols\n",
    "#     sentence = re.sub(r'\\@\\w+|\\#', '', sentence)\n",
    "    \n",
    "#     # Remove non-Bangla characters and digits\n",
    "#     sentence = re.sub(r'[^\\u0980-\\u09FF\\s]', '', sentence)\n",
    "    \n",
    "#     # Remove special character ð\n",
    "#     sentence = re.sub(r'ð', '', sentence)\n",
    "    \n",
    "#     # Remove extra whitespaces\n",
    "#     sentence = re.sub(r'\\s+', ' ', sentence)\n",
    "    \n",
    "#     # Tokenize the sentence using NLTK's word_tokenize\n",
    "#     tweet_tokens = word_tokenize(sentence)\n",
    "    \n",
    "#     # Load Bengali stop words\n",
    "#     stop_words = set(stopwords.words('bengali'))\n",
    "    \n",
    "#     # Filter out stop words\n",
    "#     filtered_tweets = [w for w in tweet_tokens if not w in stop_words]\n",
    "    \n",
    "#     # Join the tokens back into a sentence\n",
    "#     return \" \".join(filtered_tweets)\n"
   ]
  },
  {
   "cell_type": "code",
   "execution_count": 17,
   "id": "49c0875f",
   "metadata": {},
   "outputs": [],
   "source": [
    "# from bnlp import BasicTokenizer\n",
    "# import re\n",
    "# from nltk.tokenize import word_tokenize\n",
    "# from nltk.corpus import stopwords\n",
    "# import nltk\n",
    "\n",
    "# # # Ensure that nltk is downloaded\n",
    "# # nltk.download('punkt')\n",
    "# # nltk.download('stopwords')\n",
    "\n",
    "# def data_processing(sentence):\n",
    "#     # Convert the sentence to lowercase\n",
    "#     sentence = sentence.lower()\n",
    "    \n",
    "#     # Remove URLs\n",
    "#     sentence = re.sub(r\"https?\\S+|www\\S+http\\S+\", '', sentence, flags=re.MULTILINE)\n",
    "    \n",
    "#     # Remove @ and # symbols\n",
    "#     sentence = re.sub(r'\\@\\w+|\\#', '', sentence)\n",
    "    \n",
    "#     # Remove non-Bangla characters and digits\n",
    "#     sentence = re.sub(r'[^\\u0980-\\u09FF\\s]', '', sentence)\n",
    "    \n",
    "#     # Remove special character ð\n",
    "#     sentence = re.sub(r'ð', '', sentence)\n",
    "    \n",
    "#     # Remove extra whitespaces\n",
    "#     sentence = re.sub(r'\\s+', ' ', sentence)\n",
    "    \n",
    "#     # Tokenize the sentence using NLTK's word_tokenize\n",
    "#     tweet_tokens = word_tokenize(sentence)\n",
    "    \n",
    "#     # Load Bengali stop words\n",
    "#     stop_words = set(stopwords.words('bengali'))\n",
    "    \n",
    "#     # Filter out stop words\n",
    "#     filtered_tweets = [w for w in tweet_tokens if not w in stop_words]\n",
    "    \n",
    "#     # Join the tokens back into a sentence\n",
    "#     return \" \".join(filtered_tweets)\n",
    "\n",
    "# # # Example usage\n",
    "# # sentence = \"আমি বাংলায় গান গাই।\"\n",
    "# # processed_text = data_processing(sentence)\n",
    "# # print(processed_text)\n"
   ]
  },
  {
   "cell_type": "code",
   "execution_count": 18,
   "id": "bc1c29b8",
   "metadata": {},
   "outputs": [],
   "source": [
    "# dataset.sentence = dataset['sentence'].apply(data_processing)"
   ]
  },
  {
   "cell_type": "code",
   "execution_count": 19,
   "id": "9bc52523",
   "metadata": {},
   "outputs": [],
   "source": [
    "# from bnlp import BasicTokenizer\n",
    "# tokenizer = BasicTokenizer()\n",
    "\n",
    "\n",
    "# tokens = tokenizer.tokenize(sentence)\n"
   ]
  },
  {
   "cell_type": "code",
   "execution_count": 20,
   "id": "018251e6",
   "metadata": {},
   "outputs": [],
   "source": [
    "# from bnlp import BasicTokenizer\n",
    "# from nltk.corpus import stopwords\n",
    "# import pandas as pd\n",
    "\n",
    "# # Initialize BasicTokenizer\n",
    "# tokenizer = BasicTokenizer()\n",
    "\n",
    "# # Load Bengali stop words\n",
    "# stop_words = set(stopwords.words('bengali'))\n",
    "\n",
    "\n",
    "\n",
    "# # Define your tokenization and stopword removal function\n",
    "# def tokenize_and_remove_stopwords(sentence):\n",
    "#     # Tokenize the sentence using BasicTokenizer\n",
    "#     tokens = tokenizer.tokenize(sentence)\n",
    "    \n",
    "#     # Remove stopwords\n",
    "#     tokens_without_stopwords = [token for token in tokens if token not in stop_words]\n",
    "    \n",
    "#     return tokens_without_stopwords\n",
    "\n",
    "# # Tokenize the entire 'sentence' column and remove stopwords\n",
    "# df['tokenized_sentence'] = df['sentence'].apply(tokenize_and_remove_stopwords)\n",
    "\n",
    "# # Display the DataFrame with tokenized sentences\n",
    "# print(df['tokenized_sentence'])\n"
   ]
  },
  {
   "cell_type": "code",
   "execution_count": 21,
   "id": "59d656ab",
   "metadata": {},
   "outputs": [
    {
     "name": "stdout",
     "output_type": "stream",
     "text": [
      "(40224, 6518)\n"
     ]
    }
   ],
   "source": [
    "from bnlp import BasicTokenizer\n",
    "from nltk.corpus import stopwords\n",
    "from sklearn.feature_extraction.text import TfidfVectorizer\n",
    "import pandas as pd\n",
    "import re\n",
    "\n",
    "# Initialize BasicTokenizer\n",
    "tokenizer = BasicTokenizer()\n",
    "\n",
    "# Load Bengali stop words\n",
    "stop_words = set(stopwords.words('bengali'))\n",
    "\n",
    "# Define your preprocessing function\n",
    "def preprocess_text(sentence):\n",
    "    # Convert the sentence to lowercase\n",
    "    sentence = sentence.lower()\n",
    "    \n",
    "    # Remove URLs\n",
    "    sentence = re.sub(r\"https?\\S+|www\\S+http\\S+\", '', sentence, flags=re.MULTILINE)\n",
    "    \n",
    "    # Remove @ and # symbols\n",
    "    sentence = re.sub(r'\\@\\w+|\\#', '', sentence)\n",
    "    \n",
    "    # Remove non-Bangla characters and digits\n",
    "    sentence = re.sub(r'[^\\u0980-\\u09FF\\s]', '', sentence)\n",
    "    \n",
    "    # Remove special character ð\n",
    "    sentence = re.sub(r'ð', '', sentence)\n",
    "    \n",
    "    # Remove extra whitespaces\n",
    "    sentence = re.sub(r'\\s+', ' ', sentence)\n",
    "    \n",
    "    return sentence\n",
    "\n",
    "# Define your tokenization and stopword removal function\n",
    "def tokenize_and_remove_stopwords(sentence):\n",
    "    # Tokenize the sentence using BasicTokenizer\n",
    "    tokens = tokenizer.tokenize(sentence)\n",
    "    \n",
    "    # Remove stopwords\n",
    "    tokens_without_stopwords = [token for token in tokens if token not in stop_words]\n",
    "    \n",
    "    return tokens_without_stopwords\n",
    "\n",
    "# Preprocess the entire 'sentence' column\n",
    "df['sentence'] = df['sentence'].apply(preprocess_text)\n",
    "\n",
    "# Tokenize and remove stopwords from the preprocessed sentences\n",
    "df['sentence'] = df['sentence'].apply(tokenize_and_remove_stopwords)\n",
    "\n",
    "# Convert tokenized sentences back to strings for TfidfVectorizer\n",
    "text = df['sentence'].apply(lambda x: ' '.join(x))\n",
    "\n",
    "# Initialize TfidfVectorizer with n-grams range (1,2)\n",
    "vect = TfidfVectorizer(ngram_range=(1,1)).fit(text)\n",
    "\n",
    "# Transform the tokenized sentences to TF-IDF vectors\n",
    "tfidf_matrix = vect.transform(text)\n",
    "\n",
    "# Print the TF-IDF matrix shape\n",
    "print(tfidf_matrix.shape)\n"
   ]
  },
  {
   "cell_type": "code",
   "execution_count": 22,
   "id": "510c7878",
   "metadata": {},
   "outputs": [
    {
     "data": {
      "text/plain": [
       "0                                       [ইন্দুর, তোই, মরছ]\n",
       "1        [গেবনের, শেষে, আইসা, মুখোশ, টা, খুলছে, এতেই, ম...\n",
       "2                      [মুরগি, চোরের, পাছায়, ডুকবি, মারবি]\n",
       "3        [১৮, কোটির, চোদা, খাওয়া, শেষে, ১৫০কোটির, চোদা,...\n",
       "4                        [২য়, মীর, জাফরের, মুখে, মুতে, দে]\n",
       "                               ...                        \n",
       "40219    [গানটা, ওয়াস, রুমে, গিয়েছিলাম, দেখি, আব্বু, লে...\n",
       "40220                              [হালকার, উপজেলা, ঝাপসা]\n",
       "40221                                                   []\n",
       "40222                                [পুরাই, আগুনের, গুলা]\n",
       "40223                                        [মজা, পাইলাম]\n",
       "Name: sentence, Length: 40224, dtype: object"
      ]
     },
     "execution_count": 22,
     "metadata": {},
     "output_type": "execute_result"
    }
   ],
   "source": [
    "df['sentence']\n"
   ]
  },
  {
   "cell_type": "code",
   "execution_count": 23,
   "id": "9e30caa3",
   "metadata": {},
   "outputs": [],
   "source": [
    "# lemmatizer = WordNetLemmatizer()\n",
    "# def lemmatizing(data):\n",
    "#     sentence = [lemmatizer.lemmatize(word) for word in data]\n",
    "#     return data"
   ]
  },
  {
   "cell_type": "code",
   "execution_count": 24,
   "id": "c7a8947a",
   "metadata": {},
   "outputs": [],
   "source": [
    "# dataset['sentence'] = dataset['sentence'].apply(lambda x: lemmatizing(x))"
   ]
  },
  {
   "cell_type": "code",
   "execution_count": 25,
   "id": "e56d4058",
   "metadata": {},
   "outputs": [
    {
     "name": "stdout",
     "output_type": "stream",
     "text": [
      "['ইন্দুর', 'তোই', 'মরছ'] \n",
      "\n",
      "['গেবনের', 'শেষে', 'আইসা', 'মুখোশ', 'টা', 'খুলছে', 'এতেই', 'মহাখুশী', 'হ', 'হ', 'বমি', 'দেখলে', 'মূত্রত্যাগেই', 'আপনাকে', 'দিব', 'গু', 'দক্ষিনা'] \n",
      "\n",
      "['মুরগি', 'চোরের', 'পাছায়', 'ডুকবি', 'মারবি'] \n",
      "\n",
      "['১৮', 'কোটির', 'চোদা', 'খাওয়া', 'শেষে', '১৫০কোটির', 'চোদা', 'খাবে', 'মিথিলা'] \n",
      "\n",
      "['২য়', 'মীর', 'জাফরের', 'মুখে', 'মুতে', 'দে'] \n",
      "\n"
     ]
    }
   ],
   "source": [
    "print(df['sentence'].iloc[0],\"\\n\")\n",
    "print(df['sentence'].iloc[1],\"\\n\")\n",
    "print(df['sentence'].iloc[2],\"\\n\")\n",
    "print(df['sentence'].iloc[3],\"\\n\")\n",
    "print(df['sentence'].iloc[4],\"\\n\")"
   ]
  },
  {
   "cell_type": "code",
   "execution_count": 26,
   "id": "2bb1bb7e",
   "metadata": {},
   "outputs": [],
   "source": [
    "# non_hate_tweets = dataset[dataset['hate speech'] == 0]\n",
    "# non_hate_tweets.head()"
   ]
  },
  {
   "cell_type": "code",
   "execution_count": 27,
   "id": "50e82048",
   "metadata": {},
   "outputs": [
    {
     "data": {
      "text/plain": [
       "sentence       0\n",
       "hate speech    0\n",
       "dtype: int64"
      ]
     },
     "execution_count": 27,
     "metadata": {},
     "output_type": "execute_result"
    }
   ],
   "source": [
    "df.isnull().sum()"
   ]
  },
  {
   "cell_type": "code",
   "execution_count": 28,
   "id": "36aeea8b",
   "metadata": {},
   "outputs": [],
   "source": [
    "# dataset.drop(dataset.isnull().index, inplace=True)"
   ]
  },
  {
   "cell_type": "code",
   "execution_count": 29,
   "id": "efad63f1",
   "metadata": {},
   "outputs": [],
   "source": [
    "# dataset[dataset['target'].isnull()]"
   ]
  },
  {
   "cell_type": "code",
   "execution_count": 30,
   "id": "42eb94f8",
   "metadata": {},
   "outputs": [],
   "source": [
    "# dataset.drop(dataset[dataset['type'].isnull()].index, inplace=True)"
   ]
  },
  {
   "cell_type": "code",
   "execution_count": 31,
   "id": "3df837f3",
   "metadata": {},
   "outputs": [
    {
     "data": {
      "text/plain": [
       "hate speech\n",
       "0    20900\n",
       "1    19324\n",
       "Name: count, dtype: int64"
      ]
     },
     "execution_count": 31,
     "metadata": {},
     "output_type": "execute_result"
    }
   ],
   "source": [
    "df['hate speech'].value_counts()"
   ]
  },
  {
   "cell_type": "code",
   "execution_count": 32,
   "id": "2296a522",
   "metadata": {},
   "outputs": [
    {
     "data": {
      "text/html": [
       "<div>\n",
       "<style scoped>\n",
       "    .dataframe tbody tr th:only-of-type {\n",
       "        vertical-align: middle;\n",
       "    }\n",
       "\n",
       "    .dataframe tbody tr th {\n",
       "        vertical-align: top;\n",
       "    }\n",
       "\n",
       "    .dataframe thead th {\n",
       "        text-align: right;\n",
       "    }\n",
       "</style>\n",
       "<table border=\"1\" class=\"dataframe\">\n",
       "  <thead>\n",
       "    <tr style=\"text-align: right;\">\n",
       "      <th></th>\n",
       "      <th>sentence</th>\n",
       "      <th>hate speech</th>\n",
       "    </tr>\n",
       "  </thead>\n",
       "  <tbody>\n",
       "    <tr>\n",
       "      <th>0</th>\n",
       "      <td>[ইন্দুর, তোই, মরছ]</td>\n",
       "      <td>1</td>\n",
       "    </tr>\n",
       "    <tr>\n",
       "      <th>1</th>\n",
       "      <td>[গেবনের, শেষে, আইসা, মুখোশ, টা, খুলছে, এতেই, ম...</td>\n",
       "      <td>1</td>\n",
       "    </tr>\n",
       "    <tr>\n",
       "      <th>2</th>\n",
       "      <td>[মুরগি, চোরের, পাছায়, ডুকবি, মারবি]</td>\n",
       "      <td>1</td>\n",
       "    </tr>\n",
       "    <tr>\n",
       "      <th>3</th>\n",
       "      <td>[১৮, কোটির, চোদা, খাওয়া, শেষে, ১৫০কোটির, চোদা,...</td>\n",
       "      <td>1</td>\n",
       "    </tr>\n",
       "    <tr>\n",
       "      <th>4</th>\n",
       "      <td>[২য়, মীর, জাফরের, মুখে, মুতে, দে]</td>\n",
       "      <td>1</td>\n",
       "    </tr>\n",
       "  </tbody>\n",
       "</table>\n",
       "</div>"
      ],
      "text/plain": [
       "                                            sentence  hate speech\n",
       "0                                 [ইন্দুর, তোই, মরছ]            1\n",
       "1  [গেবনের, শেষে, আইসা, মুখোশ, টা, খুলছে, এতেই, ম...            1\n",
       "2                [মুরগি, চোরের, পাছায়, ডুকবি, মারবি]            1\n",
       "3  [১৮, কোটির, চোদা, খাওয়া, শেষে, ১৫০কোটির, চোদা,...            1\n",
       "4                  [২য়, মীর, জাফরের, মুখে, মুতে, দে]            1"
      ]
     },
     "execution_count": 32,
     "metadata": {},
     "output_type": "execute_result"
    }
   ],
   "source": [
    "hate_tweets = df[df['hate speech'] == 1]\n",
    "hate_tweets.head()"
   ]
  },
  {
   "cell_type": "code",
   "execution_count": 54,
   "id": "a2e19f90",
   "metadata": {},
   "outputs": [
    {
     "data": {
      "text/html": [
       "<div>\n",
       "<style scoped>\n",
       "    .dataframe tbody tr th:only-of-type {\n",
       "        vertical-align: middle;\n",
       "    }\n",
       "\n",
       "    .dataframe tbody tr th {\n",
       "        vertical-align: top;\n",
       "    }\n",
       "\n",
       "    .dataframe thead th {\n",
       "        text-align: right;\n",
       "    }\n",
       "</style>\n",
       "<table border=\"1\" class=\"dataframe\">\n",
       "  <thead>\n",
       "    <tr style=\"text-align: right;\">\n",
       "      <th></th>\n",
       "      <th>sentence</th>\n",
       "      <th>hate speech</th>\n",
       "    </tr>\n",
       "  </thead>\n",
       "  <tbody>\n",
       "    <tr>\n",
       "      <th>19324</th>\n",
       "      <td>[ঃ, ভাইয়া, হাসতে, হাসতে, পেটে, ব্যথা, হয়ে]</td>\n",
       "      <td>0</td>\n",
       "    </tr>\n",
       "    <tr>\n",
       "      <th>19325</th>\n",
       "      <td>[ঃ, রিফাত, বিশ্বাস, লোকটা, কেশুনছিলাম, রিফাতএখ...</td>\n",
       "      <td>0</td>\n",
       "    </tr>\n",
       "    <tr>\n",
       "      <th>19326</th>\n",
       "      <td>[খালেদা, জিয়ার, ৩৯, তম, জন্মদিন, ১৯৭৫, সালের, ...</td>\n",
       "      <td>0</td>\n",
       "    </tr>\n",
       "    <tr>\n",
       "      <th>19327</th>\n",
       "      <td>[মজা, পাইলাম, শেখ, হাসিনার, পা, চাটা, গোলাম]</td>\n",
       "      <td>0</td>\n",
       "    </tr>\n",
       "    <tr>\n",
       "      <th>19328</th>\n",
       "      <td>[সময়, দেখেন, কুপানো, শেষ, তাকিয়ে, কোথায়, ্্্্]</td>\n",
       "      <td>0</td>\n",
       "    </tr>\n",
       "  </tbody>\n",
       "</table>\n",
       "</div>"
      ],
      "text/plain": [
       "                                                sentence  hate speech\n",
       "19324         [ঃ, ভাইয়া, হাসতে, হাসতে, পেটে, ব্যথা, হয়ে]            0\n",
       "19325  [ঃ, রিফাত, বিশ্বাস, লোকটা, কেশুনছিলাম, রিফাতএখ...            0\n",
       "19326  [খালেদা, জিয়ার, ৩৯, তম, জন্মদিন, ১৯৭৫, সালের, ...            0\n",
       "19327       [মজা, পাইলাম, শেখ, হাসিনার, পা, চাটা, গোলাম]            0\n",
       "19328     [সময়, দেখেন, কুপানো, শেষ, তাকিয়ে, কোথায়, ্্্্]            0"
      ]
     },
     "execution_count": 54,
     "metadata": {},
     "output_type": "execute_result"
    }
   ],
   "source": [
    "non_hate_tweets = df[df['hate speech'] == 0]\n",
    "non_hate_tweets.head()"
   ]
  },
  {
   "cell_type": "code",
   "execution_count": 34,
   "id": "76bac1bb",
   "metadata": {},
   "outputs": [],
   "source": [
    "# from sklearn.feature_extraction.text import TfidfVectorizer\n",
    "# import pandas as pd\n",
    "\n",
    "# # Assuming you have tokenized sentences stored in the 'tokenized_sentence' column of your DataFrame\n",
    "\n",
    "# # Define your DataFrame\n",
    "\n",
    "# df = pd.DataFrame(df['tokenized_sentence'])\n",
    "\n",
    "# # Convert tokenized sentences back to string for TfidfVectorizer\n",
    "# text = df['tokenized_sentence'].apply(lambda x: ' '.join(x))\n",
    "\n",
    "# # Initialize TfidfVectorizer with n-grams range (1,2)\n",
    "# vect = TfidfVectorizer(ngram_range=(1,2)).fit(text)\n",
    "\n",
    "# # Transform the tokenized sentences to TF-IDF vectors\n",
    "# tfidf_matrix = vect.transform(text)\n",
    "\n",
    "# # Print the TF-IDF matrix shape\n",
    "# print(tfidf_matrix.shape)\n"
   ]
  },
  {
   "cell_type": "code",
   "execution_count": 35,
   "id": "1039ce51",
   "metadata": {},
   "outputs": [],
   "source": [
    "# vect = TfidfVectorizer(ngram_range=(1,2)).fit(df['tokenized_sentence'])"
   ]
  },
  {
   "cell_type": "code",
   "execution_count": 36,
   "metadata": {},
   "outputs": [
    {
     "data": {
      "text/plain": [
       "Index(['sentence', 'hate speech'], dtype='object')"
      ]
     },
     "execution_count": 36,
     "metadata": {},
     "output_type": "execute_result"
    }
   ],
   "source": [
    "df.columns"
   ]
  },
  {
   "cell_type": "code",
   "execution_count": null,
   "id": "9491b196",
   "metadata": {},
   "outputs": [],
   "source": []
  },
  {
   "cell_type": "code",
   "execution_count": 37,
   "id": "23b50c00",
   "metadata": {},
   "outputs": [
    {
     "name": "stdout",
     "output_type": "stream",
     "text": [
      "Number of features: 6518\n",
      "\n",
      "First 200 features: \n",
      "['অঅল' 'অআ' 'অআল' 'অই' 'অইখ' 'অইগ' 'অইছ' 'অইছত' 'অইট' 'অইদ' 'অইন' 'অইব'\n",
      " 'অইল' 'অইশ' 'অইসব' 'অইসল' 'অউচ' 'অও' 'অওও' 'অওক' 'অওন' 'অক' 'অকট' 'অকথ'\n",
      " 'অকর' 'অকল' 'অকলর' 'অখ' 'অখখম' 'অখন' 'অখল' 'অগ' 'অগচর' 'অগটন' 'অগণ' 'অগন'\n",
      " 'অগর' 'অগল' 'অঘ' 'অঘটন' 'অঘটনও' 'অঙ' 'অঙস' 'অচ' 'অচক' 'অচল' 'অচলক' 'অচলপ'\n",
      " 'অছ' 'অছমম' 'অজ' 'অজগ' 'অজজ' 'অজথ' 'অজধ' 'অজন' 'অজম' 'অঝ' 'অঝর' 'অঞ' 'অট'\n",
      " 'অটল' 'অড' 'অডম' 'অণ' 'অত' 'অতএবত' 'অতচ' 'অতচয়' 'অতছ' 'অতট' 'অতন' 'অতপর'\n",
      " 'অতব' 'অথ' 'অথচ' 'অথছ' 'অথব' 'অদ' 'অদভ' 'অদভদ' 'অদম' 'অধ' 'অধপত' 'অধপতন'\n",
      " 'অধম' 'অধমতর' 'অধর' 'অন' 'অনইত' 'অনক' 'অনজ' 'অনতর' 'অনধ' 'অনন' 'অনপ'\n",
      " 'অনবদ' 'অনবরত' 'অনর' 'অনরগল' 'অনল' 'অনশন' 'অনষ' 'অপ' 'অপক' 'অপকর' 'অপকরম'\n",
      " 'অপচ' 'অপচয' 'অপচয়' 'অপছন' 'অপজ' 'অপট' 'অপত' 'অপদ' 'অপদস' 'অপন' 'অপপ'\n",
      " 'অপপঅপপ' 'অপব' 'অপবব' 'অপভ' 'অপম' 'অপর' 'অপরক' 'অপরদ' 'অপরপক' 'অপশ'\n",
      " 'অপশও' 'অপশক' 'অপশন' 'অপস' 'অপৱ' 'অফ' 'অফফফফফফফ' 'অফর' 'অফস' 'অব' 'অবইদ'\n",
      " 'অবওস' 'অবক' 'অবগত' 'অবচত' 'অবজ' 'অবড' 'অবত' 'অবতল' 'অবদ' 'অবধ' 'অবনত'\n",
      " 'অবভ' 'অবম' 'অবর' 'অবরধ' 'অবল' 'অবলম' 'অবশ' 'অবশই' 'অবস' 'অবসই' 'অবসত'\n",
      " 'অবসথ' 'অবসর' 'অবসসই' 'অবহ' 'অবয়' 'অবয়দ' 'অভ' 'অভদ' 'অভয' 'অম' 'অমঙ'\n",
      " 'অমন' 'অমর' 'অমরত' 'অমল' 'অয' 'অযথ' 'অর' 'অরজ' 'অরজগত' 'অরজন' 'অরস' 'অল'\n",
      " 'অলআউট' 'অলওয়' 'অলক' 'অলট' 'অলপ' 'অলর' 'অশ' 'অশঙ' 'অষ' 'অস' 'অসক' 'অসখ'\n",
      " 'অসজ' 'অসত' 'অসতর' 'অসন']\n"
     ]
    }
   ],
   "source": [
    "feature_names = vect.get_feature_names_out()\n",
    "print(\"Number of features: {}\\n\".format(len(feature_names)))\n",
    "print(\"First 200 features: \\n{}\".format(feature_names[:200]))\n"
   ]
  },
  {
   "cell_type": "code",
   "execution_count": 38,
   "id": "6875b028",
   "metadata": {},
   "outputs": [
    {
     "name": "stdout",
     "output_type": "stream",
     "text": [
      "TF-IDF values for the first document:\n",
      "Feature: ইন, TF-IDF value: 0.48591190440277\n",
      "Feature: মরছ, TF-IDF value: 0.8740077923907048\n"
     ]
    }
   ],
   "source": [
    "# Assuming you have defined feature_names and tfidf_matrix\n",
    "\n",
    "# Get the TF-IDF vector for the first document\n",
    "tfidf_vector = tfidf_matrix[0].toarray()[0]\n",
    "\n",
    "# Print features along with their TF-IDF values for the first document\n",
    "print(\"TF-IDF values for the first document:\")\n",
    "for feature_idx, feature_name in enumerate(feature_names):\n",
    "    tfidf_value = tfidf_vector[feature_idx]  # Get TF-IDF value for the first document\n",
    "    if tfidf_value != 0:\n",
    "        print(f\"Feature: {feature_name}, TF-IDF value: {tfidf_value}\")\n"
   ]
  },
  {
   "cell_type": "code",
   "execution_count": 39,
   "id": "a87db302",
   "metadata": {},
   "outputs": [],
   "source": [
    "from sklearn.feature_extraction.text import TfidfVectorizer\n",
    "\n",
    "# Assuming you have already defined df, dataset, and vect\n",
    "\n",
    "# Get tokenized sentences from DataFrame\n",
    "tokenized_sentences = df['sentence']\n",
    "\n",
    "# Convert tokenized sentences to strings\n",
    "text_documents = [' '.join(tokens) for tokens in tokenized_sentences]\n",
    "\n",
    "# Get labels from dataset DataFrame\n",
    "Y = df['hate speech']\n",
    "\n",
    "# Transform tokenized sentences into TF-IDF vectors\n",
    "X = vect.transform(text_documents)\n"
   ]
  },
  {
   "cell_type": "code",
   "execution_count": 40,
   "id": "69893b6f",
   "metadata": {},
   "outputs": [],
   "source": [
    "x_train, x_test, y_train, y_test = train_test_split(X, Y, test_size=0.2, random_state=42)"
   ]
  },
  {
   "cell_type": "code",
   "execution_count": 41,
   "id": "de1f9eeb",
   "metadata": {},
   "outputs": [
    {
     "name": "stdout",
     "output_type": "stream",
     "text": [
      "Size of x_train: (32179, 6518)\n",
      "Size of y_train: (32179,)\n",
      "Size of x_test:  (8045, 6518)\n",
      "Size of y_test:  (8045,)\n"
     ]
    }
   ],
   "source": [
    "print(\"Size of x_train:\", (x_train.shape))\n",
    "print(\"Size of y_train:\", (y_train.shape))\n",
    "print(\"Size of x_test: \", (x_test.shape))\n",
    "print(\"Size of y_test: \", (y_test.shape))"
   ]
  },
  {
   "cell_type": "code",
   "execution_count": 42,
   "id": "38d7ccde",
   "metadata": {},
   "outputs": [
    {
     "name": "stdout",
     "output_type": "stream",
     "text": [
      "Test accuarcy: 67.30%\n"
     ]
    }
   ],
   "source": [
    "logreg = LogisticRegression()\n",
    "logreg.fit(x_train, y_train)\n",
    "logreg_predict = logreg.predict(x_test)\n",
    "logreg_acc = accuracy_score(logreg_predict, y_test)\n",
    "print(\"Test accuarcy: {:.2f}%\".format(logreg_acc*100))"
   ]
  },
  {
   "cell_type": "code",
   "execution_count": 43,
   "id": "b9340e8c",
   "metadata": {},
   "outputs": [
    {
     "name": "stdout",
     "output_type": "stream",
     "text": [
      "[[3218  912]\n",
      " [1719 2196]]\n",
      "\n",
      "\n",
      "              precision    recall  f1-score   support\n",
      "\n",
      "           0       0.65      0.78      0.71      4130\n",
      "           1       0.71      0.56      0.63      3915\n",
      "\n",
      "    accuracy                           0.67      8045\n",
      "   macro avg       0.68      0.67      0.67      8045\n",
      "weighted avg       0.68      0.67      0.67      8045\n",
      "\n"
     ]
    }
   ],
   "source": [
    "print(confusion_matrix(y_test, logreg_predict))\n",
    "print(\"\\n\")\n",
    "print(classification_report(y_test, logreg_predict))"
   ]
  },
  {
   "cell_type": "code",
   "execution_count": 44,
   "id": "1622b390",
   "metadata": {},
   "outputs": [
    {
     "data": {
      "text/plain": [
       "<sklearn.metrics._plot.confusion_matrix.ConfusionMatrixDisplay at 0x1266ab67990>"
      ]
     },
     "execution_count": 44,
     "metadata": {},
     "output_type": "execute_result"
    },
    {
     "data": {
      "image/png": "[encoded data removed]",
      "text/plain": [
       "<Figure size 640x480 with 2 Axes>"
      ]
     },
     "metadata": {},
     "output_type": "display_data"
    }
   ],
   "source": [
    "style.use('classic')\n",
    "cm = confusion_matrix(y_test, logreg_predict, labels=logreg.classes_)\n",
    "disp = ConfusionMatrixDisplay(confusion_matrix=cm, display_labels=logreg.classes_)\n",
    "disp.plot()"
   ]
  },
  {
   "cell_type": "code",
   "execution_count": 45,
   "id": "49e636b9",
   "metadata": {},
   "outputs": [],
   "source": [
    "from sklearn.model_selection import GridSearchCV\n"
   ]
  },
  {
   "cell_type": "code",
   "execution_count": 46,
   "id": "bdd9472c",
   "metadata": {},
   "outputs": [
    {
     "name": "stdout",
     "output_type": "stream",
     "text": [
      "Best Cross validation score: 0.69\n",
      "Best parameters:  {'C': 1.0, 'solver': 'lbfgs'}\n"
     ]
    }
   ],
   "source": [
    "param_grid = {'C':[100, 10, 1.0, 0.1, 0.01], 'solver' :['newton-cg', 'lbfgs','liblinear']}\n",
    "grid = GridSearchCV(LogisticRegression(), param_grid, cv = 5)\n",
    "grid.fit(x_train, y_train)\n",
    "print(\"Best Cross validation score: {:.2f}\".format(grid.best_score_))\n",
    "print(\"Best parameters: \", grid.best_params_)"
   ]
  },
  {
   "cell_type": "code",
   "execution_count": 47,
   "id": "9f265768",
   "metadata": {},
   "outputs": [],
   "source": [
    "y_pred = grid.predict(x_test)"
   ]
  },
  {
   "cell_type": "code",
   "execution_count": 48,
   "id": "478311cf",
   "metadata": {},
   "outputs": [
    {
     "name": "stdout",
     "output_type": "stream",
     "text": [
      "Test accuracy: 67.30%\n"
     ]
    }
   ],
   "source": [
    "logreg_acc = accuracy_score(y_pred, y_test)\n",
    "print(\"Test accuracy: {:.2f}%\".format(logreg_acc*100))"
   ]
  },
  {
   "cell_type": "code",
   "execution_count": 49,
   "id": "c3044327",
   "metadata": {},
   "outputs": [
    {
     "name": "stdout",
     "output_type": "stream",
     "text": [
      "[[3218  912]\n",
      " [1719 2196]]\n",
      "\n",
      "\n",
      "              precision    recall  f1-score   support\n",
      "\n",
      "           0       0.65      0.78      0.71      4130\n",
      "           1       0.71      0.56      0.63      3915\n",
      "\n",
      "    accuracy                           0.67      8045\n",
      "   macro avg       0.68      0.67      0.67      8045\n",
      "weighted avg       0.68      0.67      0.67      8045\n",
      "\n"
     ]
    }
   ],
   "source": [
    "print(confusion_matrix(y_test, y_pred))\n",
    "print(\"\\n\")\n",
    "print(classification_report(y_test, y_pred))"
   ]
  },
  {
   "cell_type": "code",
   "execution_count": 52,
   "id": "a61db2c6",
   "metadata": {},
   "outputs": [
    {
     "data": {
      "text/html": [
       "<style>#sk-container-id-1 {color: black;}#sk-container-id-1 pre{padding: 0;}#sk-container-id-1 div.sk-toggleable {background-color: white;}#sk-container-id-1 label.sk-toggleable__label {cursor: pointer;display: block;width: 100%;margin-bottom: 0;padding: 0.3em;box-sizing: border-box;text-align: center;}#sk-container-id-1 label.sk-toggleable__label-arrow:before {content: \"▸\";float: left;margin-right: 0.25em;color: #696969;}#sk-container-id-1 label.sk-toggleable__label-arrow:hover:before {color: black;}#sk-container-id-1 div.sk-estimator:hover label.sk-toggleable__label-arrow:before {color: black;}#sk-container-id-1 div.sk-toggleable__content {max-height: 0;max-width: 0;overflow: hidden;text-align: left;background-color: #f0f8ff;}#sk-container-id-1 div.sk-toggleable__content pre {margin: 0.2em;color: black;border-radius: 0.25em;background-color: #f0f8ff;}#sk-container-id-1 input.sk-toggleable__control:checked~div.sk-toggleable__content {max-height: 200px;max-width: 100%;overflow: auto;}#sk-container-id-1 input.sk-toggleable__control:checked~label.sk-toggleable__label-arrow:before {content: \"▾\";}#sk-container-id-1 div.sk-estimator input.sk-toggleable__control:checked~label.sk-toggleable__label {background-color: #d4ebff;}#sk-container-id-1 div.sk-label input.sk-toggleable__control:checked~label.sk-toggleable__label {background-color: #d4ebff;}#sk-container-id-1 input.sk-hidden--visually {border: 0;clip: rect(1px 1px 1px 1px);clip: rect(1px, 1px, 1px, 1px);height: 1px;margin: -1px;overflow: hidden;padding: 0;position: absolute;width: 1px;}#sk-container-id-1 div.sk-estimator {font-family: monospace;background-color: #f0f8ff;border: 1px dotted black;border-radius: 0.25em;box-sizing: border-box;margin-bottom: 0.5em;}#sk-container-id-1 div.sk-estimator:hover {background-color: #d4ebff;}#sk-container-id-1 div.sk-parallel-item::after {content: \"\";width: 100%;border-bottom: 1px solid gray;flex-grow: 1;}#sk-container-id-1 div.sk-label:hover label.sk-toggleable__label {background-color: #d4ebff;}#sk-container-id-1 div.sk-serial::before {content: \"\";position: absolute;border-left: 1px solid gray;box-sizing: border-box;top: 0;bottom: 0;left: 50%;z-index: 0;}#sk-container-id-1 div.sk-serial {display: flex;flex-direction: column;align-items: center;background-color: white;padding-right: 0.2em;padding-left: 0.2em;position: relative;}#sk-container-id-1 div.sk-item {position: relative;z-index: 1;}#sk-container-id-1 div.sk-parallel {display: flex;align-items: stretch;justify-content: center;background-color: white;position: relative;}#sk-container-id-1 div.sk-item::before, #sk-container-id-1 div.sk-parallel-item::before {content: \"\";position: absolute;border-left: 1px solid gray;box-sizing: border-box;top: 0;bottom: 0;left: 50%;z-index: -1;}#sk-container-id-1 div.sk-parallel-item {display: flex;flex-direction: column;z-index: 1;position: relative;background-color: white;}#sk-container-id-1 div.sk-parallel-item:first-child::after {align-self: flex-end;width: 50%;}#sk-container-id-1 div.sk-parallel-item:last-child::after {align-self: flex-start;width: 50%;}#sk-container-id-1 div.sk-parallel-item:only-child::after {width: 0;}#sk-container-id-1 div.sk-dashed-wrapped {border: 1px dashed gray;margin: 0 0.4em 0.5em 0.4em;box-sizing: border-box;padding-bottom: 0.4em;background-color: white;}#sk-container-id-1 div.sk-label label {font-family: monospace;font-weight: bold;display: inline-block;line-height: 1.2em;}#sk-container-id-1 div.sk-label-container {text-align: center;}#sk-container-id-1 div.sk-container {/* jupyter's `normalize.less` sets `[hidden] { display: none; }` but bootstrap.min.css set `[hidden] { display: none !important; }` so we also need the `!important` here to be able to override the default hidden behavior on the sphinx rendered scikit-learn.org. See: https://github.com/scikit-learn/scikit-learn/issues/21755 */display: inline-block !important;position: relative;}#sk-container-id-1 div.sk-text-repr-fallback {display: none;}</style><div id=\"sk-container-id-1\" class=\"sk-top-container\"><div class=\"sk-text-repr-fallback\"><pre>SVC(kernel=&#x27;linear&#x27;)</pre><b>In a Jupyter environment, please rerun this cell to show the HTML representation or trust the notebook. <br />On GitHub, the HTML representation is unable to render, please try loading this page with nbviewer.org.</b></div><div class=\"sk-container\" hidden><div class=\"sk-item\"><div class=\"sk-estimator sk-toggleable\"><input class=\"sk-toggleable__control sk-hidden--visually\" id=\"sk-estimator-id-1\" type=\"checkbox\" checked><label for=\"sk-estimator-id-1\" class=\"sk-toggleable__label sk-toggleable__label-arrow\">SVC</label><div class=\"sk-toggleable__content\"><pre>SVC(kernel=&#x27;linear&#x27;)</pre></div></div></div></div></div>"
      ],
      "text/plain": [
       "SVC(kernel='linear')"
      ]
     },
     "execution_count": 52,
     "metadata": {},
     "output_type": "execute_result"
    }
   ],
   "source": [
    "svm_model = SVC(kernel='linear')\n",
    "svm_model.fit(x_train, y_train)"
   ]
  },
  {
   "cell_type": "code",
   "execution_count": 53,
   "id": "ea91ee1d",
   "metadata": {},
   "outputs": [
    {
     "name": "stdout",
     "output_type": "stream",
     "text": [
      "Accuracy: 0.6756991920447483\n",
      "Classification Report:\n",
      "              precision    recall  f1-score   support\n",
      "\n",
      "           0       0.65      0.80      0.72      4130\n",
      "           1       0.72      0.55      0.62      3915\n",
      "\n",
      "    accuracy                           0.68      8045\n",
      "   macro avg       0.68      0.67      0.67      8045\n",
      "weighted avg       0.68      0.68      0.67      8045\n",
      "\n"
     ]
    }
   ],
   "source": [
    "y_pred = svm_model.predict(x_test)\n",
    "\n",
    "# Evaluation\n",
    "accuracy = accuracy_score(y_test, y_pred)\n",
    "print(\"Accuracy:\", accuracy)\n",
    "print(\"Classification Report:\")\n",
    "print(classification_report(y_test, y_pred))"
   ]
  },
  {
   "cell_type": "code",
   "execution_count": 58,
   "id": "d3df7840",
   "metadata": {},
   "outputs": [
    {
     "name": "stdout",
     "output_type": "stream",
     "text": [
      "Accuracy: 0.6737103791174642\n",
      "Classification Report:\n",
      "              precision    recall  f1-score   support\n",
      "\n",
      "           0       0.68      0.68      0.68      4130\n",
      "           1       0.67      0.66      0.66      3915\n",
      "\n",
      "    accuracy                           0.67      8045\n",
      "   macro avg       0.67      0.67      0.67      8045\n",
      "weighted avg       0.67      0.67      0.67      8045\n",
      "\n"
     ]
    }
   ],
   "source": [
    "from sklearn.ensemble import RandomForestClassifier\n",
    "\n",
    "clf = RandomForestClassifier(n_estimators=100, random_state=42)\n",
    "\n",
    "# Train the classifier on the training data\n",
    "clf.fit(x_train, y_train)\n",
    "\n",
    "# Predict the labels for the test data\n",
    "y_pred = clf.predict(x_test)\n",
    "\n",
    "# Evaluate the model\n",
    "accuracy = accuracy_score(y_test, y_pred)\n",
    "print(\"Accuracy:\", accuracy)\n",
    "\n",
    "# Print classification report\n",
    "print(\"Classification Report:\")\n",
    "print(classification_report(y_test, y_pred))\n"
   ]
  }
 ],
 "metadata": {
  "kernelspec": {
   "display_name": "Python 3 (ipykernel)",
   "language": "python",
   "name": "python3"
  },
  "language_info": {
   "codemirror_mode": {
    "name": "ipython",
    "version": 3
   },
   "file_extension": ".py",
   "mimetype": "text/x-python",
   "name": "python",
   "nbconvert_exporter": "python",
   "pygments_lexer": "ipython3",
   "version": "3.11.5"
  }
 },
 "nbformat": 4,
 "nbformat_minor": 5
}
