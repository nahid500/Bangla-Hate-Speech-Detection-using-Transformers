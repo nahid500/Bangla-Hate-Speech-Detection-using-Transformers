{
 "cells": [
  {
   "cell_type": "code",
   "execution_count": 1,
   "metadata": {},
   "outputs": [
    {
     "name": "stdout",
     "output_type": "stream",
     "text": [
      "Requirement already satisfied: bnlp_toolkit in c:\\users\\user\\anaconda3\\lib\\site-packages (4.0.1)\n",
      "Requirement already satisfied: sentencepiece==0.2.0 in c:\\users\\user\\anaconda3\\lib\\site-packages (from bnlp_toolkit) (0.2.0)\n",
      "Requirement already satisfied: gensim==4.3.2 in c:\\users\\user\\anaconda3\\lib\\site-packages (from bnlp_toolkit) (4.3.2)\n",
      "Requirement already satisfied: nltk==3.8.1 in c:\\users\\user\\anaconda3\\lib\\site-packages (from bnlp_toolkit) (3.8.1)\n",
      "Requirement already satisfied: numpy in c:\\users\\user\\anaconda3\\lib\\site-packages (from bnlp_toolkit) (1.26.4)\n",
      "Requirement already satisfied: scipy==1.10.1 in c:\\users\\user\\anaconda3\\lib\\site-packages (from bnlp_toolkit) (1.10.1)\n",
      "Requirement already satisfied: sklearn-crfsuite==0.3.6 in c:\\users\\user\\anaconda3\\lib\\site-packages (from bnlp_toolkit) (0.3.6)\n",
      "Requirement already satisfied: tqdm==4.66.3 in c:\\users\\user\\anaconda3\\lib\\site-packages (from bnlp_toolkit) (4.66.3)\n",
      "Requirement already satisfied: ftfy==6.2.0 in c:\\users\\user\\anaconda3\\lib\\site-packages (from bnlp_toolkit) (6.2.0)\n",
      "Requirement already satisfied: emoji==1.7.0 in c:\\users\\user\\anaconda3\\lib\\site-packages (from bnlp_toolkit) (1.7.0)\n",
      "Requirement already satisfied: requests in c:\\users\\user\\anaconda3\\lib\\site-packages (from bnlp_toolkit) (2.31.0)\n",
      "Requirement already satisfied: wcwidth<0.3.0,>=0.2.12 in c:\\users\\user\\anaconda3\\lib\\site-packages (from ftfy==6.2.0->bnlp_toolkit) (0.2.13)\n",
      "Requirement already satisfied: smart-open>=1.8.1 in c:\\users\\user\\anaconda3\\lib\\site-packages (from gensim==4.3.2->bnlp_toolkit) (5.2.1)\n",
      "Requirement already satisfied: click in c:\\users\\user\\anaconda3\\lib\\site-packages (from nltk==3.8.1->bnlp_toolkit) (8.1.7)\n",
      "Requirement already satisfied: joblib in c:\\users\\user\\anaconda3\\lib\\site-packages (from nltk==3.8.1->bnlp_toolkit) (1.2.0)\n",
      "Requirement already satisfied: regex>=2021.8.3 in c:\\users\\user\\anaconda3\\lib\\site-packages (from nltk==3.8.1->bnlp_toolkit) (2022.7.9)\n",
      "Requirement already satisfied: python-crfsuite>=0.8.3 in c:\\users\\user\\anaconda3\\lib\\site-packages (from sklearn-crfsuite==0.3.6->bnlp_toolkit) (0.9.10)\n",
      "Requirement already satisfied: six in c:\\users\\user\\anaconda3\\lib\\site-packages (from sklearn-crfsuite==0.3.6->bnlp_toolkit) (1.16.0)\n",
      "Requirement already satisfied: tabulate in c:\\users\\user\\anaconda3\\lib\\site-packages (from sklearn-crfsuite==0.3.6->bnlp_toolkit) (0.8.10)\n",
      "Requirement already satisfied: colorama in c:\\users\\user\\anaconda3\\lib\\site-packages (from tqdm==4.66.3->bnlp_toolkit) (0.4.6)\n",
      "Requirement already satisfied: charset-normalizer<4,>=2 in c:\\users\\user\\anaconda3\\lib\\site-packages (from requests->bnlp_toolkit) (2.0.4)\n",
      "Requirement already satisfied: idna<4,>=2.5 in c:\\users\\user\\anaconda3\\lib\\site-packages (from requests->bnlp_toolkit) (3.4)\n",
      "Requirement already satisfied: urllib3<3,>=1.21.1 in c:\\users\\user\\anaconda3\\lib\\site-packages (from requests->bnlp_toolkit) (2.2.1)\n",
      "Requirement already satisfied: certifi>=2017.4.17 in c:\\users\\user\\anaconda3\\lib\\site-packages (from requests->bnlp_toolkit) (2024.2.2)\n"
     ]
    }
   ],
   "source": [
    "!pip install -U bnlp_toolkit"
   ]
  },
  {
   "cell_type": "code",
   "execution_count": 2,
   "metadata": {},
   "outputs": [],
   "source": [
    "import torch\n",
    "import torch.nn as nn\n",
    "import sklearn\n",
    "import numpy as np\n",
    "import pandas as pd\n",
    "import re\n",
    "import matplotlib.pyplot as plt\n",
    "import seaborn as sns\n",
    "import fasttext\n",
    "from bnlp import BasicTokenizer\n",
    "from bnlp import SentencepieceTokenizer\n",
    "from bnlp import BengaliWord2Vec\n",
    "from bnlp import NLTKTokenizer\n",
    "from torch.nn.utils.rnn import pad_sequence\n",
    "from torch.utils.data import DataLoader, Dataset\n",
    "from tqdm import tqdm\n",
    "from transformers import BertTokenizer, BertForSequenceClassification, AdamW\n",
    "from sklearn.metrics import precision_recall_fscore_support\n"
   ]
  },
  {
   "cell_type": "code",
   "execution_count": 3,
   "metadata": {},
   "outputs": [],
   "source": [
    "dataset = pd.read_csv(\"C:\\\\Users\\\\User\\\\Desktop\\\\Spring'24\\\\CSE465 Project\\\\Dataset\\\\train.csv\")\n",
    "df = dataset"
   ]
  },
  {
   "cell_type": "markdown",
   "metadata": {},
   "source": [
    "# Cleaning\n"
   ]
  },
  {
   "cell_type": "code",
   "execution_count": 4,
   "metadata": {},
   "outputs": [],
   "source": [
    "def clean_text(text):\n",
    "    # Emoji removal pattern covering various emoji ranges\n",
    "    emoji_pattern = re.compile(\"[\"\n",
    "                               u\"\\U0001F600-\\U0001F64F\"\n",
    "                               u\"\\U0001F300-\\U0001F5FF\"\n",
    "                               u\"\\U0001F680-\\U0001F6FF\"\n",
    "                               u\"\\U0001F700-\\U0001F77F\"\n",
    "                               u\"\\U0001F780-\\U0001F7FF\"\n",
    "                               u\"\\U0001F800-\\U0001F8FF\"\n",
    "                               u\"\\U0001F900-\\U0001F9FF\"\n",
    "                               u\"\\U0001FA00-\\U0001FA6F\"\n",
    "                               u\"\\U0001FA70-\\U0001FAFF\"\n",
    "                               u\"\\U00002702-\\U000027B0\"\n",
    "                               u\"\\U000024C2-\\U0001F251\"\n",
    "                               \"]+\", flags=re.UNICODE)\n",
    "    # Remove emojis\n",
    "    text = emoji_pattern.sub(r'', text)\n",
    "    # Remove English characters & numbers\n",
    "    text = re.sub(r'[A-Za-z0-9]', '', text)\n",
    "    # Remove extra spaces\n",
    "    text = re.sub(r'\\s+', ' ', text).strip()\n",
    "    # Remove punctuation\n",
    "    text = re.sub(r'[!\"#$%&\\'()*+,-./:;<=>?@[\\\\]^_`{|}~]০১২৩৪৫৬৭৮৯', '', text)\n",
    "    punctuations = '''`|¢|Ñ+-*/=EROero৳০১২৩৪৫৬৭৮৯012–34567•89।!()-[]{};:'\"“\\’,<>./?@#$%^&*_~‘—॥”‰🤣⚽️✌�￰৷￰'''\n",
    "    # Create a character class to remove specified characters\n",
    "    regex_pattern = '[' + re.escape(punctuations) + ']'\n",
    "    text = re.sub(regex_pattern, '', text)\n",
    "\n",
    "\n",
    "    return text\n",
    "\n",
    "df['sentence'] = df['sentence'].apply(clean_text)\n",
    "df = df.drop(columns=['type','hate speech'])"
   ]
  },
  {
   "cell_type": "code",
   "execution_count": 5,
   "metadata": {},
   "outputs": [
    {
     "name": "stdout",
     "output_type": "stream",
     "text": [
      "<class 'pandas.core.frame.DataFrame'>\n",
      "RangeIndex: 40224 entries, 0 to 40223\n",
      "Data columns (total 2 columns):\n",
      " #   Column    Non-Null Count  Dtype \n",
      "---  ------    --------------  ----- \n",
      " 0   sentence  40224 non-null  object\n",
      " 1   target    19324 non-null  object\n",
      "dtypes: object(2)\n",
      "memory usage: 628.6+ KB\n"
     ]
    }
   ],
   "source": [
    "df.info()"
   ]
  },
  {
   "cell_type": "code",
   "execution_count": 6,
   "metadata": {},
   "outputs": [
    {
     "data": {
      "text/plain": [
       "sentence        0\n",
       "target      20900\n",
       "dtype: int64"
      ]
     },
     "execution_count": 6,
     "metadata": {},
     "output_type": "execute_result"
    }
   ],
   "source": [
    "df.isnull().sum() # Null values mean the corresponding sentence is not hate speech"
   ]
  },
  {
   "cell_type": "code",
   "execution_count": 7,
   "metadata": {},
   "outputs": [],
   "source": [
    "df['target'].fillna('0', inplace=True) # Replace null values with 0\n",
    "\n"
   ]
  },
  {
   "cell_type": "code",
   "execution_count": 8,
   "metadata": {},
   "outputs": [
    {
     "data": {
      "text/plain": [
       "sentence    0\n",
       "target      0\n",
       "dtype: int64"
      ]
     },
     "execution_count": 8,
     "metadata": {},
     "output_type": "execute_result"
    }
   ],
   "source": [
    "df.isnull().sum() \n"
   ]
  },
  {
   "cell_type": "code",
   "execution_count": 9,
   "metadata": {},
   "outputs": [
    {
     "data": {
      "text/plain": [
       "12"
      ]
     },
     "execution_count": 9,
     "metadata": {},
     "output_type": "execute_result"
    }
   ],
   "source": [
    "type_unique = df['target'].nunique()\n",
    "type_unique"
   ]
  },
  {
   "cell_type": "code",
   "execution_count": 10,
   "metadata": {},
   "outputs": [
    {
     "data": {
      "text/plain": [
       "array(['ind', 'female', 'male', 'group', 'male_female', 'ind_female',\n",
       "       'male_group', 'female_group', 'ind_group', 'male_female_group',\n",
       "       'ind_male', '0'], dtype=object)"
      ]
     },
     "execution_count": 10,
     "metadata": {},
     "output_type": "execute_result"
    }
   ],
   "source": [
    "distinct_classes = df['target'].unique()\n",
    "distinct_classes\n"
   ]
  },
  {
   "cell_type": "code",
   "execution_count": 11,
   "metadata": {},
   "outputs": [
    {
     "data": {
      "text/html": [
       "<div>\n",
       "<style scoped>\n",
       "    .dataframe tbody tr th:only-of-type {\n",
       "        vertical-align: middle;\n",
       "    }\n",
       "\n",
       "    .dataframe tbody tr th {\n",
       "        vertical-align: top;\n",
       "    }\n",
       "\n",
       "    .dataframe thead th {\n",
       "        text-align: right;\n",
       "    }\n",
       "</style>\n",
       "<table border=\"1\" class=\"dataframe\">\n",
       "  <thead>\n",
       "    <tr style=\"text-align: right;\">\n",
       "      <th></th>\n",
       "      <th>target</th>\n",
       "      <th>encoded_target</th>\n",
       "    </tr>\n",
       "  </thead>\n",
       "  <tbody>\n",
       "    <tr>\n",
       "      <th>0</th>\n",
       "      <td>ind</td>\n",
       "      <td>1</td>\n",
       "    </tr>\n",
       "    <tr>\n",
       "      <th>1</th>\n",
       "      <td>ind</td>\n",
       "      <td>1</td>\n",
       "    </tr>\n",
       "    <tr>\n",
       "      <th>2</th>\n",
       "      <td>ind</td>\n",
       "      <td>1</td>\n",
       "    </tr>\n",
       "    <tr>\n",
       "      <th>3</th>\n",
       "      <td>female</td>\n",
       "      <td>2</td>\n",
       "    </tr>\n",
       "    <tr>\n",
       "      <th>4</th>\n",
       "      <td>male</td>\n",
       "      <td>3</td>\n",
       "    </tr>\n",
       "    <tr>\n",
       "      <th>5</th>\n",
       "      <td>female</td>\n",
       "      <td>2</td>\n",
       "    </tr>\n",
       "    <tr>\n",
       "      <th>6</th>\n",
       "      <td>ind</td>\n",
       "      <td>1</td>\n",
       "    </tr>\n",
       "    <tr>\n",
       "      <th>7</th>\n",
       "      <td>ind</td>\n",
       "      <td>1</td>\n",
       "    </tr>\n",
       "    <tr>\n",
       "      <th>8</th>\n",
       "      <td>ind</td>\n",
       "      <td>1</td>\n",
       "    </tr>\n",
       "    <tr>\n",
       "      <th>9</th>\n",
       "      <td>group</td>\n",
       "      <td>4</td>\n",
       "    </tr>\n",
       "    <tr>\n",
       "      <th>10</th>\n",
       "      <td>ind</td>\n",
       "      <td>1</td>\n",
       "    </tr>\n",
       "    <tr>\n",
       "      <th>11</th>\n",
       "      <td>ind</td>\n",
       "      <td>1</td>\n",
       "    </tr>\n",
       "    <tr>\n",
       "      <th>12</th>\n",
       "      <td>ind</td>\n",
       "      <td>1</td>\n",
       "    </tr>\n",
       "    <tr>\n",
       "      <th>13</th>\n",
       "      <td>female</td>\n",
       "      <td>2</td>\n",
       "    </tr>\n",
       "    <tr>\n",
       "      <th>14</th>\n",
       "      <td>male</td>\n",
       "      <td>3</td>\n",
       "    </tr>\n",
       "    <tr>\n",
       "      <th>15</th>\n",
       "      <td>female</td>\n",
       "      <td>2</td>\n",
       "    </tr>\n",
       "    <tr>\n",
       "      <th>16</th>\n",
       "      <td>female</td>\n",
       "      <td>2</td>\n",
       "    </tr>\n",
       "    <tr>\n",
       "      <th>17</th>\n",
       "      <td>female</td>\n",
       "      <td>2</td>\n",
       "    </tr>\n",
       "    <tr>\n",
       "      <th>18</th>\n",
       "      <td>female</td>\n",
       "      <td>2</td>\n",
       "    </tr>\n",
       "    <tr>\n",
       "      <th>19</th>\n",
       "      <td>female</td>\n",
       "      <td>2</td>\n",
       "    </tr>\n",
       "    <tr>\n",
       "      <th>20</th>\n",
       "      <td>female</td>\n",
       "      <td>2</td>\n",
       "    </tr>\n",
       "    <tr>\n",
       "      <th>21</th>\n",
       "      <td>female</td>\n",
       "      <td>2</td>\n",
       "    </tr>\n",
       "    <tr>\n",
       "      <th>22</th>\n",
       "      <td>female</td>\n",
       "      <td>2</td>\n",
       "    </tr>\n",
       "    <tr>\n",
       "      <th>23</th>\n",
       "      <td>female</td>\n",
       "      <td>2</td>\n",
       "    </tr>\n",
       "    <tr>\n",
       "      <th>24</th>\n",
       "      <td>female</td>\n",
       "      <td>2</td>\n",
       "    </tr>\n",
       "    <tr>\n",
       "      <th>25</th>\n",
       "      <td>female</td>\n",
       "      <td>2</td>\n",
       "    </tr>\n",
       "    <tr>\n",
       "      <th>26</th>\n",
       "      <td>female</td>\n",
       "      <td>2</td>\n",
       "    </tr>\n",
       "    <tr>\n",
       "      <th>27</th>\n",
       "      <td>female</td>\n",
       "      <td>2</td>\n",
       "    </tr>\n",
       "    <tr>\n",
       "      <th>28</th>\n",
       "      <td>female</td>\n",
       "      <td>2</td>\n",
       "    </tr>\n",
       "    <tr>\n",
       "      <th>29</th>\n",
       "      <td>female</td>\n",
       "      <td>2</td>\n",
       "    </tr>\n",
       "    <tr>\n",
       "      <th>30</th>\n",
       "      <td>female</td>\n",
       "      <td>2</td>\n",
       "    </tr>\n",
       "    <tr>\n",
       "      <th>31</th>\n",
       "      <td>female</td>\n",
       "      <td>2</td>\n",
       "    </tr>\n",
       "    <tr>\n",
       "      <th>32</th>\n",
       "      <td>male</td>\n",
       "      <td>3</td>\n",
       "    </tr>\n",
       "    <tr>\n",
       "      <th>33</th>\n",
       "      <td>male</td>\n",
       "      <td>3</td>\n",
       "    </tr>\n",
       "    <tr>\n",
       "      <th>34</th>\n",
       "      <td>ind</td>\n",
       "      <td>1</td>\n",
       "    </tr>\n",
       "    <tr>\n",
       "      <th>35</th>\n",
       "      <td>ind</td>\n",
       "      <td>1</td>\n",
       "    </tr>\n",
       "    <tr>\n",
       "      <th>36</th>\n",
       "      <td>male</td>\n",
       "      <td>3</td>\n",
       "    </tr>\n",
       "    <tr>\n",
       "      <th>37</th>\n",
       "      <td>ind</td>\n",
       "      <td>1</td>\n",
       "    </tr>\n",
       "    <tr>\n",
       "      <th>38</th>\n",
       "      <td>female</td>\n",
       "      <td>2</td>\n",
       "    </tr>\n",
       "    <tr>\n",
       "      <th>39</th>\n",
       "      <td>ind</td>\n",
       "      <td>1</td>\n",
       "    </tr>\n",
       "    <tr>\n",
       "      <th>40</th>\n",
       "      <td>female</td>\n",
       "      <td>2</td>\n",
       "    </tr>\n",
       "    <tr>\n",
       "      <th>41</th>\n",
       "      <td>ind</td>\n",
       "      <td>1</td>\n",
       "    </tr>\n",
       "    <tr>\n",
       "      <th>42</th>\n",
       "      <td>ind</td>\n",
       "      <td>1</td>\n",
       "    </tr>\n",
       "    <tr>\n",
       "      <th>43</th>\n",
       "      <td>ind</td>\n",
       "      <td>1</td>\n",
       "    </tr>\n",
       "    <tr>\n",
       "      <th>44</th>\n",
       "      <td>ind</td>\n",
       "      <td>1</td>\n",
       "    </tr>\n",
       "    <tr>\n",
       "      <th>45</th>\n",
       "      <td>ind</td>\n",
       "      <td>1</td>\n",
       "    </tr>\n",
       "    <tr>\n",
       "      <th>46</th>\n",
       "      <td>ind</td>\n",
       "      <td>1</td>\n",
       "    </tr>\n",
       "    <tr>\n",
       "      <th>47</th>\n",
       "      <td>ind</td>\n",
       "      <td>1</td>\n",
       "    </tr>\n",
       "    <tr>\n",
       "      <th>48</th>\n",
       "      <td>ind</td>\n",
       "      <td>1</td>\n",
       "    </tr>\n",
       "    <tr>\n",
       "      <th>49</th>\n",
       "      <td>ind</td>\n",
       "      <td>1</td>\n",
       "    </tr>\n",
       "  </tbody>\n",
       "</table>\n",
       "</div>"
      ],
      "text/plain": [
       "    target  encoded_target\n",
       "0      ind               1\n",
       "1      ind               1\n",
       "2      ind               1\n",
       "3   female               2\n",
       "4     male               3\n",
       "5   female               2\n",
       "6      ind               1\n",
       "7      ind               1\n",
       "8      ind               1\n",
       "9    group               4\n",
       "10     ind               1\n",
       "11     ind               1\n",
       "12     ind               1\n",
       "13  female               2\n",
       "14    male               3\n",
       "15  female               2\n",
       "16  female               2\n",
       "17  female               2\n",
       "18  female               2\n",
       "19  female               2\n",
       "20  female               2\n",
       "21  female               2\n",
       "22  female               2\n",
       "23  female               2\n",
       "24  female               2\n",
       "25  female               2\n",
       "26  female               2\n",
       "27  female               2\n",
       "28  female               2\n",
       "29  female               2\n",
       "30  female               2\n",
       "31  female               2\n",
       "32    male               3\n",
       "33    male               3\n",
       "34     ind               1\n",
       "35     ind               1\n",
       "36    male               3\n",
       "37     ind               1\n",
       "38  female               2\n",
       "39     ind               1\n",
       "40  female               2\n",
       "41     ind               1\n",
       "42     ind               1\n",
       "43     ind               1\n",
       "44     ind               1\n",
       "45     ind               1\n",
       "46     ind               1\n",
       "47     ind               1\n",
       "48     ind               1\n",
       "49     ind               1"
      ]
     },
     "execution_count": 11,
     "metadata": {},
     "output_type": "execute_result"
    }
   ],
   "source": [
    "class_mapping = {\n",
    "    '0': 0,\n",
    "    'ind': 1,\n",
    "    'female': 2,\n",
    "    'male': 3,\n",
    "    'group': 4,\n",
    "    'male_female': 5,\n",
    "    'ind_female': 6,\n",
    "    'male_group': 7,\n",
    "    'female_group': 8,\n",
    "    'ind_group': 9,\n",
    "    'male_female_group': 10,\n",
    "    'ind_male': 11,\n",
    "\n",
    "}\n",
    "\n",
    "# Apply the mapping to the 'type' column\n",
    "df['encoded_target'] = df['target'].map(class_mapping)\n",
    "\n",
    "# Verify the encoding\n",
    "df[['target', 'encoded_target']].head(50)"
   ]
  },
  {
   "cell_type": "code",
   "execution_count": 12,
   "metadata": {},
   "outputs": [
    {
     "data": {
      "text/plain": [
       "array([ 1,  2,  3,  4,  5,  6,  7,  8,  9, 10, 11,  0], dtype=int64)"
      ]
     },
     "execution_count": 12,
     "metadata": {},
     "output_type": "execute_result"
    }
   ],
   "source": [
    "distinct_classes = df['encoded_target'].unique()\n",
    "distinct_classes"
   ]
  },
  {
   "cell_type": "markdown",
   "metadata": {},
   "source": [
    "# Tokenization"
   ]
  },
  {
   "cell_type": "code",
   "execution_count": 13,
   "metadata": {},
   "outputs": [
    {
     "data": {
      "text/html": [
       "<div>\n",
       "<style scoped>\n",
       "    .dataframe tbody tr th:only-of-type {\n",
       "        vertical-align: middle;\n",
       "    }\n",
       "\n",
       "    .dataframe tbody tr th {\n",
       "        vertical-align: top;\n",
       "    }\n",
       "\n",
       "    .dataframe thead th {\n",
       "        text-align: right;\n",
       "    }\n",
       "</style>\n",
       "<table border=\"1\" class=\"dataframe\">\n",
       "  <thead>\n",
       "    <tr style=\"text-align: right;\">\n",
       "      <th></th>\n",
       "      <th>sentence</th>\n",
       "      <th>target</th>\n",
       "      <th>encoded_target</th>\n",
       "    </tr>\n",
       "  </thead>\n",
       "  <tbody>\n",
       "    <tr>\n",
       "      <th>0</th>\n",
       "      <td>[ঐ, ইন্দুর, তোই, মরছ, নাই]</td>\n",
       "      <td>ind</td>\n",
       "      <td>1</td>\n",
       "    </tr>\n",
       "    <tr>\n",
       "      <th>1</th>\n",
       "      <td>[গেবনের, শেষে, আইসা, আপনার, মুখোশ, টা, খুলছে, ...</td>\n",
       "      <td>ind</td>\n",
       "      <td>1</td>\n",
       "    </tr>\n",
       "    <tr>\n",
       "      <th>2</th>\n",
       "      <td>[মুরগি, চোরের, পাছায়, ডুকবি, আর, মারবি]</td>\n",
       "      <td>ind</td>\n",
       "      <td>1</td>\n",
       "    </tr>\n",
       "    <tr>\n",
       "      <th>3</th>\n",
       "      <td>[কোটির, চোদা, খাওয়া, শেষে, এখন, কোটির, চোদা, খ...</td>\n",
       "      <td>female</td>\n",
       "      <td>2</td>\n",
       "    </tr>\n",
       "    <tr>\n",
       "      <th>4</th>\n",
       "      <td>[য়, মীর, জাফরের, মুখে, মুতে, দে]</td>\n",
       "      <td>male</td>\n",
       "      <td>3</td>\n",
       "    </tr>\n",
       "    <tr>\n",
       "      <th>...</th>\n",
       "      <td>...</td>\n",
       "      <td>...</td>\n",
       "      <td>...</td>\n",
       "    </tr>\n",
       "    <tr>\n",
       "      <th>40219</th>\n",
       "      <td>[গানটা, চালু, করে, ওয়াস, রুমে, গিয়েছিলাম, এসে,...</td>\n",
       "      <td>0</td>\n",
       "      <td>0</td>\n",
       "    </tr>\n",
       "    <tr>\n",
       "      <th>40220</th>\n",
       "      <td>[হালকার, উপজেলা, ঝাপসা]</td>\n",
       "      <td>0</td>\n",
       "      <td>0</td>\n",
       "    </tr>\n",
       "    <tr>\n",
       "      <th>40221</th>\n",
       "      <td>[]</td>\n",
       "      <td>0</td>\n",
       "      <td>0</td>\n",
       "    </tr>\n",
       "    <tr>\n",
       "      <th>40222</th>\n",
       "      <td>[পুরাই, আগুনের, গুলা]</td>\n",
       "      <td>0</td>\n",
       "      <td>0</td>\n",
       "    </tr>\n",
       "    <tr>\n",
       "      <th>40223</th>\n",
       "      <td>[মজা, পাইলাম]</td>\n",
       "      <td>0</td>\n",
       "      <td>0</td>\n",
       "    </tr>\n",
       "  </tbody>\n",
       "</table>\n",
       "<p>40224 rows × 3 columns</p>\n",
       "</div>"
      ],
      "text/plain": [
       "                                                sentence  target  \\\n",
       "0                             [ঐ, ইন্দুর, তোই, মরছ, নাই]     ind   \n",
       "1      [গেবনের, শেষে, আইসা, আপনার, মুখোশ, টা, খুলছে, ...     ind   \n",
       "2                [মুরগি, চোরের, পাছায়, ডুকবি, আর, মারবি]     ind   \n",
       "3      [কোটির, চোদা, খাওয়া, শেষে, এখন, কোটির, চোদা, খ...  female   \n",
       "4                       [য়, মীর, জাফরের, মুখে, মুতে, দে]    male   \n",
       "...                                                  ...     ...   \n",
       "40219  [গানটা, চালু, করে, ওয়াস, রুমে, গিয়েছিলাম, এসে,...       0   \n",
       "40220                            [হালকার, উপজেলা, ঝাপসা]       0   \n",
       "40221                                                 []       0   \n",
       "40222                              [পুরাই, আগুনের, গুলা]       0   \n",
       "40223                                      [মজা, পাইলাম]       0   \n",
       "\n",
       "       encoded_target  \n",
       "0                   1  \n",
       "1                   1  \n",
       "2                   1  \n",
       "3                   2  \n",
       "4                   3  \n",
       "...               ...  \n",
       "40219               0  \n",
       "40220               0  \n",
       "40221               0  \n",
       "40222               0  \n",
       "40223               0  \n",
       "\n",
       "[40224 rows x 3 columns]"
      ]
     },
     "execution_count": 13,
     "metadata": {},
     "output_type": "execute_result"
    }
   ],
   "source": [
    "basic_tokenizer = BasicTokenizer()\n",
    "\n",
    "df['sentence'] = df['sentence'].apply(basic_tokenizer.tokenize)\n",
    "df"
   ]
  },
  {
   "cell_type": "markdown",
   "metadata": {},
   "source": [
    "# Word2vec"
   ]
  },
  {
   "cell_type": "code",
   "execution_count": 14,
   "metadata": {},
   "outputs": [],
   "source": [
    "pf = df.copy()\n",
    "#pf.to_csv('train_processed(target).csv', index=False)"
   ]
  },
  {
   "cell_type": "code",
   "execution_count": 15,
   "metadata": {},
   "outputs": [],
   "source": [
    "from bnlp import Word2VecTraining\n",
    "\n",
    "trainer = Word2VecTraining()\n",
    "\n",
    "sentences = pf['sentence'].tolist()\n",
    "\n",
    "model_name = \"hsw2v.model\"\n",
    "vector_name = \"hsw2v.vector\""
   ]
  },
  {
   "cell_type": "code",
   "execution_count": 16,
   "metadata": {},
   "outputs": [
    {
     "name": "stdout",
     "output_type": "stream",
     "text": [
      "training started.......\n",
      "please wait.....it will take time according to your data size and computation capability\n",
      "train completed successfully\n",
      "trianing loss: 17622736.0\n",
      "model and vector saving...\n",
      "model and vector saved as hsw2v.model and hsw2v.vector\n"
     ]
    }
   ],
   "source": [
    "trainer.train(sentences, model_name, vector_name, epochs=100)\n"
   ]
  },
  {
   "cell_type": "markdown",
   "metadata": {},
   "source": [
    "Transform into word vectors"
   ]
  },
  {
   "cell_type": "code",
   "execution_count": 17,
   "metadata": {},
   "outputs": [],
   "source": [
    "own_model_path = \"hsw2v.model\"\n",
    "bwv = BengaliWord2Vec(model_path=own_model_path)\n",
    "def sentence_to_vectors(sentence_tokens):\n",
    "\n",
    "    vectors = []\n",
    "    for word in sentence_tokens:\n",
    "        try:\n",
    "            vector = bwv.get_word_vector(word)\n",
    "            vectors.append(vector)\n",
    "        except KeyError:\n",
    "            # Ignore words that are not in the vocabulary\n",
    "            # Or handle with a zero vector if needed:\n",
    "            # vector = np.zeros(bwv.get_word_vector(\"গ্রাম\").shape)\n",
    "            # vectors.append(vector)\n",
    "            continue\n",
    "    return vectors\n"
   ]
  },
  {
   "cell_type": "code",
   "execution_count": 18,
   "metadata": {},
   "outputs": [
    {
     "data": {
      "text/html": [
       "<div>\n",
       "<style scoped>\n",
       "    .dataframe tbody tr th:only-of-type {\n",
       "        vertical-align: middle;\n",
       "    }\n",
       "\n",
       "    .dataframe tbody tr th {\n",
       "        vertical-align: top;\n",
       "    }\n",
       "\n",
       "    .dataframe thead th {\n",
       "        text-align: right;\n",
       "    }\n",
       "</style>\n",
       "<table border=\"1\" class=\"dataframe\">\n",
       "  <thead>\n",
       "    <tr style=\"text-align: right;\">\n",
       "      <th></th>\n",
       "      <th>sentence</th>\n",
       "      <th>target</th>\n",
       "      <th>encoded_target</th>\n",
       "      <th>vectors</th>\n",
       "    </tr>\n",
       "  </thead>\n",
       "  <tbody>\n",
       "    <tr>\n",
       "      <th>0</th>\n",
       "      <td>[ঐ, ইন্দুর, তোই, মরছ, নাই]</td>\n",
       "      <td>ind</td>\n",
       "      <td>1</td>\n",
       "      <td>[[0.54311496, 1.0851295, 0.82299, -2.579656, -...</td>\n",
       "    </tr>\n",
       "    <tr>\n",
       "      <th>1</th>\n",
       "      <td>[গেবনের, শেষে, আইসা, আপনার, মুখোশ, টা, খুলছে, ...</td>\n",
       "      <td>ind</td>\n",
       "      <td>1</td>\n",
       "      <td>[[-0.5713225, -0.33004153, -0.13594042, -1.105...</td>\n",
       "    </tr>\n",
       "    <tr>\n",
       "      <th>2</th>\n",
       "      <td>[মুরগি, চোরের, পাছায়, ডুকবি, আর, মারবি]</td>\n",
       "      <td>ind</td>\n",
       "      <td>1</td>\n",
       "      <td>[[0.27445203, -0.7889489, -1.334128, 1.3176531...</td>\n",
       "    </tr>\n",
       "    <tr>\n",
       "      <th>3</th>\n",
       "      <td>[কোটির, চোদা, খাওয়া, শেষে, এখন, কোটির, চোদা, খ...</td>\n",
       "      <td>female</td>\n",
       "      <td>2</td>\n",
       "      <td>[[0.6323435, 0.25632992, 0.7669722, 0.4142836,...</td>\n",
       "    </tr>\n",
       "    <tr>\n",
       "      <th>4</th>\n",
       "      <td>[য়, মীর, জাফরের, মুখে, মুতে, দে]</td>\n",
       "      <td>male</td>\n",
       "      <td>3</td>\n",
       "      <td>[[-0.6938862, 0.9031493, -1.8036468, 2.0337799...</td>\n",
       "    </tr>\n",
       "    <tr>\n",
       "      <th>...</th>\n",
       "      <td>...</td>\n",
       "      <td>...</td>\n",
       "      <td>...</td>\n",
       "      <td>...</td>\n",
       "    </tr>\n",
       "    <tr>\n",
       "      <th>40219</th>\n",
       "      <td>[গানটা, চালু, করে, ওয়াস, রুমে, গিয়েছিলাম, এসে,...</td>\n",
       "      <td>0</td>\n",
       "      <td>0</td>\n",
       "      <td>[[-0.77782255, 0.7982964, 0.8165977, -0.682045...</td>\n",
       "    </tr>\n",
       "    <tr>\n",
       "      <th>40220</th>\n",
       "      <td>[হালকার, উপজেলা, ঝাপসা]</td>\n",
       "      <td>0</td>\n",
       "      <td>0</td>\n",
       "      <td>[]</td>\n",
       "    </tr>\n",
       "    <tr>\n",
       "      <th>40221</th>\n",
       "      <td>[]</td>\n",
       "      <td>0</td>\n",
       "      <td>0</td>\n",
       "      <td>[]</td>\n",
       "    </tr>\n",
       "    <tr>\n",
       "      <th>40222</th>\n",
       "      <td>[পুরাই, আগুনের, গুলা]</td>\n",
       "      <td>0</td>\n",
       "      <td>0</td>\n",
       "      <td>[[-1.5563018, 5.508676, 0.6655884, -3.306936, ...</td>\n",
       "    </tr>\n",
       "    <tr>\n",
       "      <th>40223</th>\n",
       "      <td>[মজা, পাইলাম]</td>\n",
       "      <td>0</td>\n",
       "      <td>0</td>\n",
       "      <td>[[-1.3045619, 1.2363997, -0.0063130013, -0.175...</td>\n",
       "    </tr>\n",
       "  </tbody>\n",
       "</table>\n",
       "<p>40224 rows × 4 columns</p>\n",
       "</div>"
      ],
      "text/plain": [
       "                                                sentence  target  \\\n",
       "0                             [ঐ, ইন্দুর, তোই, মরছ, নাই]     ind   \n",
       "1      [গেবনের, শেষে, আইসা, আপনার, মুখোশ, টা, খুলছে, ...     ind   \n",
       "2                [মুরগি, চোরের, পাছায়, ডুকবি, আর, মারবি]     ind   \n",
       "3      [কোটির, চোদা, খাওয়া, শেষে, এখন, কোটির, চোদা, খ...  female   \n",
       "4                       [য়, মীর, জাফরের, মুখে, মুতে, দে]    male   \n",
       "...                                                  ...     ...   \n",
       "40219  [গানটা, চালু, করে, ওয়াস, রুমে, গিয়েছিলাম, এসে,...       0   \n",
       "40220                            [হালকার, উপজেলা, ঝাপসা]       0   \n",
       "40221                                                 []       0   \n",
       "40222                              [পুরাই, আগুনের, গুলা]       0   \n",
       "40223                                      [মজা, পাইলাম]       0   \n",
       "\n",
       "       encoded_target                                            vectors  \n",
       "0                   1  [[0.54311496, 1.0851295, 0.82299, -2.579656, -...  \n",
       "1                   1  [[-0.5713225, -0.33004153, -0.13594042, -1.105...  \n",
       "2                   1  [[0.27445203, -0.7889489, -1.334128, 1.3176531...  \n",
       "3                   2  [[0.6323435, 0.25632992, 0.7669722, 0.4142836,...  \n",
       "4                   3  [[-0.6938862, 0.9031493, -1.8036468, 2.0337799...  \n",
       "...               ...                                                ...  \n",
       "40219               0  [[-0.77782255, 0.7982964, 0.8165977, -0.682045...  \n",
       "40220               0                                                 []  \n",
       "40221               0                                                 []  \n",
       "40222               0  [[-1.5563018, 5.508676, 0.6655884, -3.306936, ...  \n",
       "40223               0  [[-1.3045619, 1.2363997, -0.0063130013, -0.175...  \n",
       "\n",
       "[40224 rows x 4 columns]"
      ]
     },
     "execution_count": 18,
     "metadata": {},
     "output_type": "execute_result"
    }
   ],
   "source": [
    "pf['vectors'] = pf['sentence'].apply(sentence_to_vectors)\n",
    "pf"
   ]
  },
  {
   "cell_type": "markdown",
   "metadata": {},
   "source": [
    "# Training & evaluation loops"
   ]
  },
  {
   "cell_type": "code",
   "execution_count": 19,
   "metadata": {},
   "outputs": [],
   "source": [
    "class EarlyStopping:\n",
    "    def __init__(self, patience=5, min_delta=0):\n",
    "        self.patience = patience\n",
    "        self.min_delta = min_delta\n",
    "        self.counter = 0\n",
    "        self.best_loss = None\n",
    "        self.early_stop = False\n",
    "\n",
    "    def __call__(self, val_loss):\n",
    "        if self.best_loss is None:\n",
    "            self.best_loss = val_loss\n",
    "        elif val_loss > self.best_loss - self.min_delta:\n",
    "            self.counter += 1\n",
    "            if self.counter >= self.patience:\n",
    "                self.early_stop = True\n",
    "        else:\n",
    "            self.best_loss = val_loss\n",
    "            self.counter = 0\n",
    "\n"
   ]
  },
  {
   "cell_type": "code",
   "execution_count": 20,
   "metadata": {},
   "outputs": [],
   "source": [
    "from torch.optim.lr_scheduler import ReduceLROnPlateau\n",
    "import matplotlib.pyplot as plt\n",
    "\n",
    "def train_ES(model, train_loader, val_loader, num_epochs, lr, early_stopping, lr_schduler, optimize):\n",
    "    \n",
    "    train_losses = []\n",
    "    val_losses = []\n",
    "    \n",
    "    if early_stopping:\n",
    "        early_stopper = EarlyStopping(patience=5, min_delta=0.01)\n",
    "        print('Using Early stopping...')\n",
    "        \n",
    "    criterion = nn.CrossEntropyLoss()\n",
    "    \n",
    "    if optimize == 1:\n",
    "        optimizer = torch.optim.SGD(model.parameters(), lr=lr, momentum=0.9)\n",
    "        print('Using SGD as optimizer...')\n",
    "    elif optimize == 2: \n",
    "        optimizer = torch.optim.Adam(model.parameters(), lr=lr)\n",
    "        print('Using Adam as optimizer...')\n",
    "    else:\n",
    "        optimizer = torch.optim.AdamW(model.parameters(), lr=lr)\n",
    "        print('Using AdamW as optimizer...')\n",
    "        \n",
    "    if lr_schduler:\n",
    "        scheduler = ReduceLROnPlateau(optimizer, mode='min', factor=0.2, patience=2, verbose=True)\n",
    "        print('Using Learning Rate Scheduler...')\n",
    "    \n",
    "    print('Starting training...')\n",
    "    for epoch in range(num_epochs):\n",
    "        model.train()\n",
    "        for vectors, labels in train_loader:\n",
    "            vectors, labels = vectors.to(device), labels.to(device)\n",
    "            optimizer.zero_grad()\n",
    "            outputs = model(vectors)\n",
    "            loss = criterion(outputs, labels)\n",
    "            loss.backward()\n",
    "            optimizer.step()\n",
    "\n",
    "        model.eval()\n",
    "        val_loss = 0\n",
    "        with torch.no_grad():\n",
    "            for vectors, labels in val_loader:\n",
    "                vectors, labels = vectors.to(device), labels.to(device)\n",
    "                outputs = model(vectors)\n",
    "                loss = criterion(outputs, labels)\n",
    "                val_loss += loss.item()\n",
    "\n",
    "        val_loss /= len(val_loader)\n",
    "        print(f'Epoch [{epoch+1}/{num_epochs}], Training Loss: {loss.item():.4f}, Validation Loss: {val_loss:.4f}')\n",
    "        \n",
    "        train_losses.append(loss.item())\n",
    "        val_losses.append(val_loss)\n",
    "        # Update the learning rate\n",
    "        if lr_schduler:\n",
    "            scheduler.step(val_loss)\n",
    "\n",
    "        # Early stopping check\n",
    "        if early_stopping:\n",
    "            early_stopper(val_loss)\n",
    "            if early_stopper.early_stop:\n",
    "                print(\"Terminated due to no validation improvement(Early stopping applied)\")\n",
    "                break\n",
    "    \n",
    "    epochs = range(1, len(train_losses) + 1)\n",
    "    plt.figure(figsize=(12, 6))\n",
    "    plt.plot(epochs, train_losses, 'r', label='Training Loss')\n",
    "    plt.plot(epochs, val_losses, 'b', label='Validation Loss')\n",
    "    plt.title('Training and Validation Loss')\n",
    "    plt.xlabel('Epochs')\n",
    "    plt.ylabel('Loss')\n",
    "    plt.legend()\n",
    "    plt.show()\n"
   ]
  },
  {
   "cell_type": "code",
   "execution_count": 21,
   "metadata": {},
   "outputs": [],
   "source": [
    "def evaluate_model(model, dataloader):    \n",
    "    model.eval()\n",
    "    all_predictions = []\n",
    "    all_labels = []\n",
    "\n",
    "    with torch.no_grad():\n",
    "        for vectors, labels in dataloader:\n",
    "            vectors, labels = vectors.to(device), labels.to(device)\n",
    "            outputs = model(vectors)\n",
    "            _, predicted = torch.max(outputs.data, 1)\n",
    "            all_predictions.extend(predicted.cpu().numpy())\n",
    "            all_labels.extend(labels.cpu().numpy())\n",
    "\n",
    "    # Calculate accuracy\n",
    "    accuracy = (np.array(all_predictions) == np.array(all_labels)).mean() * 100\n",
    "\n",
    "    # Calculate precision, recall, and F1-score\n",
    "    precision, recall, f1, _ = precision_recall_fscore_support(all_labels, all_predictions, average='weighted') \n",
    "    precision *= 100\n",
    "    recall *= 100\n",
    "    f1 *= 100\n",
    "    print(f'Accuracy: {accuracy:.2f}')\n",
    "    print(f'Precision: {precision:.2f}')\n",
    "    print(f'Recall: {recall:.2f}')\n",
    "    print(f'F1 Score: {f1:.2f}')\n",
    "    \n",
    "    return accuracy, precision, recall, f1"
   ]
  },
  {
   "cell_type": "code",
   "execution_count": 22,
   "metadata": {},
   "outputs": [],
   "source": [
    "device = torch.device(\"cuda\" if torch.cuda.is_available() else \"cpu\")\n"
   ]
  },
  {
   "cell_type": "markdown",
   "metadata": {},
   "source": [
    "# Set data loaders"
   ]
  },
  {
   "cell_type": "code",
   "execution_count": 23,
   "metadata": {},
   "outputs": [],
   "source": [
    "import torch\n",
    "from torch.nn.utils.rnn import pad_sequence\n",
    "from torch.utils.data import DataLoader, Dataset\n",
    "from torch.utils.data import random_split\n",
    "\n",
    "class SentenceDataset(Dataset):\n",
    "    def __init__(self, vectors, labels):\n",
    "        self.vectors = [torch.tensor(v, dtype=torch.float32, device=device) for v in vectors if len(v) > 0]  # Ensure non-empty\n",
    "        self.labels = torch.tensor(labels, dtype=torch.long, device=device)\n",
    "\n",
    "    def __len__(self):\n",
    "        return len(self.labels)\n",
    "\n",
    "    def __getitem__(self, idx):\n",
    "        return self.vectors[idx], self.labels[idx]\n",
    "\n",
    "def collate_fn(batch):\n",
    "    # Separate source data and labels\n",
    "    vectors, labels = zip(*batch)\n",
    "\n",
    "    # Pad the sequences for each batch separately\n",
    "    vectors_padded = pad_sequence(vectors, batch_first=True).to(device)\n",
    "\n",
    "    # Convert labels to a tensor\n",
    "    labels = torch.tensor(labels, dtype=torch.long, device=device)\n",
    "\n",
    "    return vectors_padded, labels\n",
    "\n",
    "# If there are empty vectors, replace them with a zero vector of the same size as others\n",
    "model_vector_size = 100\n",
    "non_empty_vectors = [v if len(v) > 0 else [np.zeros(model_vector_size)] for v in pf['vectors']]\n",
    "labels = pf['encoded_target'].tolist()  \n",
    "\n",
    "# Creating padded sequences\n",
    "padded_vectors = pad_sequence([torch.tensor(v) for v in non_empty_vectors], batch_first=True)\n",
    "\n",
    "# Create dataset and data loader\n",
    "\n",
    "dataset = SentenceDataset(non_empty_vectors, labels)\n",
    "\n",
    "# Total number of data points\n",
    "total_count = len(dataset)\n",
    "\n",
    "# Determine the sizes for training and validation sets\n",
    "train_count = int(0.8 * total_count)\n",
    "val_count = total_count - train_count\n",
    "\n",
    "# Split the dataset\n",
    "train_dataset, val_dataset = random_split(dataset, [train_count, val_count])\n",
    "batch_size = 32\n",
    "\n",
    "# Train DataLoader\n",
    "train_loader = DataLoader(train_dataset, batch_size=32, shuffle=True, collate_fn=collate_fn)\n",
    "\n",
    "# Validation DataLoader\n",
    "val_loader = DataLoader(val_dataset, batch_size=32, shuffle=False, collate_fn=collate_fn)\n",
    "\n"
   ]
  },
  {
   "cell_type": "code",
   "execution_count": 24,
   "metadata": {},
   "outputs": [
    {
     "data": {
      "text/plain": [
       "100"
      ]
     },
     "execution_count": 24,
     "metadata": {},
     "output_type": "execute_result"
    }
   ],
   "source": [
    "padded_vectors.size(2)  # vector size\n"
   ]
  },
  {
   "cell_type": "markdown",
   "metadata": {},
   "source": [
    "# Models"
   ]
  },
  {
   "cell_type": "markdown",
   "metadata": {},
   "source": [
    "LSTM"
   ]
  },
  {
   "cell_type": "code",
   "execution_count": 25,
   "metadata": {},
   "outputs": [],
   "source": [
    "import torch.nn.init as init\n",
    "import torch.nn as nn\n",
    "\n",
    "class LSTMModel(nn.Module):\n",
    "    def __init__(self, input_dim, hidden_dim, output_dim, num_layers, dropout_rate=0.5):\n",
    "        super(LSTMModel, self).__init__()\n",
    "        self.lstm = nn.LSTM(input_dim, hidden_dim, num_layers, batch_first=True, dropout=dropout_rate)\n",
    "        self.dropout = nn.Dropout(dropout_rate)\n",
    "        self.fc = nn.Linear(hidden_dim, output_dim)\n",
    "\n",
    "        # Initialize the weights of the LSTM anda fully-connected layers\n",
    "        init.xavier_uniform_(self.lstm.weight_ih_l0)\n",
    "        init.xavier_uniform_(self.lstm.weight_hh_l0)\n",
    "        init.xavier_uniform_(self.fc.weight)\n",
    "\n",
    "    def forward(self, x):\n",
    "        output, _ = self.lstm(x)\n",
    "        last_output = output[:, -1, :]\n",
    "        last_output = self.dropout(last_output)\n",
    "        return self.fc(last_output)\n",
    "\n",
    "input_dim = padded_vectors.size(2)  # vector size\n",
    "hidden_dim = 128\n",
    "labels_tensor = torch.tensor(labels, dtype=torch.long, device=device)\n",
    "output_dim = len(torch.unique(labels_tensor))\n",
    "num_layers = 4\n",
    "\n",
    "\n",
    "#model_LSTM = LSTMModel(input_dim, hidden_dim, output_dim, num_layers, dropout_rate=0.5).to(device)"
   ]
  },
  {
   "cell_type": "markdown",
   "metadata": {},
   "source": [
    "BI-lstm"
   ]
  },
  {
   "cell_type": "code",
   "execution_count": 26,
   "metadata": {},
   "outputs": [],
   "source": [
    "import torch.nn as nn\n",
    "import torch.nn.init as init\n",
    "\n",
    "class BiLSTMModel(nn.Module):\n",
    "    def __init__(self, input_dim, hidden_dim, output_dim, num_layers, dropout_rate=0.5):\n",
    "        super(BiLSTMModel, self).__init__()\n",
    "        self.bilstm = nn.LSTM(input_dim, hidden_dim, num_layers, batch_first=True, bidirectional=True, dropout=dropout_rate)\n",
    "        self.dropout = nn.Dropout(dropout_rate)\n",
    "        self.fc = nn.Linear(hidden_dim * 2, output_dim)  # Multiplied by 2 for bidirectional\n",
    "\n",
    "        # Initialize the weights of the LSTM and fully-connected layers\n",
    "        init.xavier_uniform_(self.bilstm.weight_ih_l0)\n",
    "        init.xavier_uniform_(self.bilstm.weight_hh_l0)\n",
    "        init.xavier_uniform_(self.fc.weight)\n",
    "\n",
    "    def forward(self, x):\n",
    "        output, _ = self.bilstm(x)\n",
    "        last_output = torch.cat((output[:, -1, :hidden_dim], output[:, 0, hidden_dim:]), dim=1)\n",
    "        last_output = self.dropout(last_output)  # Apply dropout\n",
    "        return self.fc(last_output)\n",
    "\n",
    "# Assuming the input dimension of the vectors and output_dim (number of classes)\n",
    "input_dim = padded_vectors.size(2)  # vector size\n",
    "hidden_dim = 128  # You can tune this\n",
    "labels_tensor = torch.tensor(labels, dtype=torch.long, device=device)\n",
    "output_dim = len(torch.unique(labels_tensor))  # Adjust based on your problem\n",
    "num_layers = 4\n",
    "\n",
    "#model_BILSTM = BiLSTMModel(input_dim, hidden_dim, output_dim, num_layers, dropout_rate=0.3).to(device)"
   ]
  },
  {
   "cell_type": "markdown",
   "metadata": {},
   "source": [
    "GRU"
   ]
  },
  {
   "cell_type": "code",
   "execution_count": 27,
   "metadata": {},
   "outputs": [],
   "source": [
    "import torch.nn as nn\n",
    "import torch.nn.init as init\n",
    "\n",
    "class GRUModel(nn.Module):\n",
    "    def __init__(self, input_dim, hidden_dim, output_dim, num_layers, dropout_rate=0.5):\n",
    "        super(GRUModel, self).__init__()\n",
    "        self.gru = nn.GRU(input_dim, hidden_dim, num_layers, batch_first=True, dropout=dropout_rate)\n",
    "        self.dropout = nn.Dropout(dropout_rate)\n",
    "        self.fc = nn.Linear(hidden_dim, output_dim)\n",
    "\n",
    "        # Initialize the weights of the GRU and fully-connected layers\n",
    "        init.xavier_uniform_(self.fc.weight)\n",
    "        for layer in range(num_layers):\n",
    "            init.xavier_uniform_(getattr(self.gru, f'weight_ih_l{layer}'))\n",
    "            init.xavier_uniform_(getattr(self.gru, f'weight_hh_l{layer}'))\n",
    "\n",
    "    def forward(self, x):\n",
    "        output, _ = self.gru(x)\n",
    "        last_output = output[:, -1, :]  # Take the output from the last timestep\n",
    "        last_output = self.dropout(last_output)\n",
    "        return self.fc(last_output)\n",
    "\n",
    "# Model instantiation\n",
    "input_dim = padded_vectors.size(2)  # vector size\n",
    "hidden_dim = 128  # You can tune this\n",
    "labels_tensor = torch.tensor(labels, dtype=torch.long, device=device)\n",
    "output_dim = len(torch.unique(labels_tensor))  # Adjust based on your problem\n",
    "num_layers = 4\n",
    "\n",
    "#model_GRU = GRUModel(input_dim, hidden_dim, output_dim, num_layers, dropout_rate=0.3).to(device)\n"
   ]
  },
  {
   "cell_type": "markdown",
   "metadata": {},
   "source": [
    "# Run models"
   ]
  },
  {
   "cell_type": "markdown",
   "metadata": {},
   "source": [
    "LSTM"
   ]
  },
  {
   "cell_type": "code",
   "execution_count": 28,
   "metadata": {},
   "outputs": [
    {
     "name": "stdout",
     "output_type": "stream",
     "text": [
      "Running LSTM model\n",
      "Using Early stopping...\n",
      "Using Adam as optimizer...\n",
      "Using Learning Rate Scheduler...\n",
      "Starting training...\n",
      "Epoch [1/30], Training Loss: 1.4004, Validation Loss: 1.3213\n",
      "Epoch [2/30], Training Loss: 0.9592, Validation Loss: 1.1520\n",
      "Epoch [3/30], Training Loss: 0.9632, Validation Loss: 1.0045\n",
      "Epoch [4/30], Training Loss: 0.8380, Validation Loss: 0.9216\n",
      "Epoch [5/30], Training Loss: 0.7425, Validation Loss: 0.8008\n",
      "Epoch [6/30], Training Loss: 0.4147, Validation Loss: 0.7538\n",
      "Epoch [7/30], Training Loss: 0.4307, Validation Loss: 0.7271\n",
      "Epoch [8/30], Training Loss: 0.3879, Validation Loss: 0.7066\n",
      "Epoch [9/30], Training Loss: 0.5098, Validation Loss: 0.7198\n",
      "Epoch [10/30], Training Loss: 0.3872, Validation Loss: 0.6925\n",
      "Epoch [11/30], Training Loss: 0.2578, Validation Loss: 0.7277\n",
      "Epoch [12/30], Training Loss: 0.3257, Validation Loss: 0.7250\n",
      "Epoch [13/30], Training Loss: 0.1522, Validation Loss: 0.7330\n",
      "Epoch [14/30], Training Loss: 0.1341, Validation Loss: 0.8030\n",
      "Epoch [15/30], Training Loss: 0.1429, Validation Loss: 0.8336\n",
      "Terminated due to no validation improvement(Early stopping applied)\n"
     ]
    },
    {
     "data": {
      "image/png": "[encoded data removed]",
      "text/plain": [
       "<Figure size 1200x600 with 1 Axes>"
      ]
     },
     "metadata": {},
     "output_type": "display_data"
    },
    {
     "name": "stdout",
     "output_type": "stream",
     "text": [
      "----------------------------------------------------------------------\n",
      "Accuracy: 77.28\n",
      "Precision: 76.30\n",
      "Recall: 77.28\n",
      "F1 Score: 76.71\n"
     ]
    }
   ],
   "source": [
    "hidden_dim = 128 # No. of neurons in each layer\n",
    "num_layers = 4 # No. of hidden layers\n",
    "model_LSTM = LSTMModel(input_dim, hidden_dim, output_dim, num_layers, dropout_rate=0.4).to(device)\n",
    "lr = 0.002\n",
    "early_stopping = True # Turnn on/off early stopping\n",
    "lr_schedular = True # Turn on/off learning rate scheduler\n",
    "num_epochs = 30\n",
    "optimize = 2 # 1: SGD, 2: Adam, AdamW for any other number\n",
    "print('Running LSTM model')\n",
    "train_ES(model_LSTM, train_loader, val_loader, num_epochs, lr, early_stopping, lr_schedular, optimize)\n",
    "# Note: After training is finished you must re-run the model definition for the one you used\n",
    "print(70*'-')\n",
    "lstm_metrics = {}\n",
    "lstm_metrics['accuracy'], lstm_metrics['precision'], lstm_metrics['recall'], lstm_metrics['f1'] = evaluate_model(model_LSTM, val_loader)"
   ]
  },
  {
   "cell_type": "markdown",
   "metadata": {},
   "source": [
    "Bi-LSTM"
   ]
  },
  {
   "cell_type": "code",
   "execution_count": 29,
   "metadata": {},
   "outputs": [
    {
     "name": "stdout",
     "output_type": "stream",
     "text": [
      "Running BiLSTM model\n",
      "Using Early stopping...\n",
      "Using Adam as optimizer...\n",
      "Using Learning Rate Scheduler...\n",
      "Starting training...\n",
      "Epoch [1/30], Training Loss: 0.4052, Validation Loss: 0.7036\n",
      "Epoch [2/30], Training Loss: 0.4192, Validation Loss: 0.6583\n",
      "Epoch [3/30], Training Loss: 0.4061, Validation Loss: 0.6603\n",
      "Epoch [4/30], Training Loss: 0.5984, Validation Loss: 0.6777\n",
      "Epoch [5/30], Training Loss: 0.6227, Validation Loss: 0.6957\n",
      "Epoch [6/30], Training Loss: 0.6715, Validation Loss: 0.7557\n",
      "Epoch [7/30], Training Loss: 0.5631, Validation Loss: 0.8036\n",
      "Terminated due to no validation improvement(Early stopping applied)\n"
     ]
    },
    {
     "data": {
      "image/png": "[encoded data removed]",
      "text/plain": [
       "<Figure size 1200x600 with 1 Axes>"
      ]
     },
     "metadata": {},
     "output_type": "display_data"
    },
    {
     "name": "stdout",
     "output_type": "stream",
     "text": [
      "----------------------------------------------------------------------\n",
      "Accuracy: 78.43\n",
      "Precision: 77.72\n",
      "Recall: 78.43\n",
      "F1 Score: 77.96\n"
     ]
    }
   ],
   "source": [
    "hidden_dim = 128 # No. of neurons in each layer\n",
    "num_layers = 4 # No. of hidden layers\n",
    "model_BILSTM = BiLSTMModel(input_dim, hidden_dim, output_dim, num_layers, dropout_rate=0.4).to(device)\n",
    "lr = 0.002\n",
    "early_stopping = True # Turnn on/off early stopping\n",
    "lr_schedular = True # Turn on/off learning rate scheduler\n",
    "num_epochs = 30\n",
    "optimize = 2 # 1: SGD, 2: Adam, AdamW for any other number\n",
    "print('Running BiLSTM model')\n",
    "train_ES(model_BILSTM, train_loader, val_loader, num_epochs, lr, early_stopping, lr_schedular, optimize)\n",
    "# Note: After training is finished you must re-run the model definition for the one you used\n",
    "print(70*'-')\n",
    "bilstm_metrics = {}\n",
    "bilstm_metrics['accuracy'], bilstm_metrics['precision'], bilstm_metrics['recall'], bilstm_metrics['f1'] = evaluate_model(model_BILSTM, val_loader)"
   ]
  },
  {
   "cell_type": "markdown",
   "metadata": {},
   "source": [
    "GRU"
   ]
  },
  {
   "cell_type": "code",
   "execution_count": 30,
   "metadata": {},
   "outputs": [
    {
     "name": "stdout",
     "output_type": "stream",
     "text": [
      "Running GRU model\n",
      "Using Early stopping...\n",
      "Using Adam as optimizer...\n",
      "Using Learning Rate Scheduler...\n",
      "Starting training...\n",
      "Epoch [1/30], Training Loss: 0.3934, Validation Loss: 0.7179\n",
      "Epoch [2/30], Training Loss: 0.4808, Validation Loss: 0.6747\n",
      "Epoch [3/30], Training Loss: 0.4178, Validation Loss: 0.6561\n",
      "Epoch [4/30], Training Loss: 0.5424, Validation Loss: 0.6577\n",
      "Epoch [5/30], Training Loss: 0.5736, Validation Loss: 0.6799\n",
      "Epoch [6/30], Training Loss: 0.5899, Validation Loss: 0.7145\n",
      "Epoch [7/30], Training Loss: 0.6277, Validation Loss: 0.7383\n",
      "Epoch [8/30], Training Loss: 0.6059, Validation Loss: 0.7773\n",
      "Terminated due to no validation improvement(Early stopping applied)\n"
     ]
    },
    {
     "data": {
      "image/png": "[encoded data removed]",
      "text/plain": [
       "<Figure size 1200x600 with 1 Axes>"
      ]
     },
     "metadata": {},
     "output_type": "display_data"
    },
    {
     "name": "stdout",
     "output_type": "stream",
     "text": [
      "----------------------------------------------------------------------\n",
      "Accuracy: 77.55\n",
      "Precision: 76.79\n",
      "Recall: 77.55\n",
      "F1 Score: 77.06\n"
     ]
    }
   ],
   "source": [
    "hidden_dim = 128 # No. of neurons in each layer\n",
    "num_layers = 4 # No. of hidden layers\n",
    "model_GRU = GRUModel(input_dim, hidden_dim, output_dim, num_layers, dropout_rate=0.3).to(device)\n",
    "lr = 0.002\n",
    "early_stopping = True # Turnn on/off early stopping\n",
    "lr_schedular = True # Turn on/off learning rate scheduler\n",
    "num_epochs = 30\n",
    "optimize = 2 # 1: SGD, 2: Adam, AdamW for any other number\n",
    "print('Running GRU model')\n",
    "train_ES(model_GRU, train_loader, val_loader, num_epochs, lr, early_stopping, lr_schedular, optimize)\n",
    "# Note: After training is finished you must re-run the model definition for the one you used\n",
    "print(70*'-')\n",
    "gru_metrics = {}\n",
    "gru_metrics['accuracy'], gru_metrics['precision'], gru_metrics['recall'], gru_metrics['f1'] = evaluate_model(model_GRU, val_loader)"
   ]
  },
  {
   "cell_type": "markdown",
   "metadata": {},
   "source": [
    "# Comparison"
   ]
  },
  {
   "cell_type": "code",
   "execution_count": 31,
   "metadata": {},
   "outputs": [
    {
     "data": {
      "application/vnd.plotly.v1+json": {
       "config": {
        "plotlyServerURL": "https://plot.ly"
       },
       "data": [
        {
         "name": "Accuracy",
         "type": "bar",
         "x": [
          "LSTM",
          "BiLSTM",
          "GRU"
         ],
         "xaxis": "x",
         "y": [
          77.27781230577999,
          78.43380981976384,
          77.55127408328154
         ],
         "yaxis": "y"
        },
        {
         "name": "Precision",
         "type": "bar",
         "x": [
          "LSTM",
          "BiLSTM",
          "GRU"
         ],
         "xaxis": "x",
         "y": [
          76.3033086359664,
          77.72349542842296,
          76.7924027824002
         ],
         "yaxis": "y"
        },
        {
         "name": "Recall",
         "type": "bar",
         "x": [
          "LSTM",
          "BiLSTM",
          "GRU"
         ],
         "xaxis": "x",
         "y": [
          77.27781230577999,
          78.43380981976384,
          77.55127408328154
         ],
         "yaxis": "y"
        }
       ],
       "layout": {
        "barmode": "group",
        "legend": {
         "bgcolor": "rgba(0,0,0,0)",
         "bordercolor": "Black",
         "borderwidth": 2,
         "traceorder": "normal",
         "x": 1.05,
         "y": 1
        },
        "template": {
         "data": {
          "bar": [
           {
            "error_x": {
             "color": "#2a3f5f"
            },
            "error_y": {
             "color": "#2a3f5f"
            },
            "marker": {
             "line": {
              "color": "#E5ECF6",
              "width": 0.5
             },
             "pattern": {
              "fillmode": "overlay",
              "size": 10,
              "solidity": 0.2
             }
            },
            "type": "bar"
           }
          ],
          "barpolar": [
           {
            "marker": {
             "line": {
              "color": "#E5ECF6",
              "width": 0.5
             },
             "pattern": {
              "fillmode": "overlay",
              "size": 10,
              "solidity": 0.2
             }
            },
            "type": "barpolar"
           }
          ],
          "carpet": [
           {
            "aaxis": {
             "endlinecolor": "#2a3f5f",
             "gridcolor": "white",
             "linecolor": "white",
             "minorgridcolor": "white",
             "startlinecolor": "#2a3f5f"
            },
            "baxis": {
             "endlinecolor": "#2a3f5f",
             "gridcolor": "white",
             "linecolor": "white",
             "minorgridcolor": "white",
             "startlinecolor": "#2a3f5f"
            },
            "type": "carpet"
           }
          ],
          "choropleth": [
           {
            "colorbar": {
             "outlinewidth": 0,
             "ticks": ""
            },
            "type": "choropleth"
           }
          ],
          "contour": [
           {
            "colorbar": {
             "outlinewidth": 0,
             "ticks": ""
            },
            "colorscale": [
             [
              0,
              "#0d0887"
             ],
             [
              0.1111111111111111,
              "#46039f"
             ],
             [
              0.2222222222222222,
              "#7201a8"
             ],
             [
              0.3333333333333333,
              "#9c179e"
             ],
             [
              0.4444444444444444,
              "#bd3786"
             ],
             [
              0.5555555555555556,
              "#d8576b"
             ],
             [
              0.6666666666666666,
              "#ed7953"
             ],
             [
              0.7777777777777778,
              "#fb9f3a"
             ],
             [
              0.8888888888888888,
              "#fdca26"
             ],
             [
              1,
              "#f0f921"
             ]
            ],
            "type": "contour"
           }
          ],
          "contourcarpet": [
           {
            "colorbar": {
             "outlinewidth": 0,
             "ticks": ""
            },
            "type": "contourcarpet"
           }
          ],
          "heatmap": [
           {
            "colorbar": {
             "outlinewidth": 0,
             "ticks": ""
            },
            "colorscale": [
             [
              0,
              "#0d0887"
             ],
             [
              0.1111111111111111,
              "#46039f"
             ],
             [
              0.2222222222222222,
              "#7201a8"
             ],
             [
              0.3333333333333333,
              "#9c179e"
             ],
             [
              0.4444444444444444,
              "#bd3786"
             ],
             [
              0.5555555555555556,
              "#d8576b"
             ],
             [
              0.6666666666666666,
              "#ed7953"
             ],
             [
              0.7777777777777778,
              "#fb9f3a"
             ],
             [
              0.8888888888888888,
              "#fdca26"
             ],
             [
              1,
              "#f0f921"
             ]
            ],
            "type": "heatmap"
           }
          ],
          "heatmapgl": [
           {
            "colorbar": {
             "outlinewidth": 0,
             "ticks": ""
            },
            "colorscale": [
             [
              0,
              "#0d0887"
             ],
             [
              0.1111111111111111,
              "#46039f"
             ],
             [
              0.2222222222222222,
              "#7201a8"
             ],
             [
              0.3333333333333333,
              "#9c179e"
             ],
             [
              0.4444444444444444,
              "#bd3786"
             ],
             [
              0.5555555555555556,
              "#d8576b"
             ],
             [
              0.6666666666666666,
              "#ed7953"
             ],
             [
              0.7777777777777778,
              "#fb9f3a"
             ],
             [
              0.8888888888888888,
              "#fdca26"
             ],
             [
              1,
              "#f0f921"
             ]
            ],
            "type": "heatmapgl"
           }
          ],
          "histogram": [
           {
            "marker": {
             "pattern": {
              "fillmode": "overlay",
              "size": 10,
              "solidity": 0.2
             }
            },
            "type": "histogram"
           }
          ],
          "histogram2d": [
           {
            "colorbar": {
             "outlinewidth": 0,
             "ticks": ""
            },
            "colorscale": [
             [
              0,
              "#0d0887"
             ],
             [
              0.1111111111111111,
              "#46039f"
             ],
             [
              0.2222222222222222,
              "#7201a8"
             ],
             [
              0.3333333333333333,
              "#9c179e"
             ],
             [
              0.4444444444444444,
              "#bd3786"
             ],
             [
              0.5555555555555556,
              "#d8576b"
             ],
             [
              0.6666666666666666,
              "#ed7953"
             ],
             [
              0.7777777777777778,
              "#fb9f3a"
             ],
             [
              0.8888888888888888,
              "#fdca26"
             ],
             [
              1,
              "#f0f921"
             ]
            ],
            "type": "histogram2d"
           }
          ],
          "histogram2dcontour": [
           {
            "colorbar": {
             "outlinewidth": 0,
             "ticks": ""
            },
            "colorscale": [
             [
              0,
              "#0d0887"
             ],
             [
              0.1111111111111111,
              "#46039f"
             ],
             [
              0.2222222222222222,
              "#7201a8"
             ],
             [
              0.3333333333333333,
              "#9c179e"
             ],
             [
              0.4444444444444444,
              "#bd3786"
             ],
             [
              0.5555555555555556,
              "#d8576b"
             ],
             [
              0.6666666666666666,
              "#ed7953"
             ],
             [
              0.7777777777777778,
              "#fb9f3a"
             ],
             [
              0.8888888888888888,
              "#fdca26"
             ],
             [
              1,
              "#f0f921"
             ]
            ],
            "type": "histogram2dcontour"
           }
          ],
          "mesh3d": [
           {
            "colorbar": {
             "outlinewidth": 0,
             "ticks": ""
            },
            "type": "mesh3d"
           }
          ],
          "parcoords": [
           {
            "line": {
             "colorbar": {
              "outlinewidth": 0,
              "ticks": ""
             }
            },
            "type": "parcoords"
           }
          ],
          "pie": [
           {
            "automargin": true,
            "type": "pie"
           }
          ],
          "scatter": [
           {
            "fillpattern": {
             "fillmode": "overlay",
             "size": 10,
             "solidity": 0.2
            },
            "type": "scatter"
           }
          ],
          "scatter3d": [
           {
            "line": {
             "colorbar": {
              "outlinewidth": 0,
              "ticks": ""
             }
            },
            "marker": {
             "colorbar": {
              "outlinewidth": 0,
              "ticks": ""
             }
            },
            "type": "scatter3d"
           }
          ],
          "scattercarpet": [
           {
            "marker": {
             "colorbar": {
              "outlinewidth": 0,
              "ticks": ""
             }
            },
            "type": "scattercarpet"
           }
          ],
          "scattergeo": [
           {
            "marker": {
             "colorbar": {
              "outlinewidth": 0,
              "ticks": ""
             }
            },
            "type": "scattergeo"
           }
          ],
          "scattergl": [
           {
            "marker": {
             "colorbar": {
              "outlinewidth": 0,
              "ticks": ""
             }
            },
            "type": "scattergl"
           }
          ],
          "scattermapbox": [
           {
            "marker": {
             "colorbar": {
              "outlinewidth": 0,
              "ticks": ""
             }
            },
            "type": "scattermapbox"
           }
          ],
          "scatterpolar": [
           {
            "marker": {
             "colorbar": {
              "outlinewidth": 0,
              "ticks": ""
             }
            },
            "type": "scatterpolar"
           }
          ],
          "scatterpolargl": [
           {
            "marker": {
             "colorbar": {
              "outlinewidth": 0,
              "ticks": ""
             }
            },
            "type": "scatterpolargl"
           }
          ],
          "scatterternary": [
           {
            "marker": {
             "colorbar": {
              "outlinewidth": 0,
              "ticks": ""
             }
            },
            "type": "scatterternary"
           }
          ],
          "surface": [
           {
            "colorbar": {
             "outlinewidth": 0,
             "ticks": ""
            },
            "colorscale": [
             [
              0,
              "#0d0887"
             ],
             [
              0.1111111111111111,
              "#46039f"
             ],
             [
              0.2222222222222222,
              "#7201a8"
             ],
             [
              0.3333333333333333,
              "#9c179e"
             ],
             [
              0.4444444444444444,
              "#bd3786"
             ],
             [
              0.5555555555555556,
              "#d8576b"
             ],
             [
              0.6666666666666666,
              "#ed7953"
             ],
             [
              0.7777777777777778,
              "#fb9f3a"
             ],
             [
              0.8888888888888888,
              "#fdca26"
             ],
             [
              1,
              "#f0f921"
             ]
            ],
            "type": "surface"
           }
          ],
          "table": [
           {
            "cells": {
             "fill": {
              "color": "#EBF0F8"
             },
             "line": {
              "color": "white"
             }
            },
            "header": {
             "fill": {
              "color": "#C8D4E3"
             },
             "line": {
              "color": "white"
             }
            },
            "type": "table"
           }
          ]
         },
         "layout": {
          "annotationdefaults": {
           "arrowcolor": "#2a3f5f",
           "arrowhead": 0,
           "arrowwidth": 1
          },
          "autotypenumbers": "strict",
          "coloraxis": {
           "colorbar": {
            "outlinewidth": 0,
            "ticks": ""
           }
          },
          "colorscale": {
           "diverging": [
            [
             0,
             "#8e0152"
            ],
            [
             0.1,
             "#c51b7d"
            ],
            [
             0.2,
             "#de77ae"
            ],
            [
             0.3,
             "#f1b6da"
            ],
            [
             0.4,
             "#fde0ef"
            ],
            [
             0.5,
             "#f7f7f7"
            ],
            [
             0.6,
             "#e6f5d0"
            ],
            [
             0.7,
             "#b8e186"
            ],
            [
             0.8,
             "#7fbc41"
            ],
            [
             0.9,
             "#4d9221"
            ],
            [
             1,
             "#276419"
            ]
           ],
           "sequential": [
            [
             0,
             "#0d0887"
            ],
            [
             0.1111111111111111,
             "#46039f"
            ],
            [
             0.2222222222222222,
             "#7201a8"
            ],
            [
             0.3333333333333333,
             "#9c179e"
            ],
            [
             0.4444444444444444,
             "#bd3786"
            ],
            [
             0.5555555555555556,
             "#d8576b"
            ],
            [
             0.6666666666666666,
             "#ed7953"
            ],
            [
             0.7777777777777778,
             "#fb9f3a"
            ],
            [
             0.8888888888888888,
             "#fdca26"
            ],
            [
             1,
             "#f0f921"
            ]
           ],
           "sequentialminus": [
            [
             0,
             "#0d0887"
            ],
            [
             0.1111111111111111,
             "#46039f"
            ],
            [
             0.2222222222222222,
             "#7201a8"
            ],
            [
             0.3333333333333333,
             "#9c179e"
            ],
            [
             0.4444444444444444,
             "#bd3786"
            ],
            [
             0.5555555555555556,
             "#d8576b"
            ],
            [
             0.6666666666666666,
             "#ed7953"
            ],
            [
             0.7777777777777778,
             "#fb9f3a"
            ],
            [
             0.8888888888888888,
             "#fdca26"
            ],
            [
             1,
             "#f0f921"
            ]
           ]
          },
          "colorway": [
           "#636efa",
           "#EF553B",
           "#00cc96",
           "#ab63fa",
           "#FFA15A",
           "#19d3f3",
           "#FF6692",
           "#B6E880",
           "#FF97FF",
           "#FECB52"
          ],
          "font": {
           "color": "#2a3f5f"
          },
          "geo": {
           "bgcolor": "white",
           "lakecolor": "white",
           "landcolor": "#E5ECF6",
           "showlakes": true,
           "showland": true,
           "subunitcolor": "white"
          },
          "hoverlabel": {
           "align": "left"
          },
          "hovermode": "closest",
          "mapbox": {
           "style": "light"
          },
          "paper_bgcolor": "white",
          "plot_bgcolor": "#E5ECF6",
          "polar": {
           "angularaxis": {
            "gridcolor": "white",
            "linecolor": "white",
            "ticks": ""
           },
           "bgcolor": "#E5ECF6",
           "radialaxis": {
            "gridcolor": "white",
            "linecolor": "white",
            "ticks": ""
           }
          },
          "scene": {
           "xaxis": {
            "backgroundcolor": "#E5ECF6",
            "gridcolor": "white",
            "gridwidth": 2,
            "linecolor": "white",
            "showbackground": true,
            "ticks": "",
            "zerolinecolor": "white"
           },
           "yaxis": {
            "backgroundcolor": "#E5ECF6",
            "gridcolor": "white",
            "gridwidth": 2,
            "linecolor": "white",
            "showbackground": true,
            "ticks": "",
            "zerolinecolor": "white"
           },
           "zaxis": {
            "backgroundcolor": "#E5ECF6",
            "gridcolor": "white",
            "gridwidth": 2,
            "linecolor": "white",
            "showbackground": true,
            "ticks": "",
            "zerolinecolor": "white"
           }
          },
          "shapedefaults": {
           "line": {
            "color": "#2a3f5f"
           }
          },
          "ternary": {
           "aaxis": {
            "gridcolor": "white",
            "linecolor": "white",
            "ticks": ""
           },
           "baxis": {
            "gridcolor": "white",
            "linecolor": "white",
            "ticks": ""
           },
           "bgcolor": "#E5ECF6",
           "caxis": {
            "gridcolor": "white",
            "linecolor": "white",
            "ticks": ""
           }
          },
          "title": {
           "x": 0.05
          },
          "xaxis": {
           "automargin": true,
           "gridcolor": "white",
           "linecolor": "white",
           "ticks": "",
           "title": {
            "standoff": 15
           },
           "zerolinecolor": "white",
           "zerolinewidth": 2
          },
          "yaxis": {
           "automargin": true,
           "gridcolor": "white",
           "linecolor": "white",
           "ticks": "",
           "title": {
            "standoff": 15
           },
           "zerolinecolor": "white",
           "zerolinewidth": 2
          }
         }
        },
        "title": {
         "text": "Comparison of Evaluation Metrics across Models"
        },
        "xaxis": {
         "anchor": "y",
         "domain": [
          0,
          1
         ],
         "title": {
          "text": "Models"
         },
         "type": "category"
        },
        "yaxis": {
         "anchor": "x",
         "domain": [
          0,
          1
         ],
         "title": {
          "text": "Metric Values"
         }
        }
       }
      }
     },
     "metadata": {},
     "output_type": "display_data"
    }
   ],
   "source": [
    "import plotly.graph_objs as go\n",
    "from plotly.subplots import make_subplots\n",
    "\n",
    "\n",
    "\n",
    "# Create a list of model names\n",
    "model_names = ['LSTM', 'BiLSTM', 'GRU']\n",
    "\n",
    "# Create a list of metric values for each model\n",
    "accuracy_values = [ lstm_metrics['accuracy'], bilstm_metrics['accuracy'], gru_metrics['accuracy']]\n",
    "precision_values = [ lstm_metrics['precision'], bilstm_metrics['precision'], gru_metrics['precision']]\n",
    "recall_values = [ lstm_metrics['recall'], bilstm_metrics['recall'], gru_metrics['recall']]\n",
    "f1_values = [ lstm_metrics['f1'], bilstm_metrics['f1'], gru_metrics['f1']]\n",
    "\n",
    "trace1 = go.Bar(x=model_names, y=accuracy_values, name='Accuracy')\n",
    "trace2 = go.Bar(x=model_names, y=precision_values, name='Precision')\n",
    "trace3 = go.Bar(x=model_names, y=recall_values, name='Recall')\n",
    "trace4 = go.Bar(x=model_names, y=f1_values, name='F1-score')\n",
    "\n",
    "# Create the figure and layout\n",
    "fig = make_subplots(rows=1, cols=1)\n",
    "fig.add_trace(trace1, row=1, col=1)\n",
    "fig.add_trace(trace2, row=1, col=1)\n",
    "fig.add_trace(trace3, row=1, col=1)\n",
    "\n",
    "\n",
    "# Update the layout\n",
    "fig.update_layout(\n",
    "    title='Comparison of Evaluation Metrics across Models',\n",
    "    xaxis_title='Models',\n",
    "    yaxis_title='Metric Values',\n",
    "    barmode='group',\n",
    "    legend=dict(\n",
    "        x=1.05,\n",
    "        y=1,\n",
    "        traceorder='normal',\n",
    "        bgcolor='rgba(0,0,0,0)',\n",
    "        bordercolor='Black',\n",
    "        borderwidth=2\n",
    "    ),\n",
    "    xaxis_type='category'\n",
    ")\n",
    "\n",
    "# Show the plot\n",
    "fig.show()"
   ]
  }
 ],
 "metadata": {
  "kernelspec": {
   "display_name": "Python 3",
   "language": "python",
   "name": "python3"
  },
  "language_info": {
   "codemirror_mode": {
    "name": "ipython",
    "version": 3
   },
   "file_extension": ".py",
   "mimetype": "text/x-python",
   "name": "python",
   "nbconvert_exporter": "python",
   "pygments_lexer": "ipython3",
   "version": "3.11.5"
  }
 },
 "nbformat": 4,
 "nbformat_minor": 2
}
