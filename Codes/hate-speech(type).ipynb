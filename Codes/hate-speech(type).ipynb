{
 "cells": [
  {
   "cell_type": "code",
   "execution_count": 5,
   "metadata": {},
   "outputs": [
    {
     "name": "stdout",
     "output_type": "stream",
     "text": [
      "Requirement already satisfied: bnlp_toolkit in c:\\users\\user\\anaconda3\\lib\\site-packages (4.0.1)\n",
      "Requirement already satisfied: sentencepiece==0.2.0 in c:\\users\\user\\anaconda3\\lib\\site-packages (from bnlp_toolkit) (0.2.0)\n",
      "Requirement already satisfied: gensim==4.3.2 in c:\\users\\user\\anaconda3\\lib\\site-packages (from bnlp_toolkit) (4.3.2)\n",
      "Requirement already satisfied: nltk==3.8.1 in c:\\users\\user\\anaconda3\\lib\\site-packages (from bnlp_toolkit) (3.8.1)\n",
      "Requirement already satisfied: numpy in c:\\users\\user\\anaconda3\\lib\\site-packages (from bnlp_toolkit) (1.26.4)\n",
      "Requirement already satisfied: scipy==1.10.1 in c:\\users\\user\\anaconda3\\lib\\site-packages (from bnlp_toolkit) (1.10.1)\n",
      "Requirement already satisfied: sklearn-crfsuite==0.3.6 in c:\\users\\user\\anaconda3\\lib\\site-packages (from bnlp_toolkit) (0.3.6)\n",
      "Requirement already satisfied: tqdm==4.66.3 in c:\\users\\user\\anaconda3\\lib\\site-packages (from bnlp_toolkit) (4.66.3)\n",
      "Requirement already satisfied: ftfy==6.2.0 in c:\\users\\user\\anaconda3\\lib\\site-packages (from bnlp_toolkit) (6.2.0)\n",
      "Requirement already satisfied: emoji==1.7.0 in c:\\users\\user\\anaconda3\\lib\\site-packages (from bnlp_toolkit) (1.7.0)\n",
      "Requirement already satisfied: requests in c:\\users\\user\\anaconda3\\lib\\site-packages (from bnlp_toolkit) (2.31.0)\n",
      "Requirement already satisfied: wcwidth<0.3.0,>=0.2.12 in c:\\users\\user\\anaconda3\\lib\\site-packages (from ftfy==6.2.0->bnlp_toolkit) (0.2.13)\n",
      "Requirement already satisfied: smart-open>=1.8.1 in c:\\users\\user\\anaconda3\\lib\\site-packages (from gensim==4.3.2->bnlp_toolkit) (5.2.1)\n",
      "Requirement already satisfied: click in c:\\users\\user\\anaconda3\\lib\\site-packages (from nltk==3.8.1->bnlp_toolkit) (8.1.7)\n",
      "Requirement already satisfied: joblib in c:\\users\\user\\anaconda3\\lib\\site-packages (from nltk==3.8.1->bnlp_toolkit) (1.2.0)\n",
      "Requirement already satisfied: regex>=2021.8.3 in c:\\users\\user\\anaconda3\\lib\\site-packages (from nltk==3.8.1->bnlp_toolkit) (2022.7.9)\n",
      "Requirement already satisfied: python-crfsuite>=0.8.3 in c:\\users\\user\\anaconda3\\lib\\site-packages (from sklearn-crfsuite==0.3.6->bnlp_toolkit) (0.9.10)\n",
      "Requirement already satisfied: six in c:\\users\\user\\anaconda3\\lib\\site-packages (from sklearn-crfsuite==0.3.6->bnlp_toolkit) (1.16.0)\n",
      "Requirement already satisfied: tabulate in c:\\users\\user\\anaconda3\\lib\\site-packages (from sklearn-crfsuite==0.3.6->bnlp_toolkit) (0.8.10)\n",
      "Requirement already satisfied: colorama in c:\\users\\user\\anaconda3\\lib\\site-packages (from tqdm==4.66.3->bnlp_toolkit) (0.4.6)\n",
      "Requirement already satisfied: charset-normalizer<4,>=2 in c:\\users\\user\\anaconda3\\lib\\site-packages (from requests->bnlp_toolkit) (2.0.4)\n",
      "Requirement already satisfied: idna<4,>=2.5 in c:\\users\\user\\anaconda3\\lib\\site-packages (from requests->bnlp_toolkit) (3.4)\n",
      "Requirement already satisfied: urllib3<3,>=1.21.1 in c:\\users\\user\\anaconda3\\lib\\site-packages (from requests->bnlp_toolkit) (2.2.1)\n",
      "Requirement already satisfied: certifi>=2017.4.17 in c:\\users\\user\\anaconda3\\lib\\site-packages (from requests->bnlp_toolkit) (2024.2.2)\n"
     ]
    }
   ],
   "source": [
    "!pip install -U bnlp_toolkit"
   ]
  },
  {
   "cell_type": "code",
   "execution_count": 1,
   "metadata": {},
   "outputs": [],
   "source": [
    "import torch\n",
    "import torch.nn as nn\n",
    "import sklearn\n",
    "import numpy as np\n",
    "import pandas as pd\n",
    "import re\n",
    "import matplotlib.pyplot as plt\n",
    "import seaborn as sns\n",
    "import fasttext\n",
    "from bnlp import BasicTokenizer\n",
    "from bnlp import SentencepieceTokenizer\n",
    "from bnlp import BengaliWord2Vec\n",
    "from bnlp import NLTKTokenizer\n",
    "from torch.nn.utils.rnn import pad_sequence\n",
    "from torch.utils.data import DataLoader, Dataset\n",
    "from tqdm import tqdm\n",
    "from transformers import BertTokenizer, BertForSequenceClassification, AdamW\n",
    "from sklearn.metrics import precision_recall_fscore_support\n"
   ]
  },
  {
   "cell_type": "code",
   "execution_count": 6,
   "metadata": {},
   "outputs": [],
   "source": [
    "dataset = pd.read_csv(\"F:/Course/CSE465/Porject/dataset/encoded_test.csv\")\n",
    "df = dataset"
   ]
  },
  {
   "cell_type": "code",
   "execution_count": 7,
   "metadata": {},
   "outputs": [
    {
     "data": {
      "text/html": [
       "<div>\n",
       "<style scoped>\n",
       "    .dataframe tbody tr th:only-of-type {\n",
       "        vertical-align: middle;\n",
       "    }\n",
       "\n",
       "    .dataframe tbody tr th {\n",
       "        vertical-align: top;\n",
       "    }\n",
       "\n",
       "    .dataframe thead th {\n",
       "        text-align: right;\n",
       "    }\n",
       "</style>\n",
       "<table border=\"1\" class=\"dataframe\">\n",
       "  <thead>\n",
       "    <tr style=\"text-align: right;\">\n",
       "      <th></th>\n",
       "      <th>sentence</th>\n",
       "      <th>type</th>\n",
       "      <th>hate speech</th>\n",
       "      <th>encoded_type</th>\n",
       "    </tr>\n",
       "  </thead>\n",
       "  <tbody>\n",
       "    <tr>\n",
       "      <th>0</th>\n",
       "      <td>গরুর বাচ্চা কুকুরের বাচ্চা</td>\n",
       "      <td>slander</td>\n",
       "      <td>1</td>\n",
       "      <td>6</td>\n",
       "    </tr>\n",
       "    <tr>\n",
       "      <th>1</th>\n",
       "      <td>অন্যায় দাবি করছে ক্রিকেটাররা অথচ দোষ নাকি বোর্...</td>\n",
       "      <td>religion</td>\n",
       "      <td>1</td>\n",
       "      <td>13</td>\n",
       "    </tr>\n",
       "    <tr>\n",
       "      <th>2</th>\n",
       "      <td>আইসিসিকে এই তথ্য দিলো কেশুওরের বাচ্চা পাপন</td>\n",
       "      <td>slander</td>\n",
       "      <td>1</td>\n",
       "      <td>6</td>\n",
       "    </tr>\n",
       "    <tr>\n",
       "      <th>3</th>\n",
       "      <td>আওয়ামীলীগ ভারতের দালাল মোদি নির্বাচিত হওয়ার পর...</td>\n",
       "      <td>slander</td>\n",
       "      <td>1</td>\n",
       "      <td>6</td>\n",
       "    </tr>\n",
       "    <tr>\n",
       "      <th>4</th>\n",
       "      <td>আগারওয়াল পিউর বাস্টার্ড এর কিছু হবে না</td>\n",
       "      <td>slander</td>\n",
       "      <td>1</td>\n",
       "      <td>6</td>\n",
       "    </tr>\n",
       "    <tr>\n",
       "      <th>...</th>\n",
       "      <td>...</td>\n",
       "      <td>...</td>\n",
       "      <td>...</td>\n",
       "      <td>...</td>\n",
       "    </tr>\n",
       "    <tr>\n",
       "      <th>5024</th>\n",
       "      <td>হেট লাইন কি দিছোফালতু হেট লাইন দেয়ার জন্যআইন অ...</td>\n",
       "      <td>0</td>\n",
       "      <td>0</td>\n",
       "      <td>0</td>\n",
       "    </tr>\n",
       "    <tr>\n",
       "      <th>5025</th>\n",
       "      <td>হ্যা অবশ্যই পারবে শাকিব খান যেমন সুন্দর স্মার্...</td>\n",
       "      <td>0</td>\n",
       "      <td>0</td>\n",
       "      <td>0</td>\n",
       "    </tr>\n",
       "    <tr>\n",
       "      <th>5026</th>\n",
       "      <td>হ্যাঁ ক্ষমা করে দিয়েছি রানু দিকে</td>\n",
       "      <td>0</td>\n",
       "      <td>0</td>\n",
       "      <td>0</td>\n",
       "    </tr>\n",
       "    <tr>\n",
       "      <th>5027</th>\n",
       "      <td>হ্যাঁ পমিতের যাব যেন শাকিব খানের উপজেলা এক হয়...</td>\n",
       "      <td>0</td>\n",
       "      <td>0</td>\n",
       "      <td>0</td>\n",
       "    </tr>\n",
       "    <tr>\n",
       "      <th>5028</th>\n",
       "      <td>হ্যালো আসসালামু আলাইকুম আল্লাহ তুমি মুসলমানদের...</td>\n",
       "      <td>0</td>\n",
       "      <td>0</td>\n",
       "      <td>0</td>\n",
       "    </tr>\n",
       "  </tbody>\n",
       "</table>\n",
       "<p>5029 rows × 4 columns</p>\n",
       "</div>"
      ],
      "text/plain": [
       "                                               sentence      type  \\\n",
       "0                            গরুর বাচ্চা কুকুরের বাচ্চা   slander   \n",
       "1     অন্যায় দাবি করছে ক্রিকেটাররা অথচ দোষ নাকি বোর্...  religion   \n",
       "2            আইসিসিকে এই তথ্য দিলো কেশুওরের বাচ্চা পাপন   slander   \n",
       "3     আওয়ামীলীগ ভারতের দালাল মোদি নির্বাচিত হওয়ার পর...   slander   \n",
       "4                আগারওয়াল পিউর বাস্টার্ড এর কিছু হবে না   slander   \n",
       "...                                                 ...       ...   \n",
       "5024  হেট লাইন কি দিছোফালতু হেট লাইন দেয়ার জন্যআইন অ...         0   \n",
       "5025  হ্যা অবশ্যই পারবে শাকিব খান যেমন সুন্দর স্মার্...         0   \n",
       "5026                  হ্যাঁ ক্ষমা করে দিয়েছি রানু দিকে         0   \n",
       "5027  হ্যাঁ পমিতের যাব যেন শাকিব খানের উপজেলা এক হয়...         0   \n",
       "5028  হ্যালো আসসালামু আলাইকুম আল্লাহ তুমি মুসলমানদের...         0   \n",
       "\n",
       "      hate speech  encoded_type  \n",
       "0               1             6  \n",
       "1               1            13  \n",
       "2               1             6  \n",
       "3               1             6  \n",
       "4               1             6  \n",
       "...           ...           ...  \n",
       "5024            0             0  \n",
       "5025            0             0  \n",
       "5026            0             0  \n",
       "5027            0             0  \n",
       "5028            0             0  \n",
       "\n",
       "[5029 rows x 4 columns]"
      ]
     },
     "execution_count": 7,
     "metadata": {},
     "output_type": "execute_result"
    }
   ],
   "source": [
    "df"
   ]
  },
  {
   "cell_type": "markdown",
   "metadata": {},
   "source": [
    "# Cleaning\n"
   ]
  },
  {
   "cell_type": "code",
   "execution_count": 4,
   "metadata": {},
   "outputs": [],
   "source": [
    "def clean_text(text):\n",
    "    # Emoji removal pattern covering various emoji ranges\n",
    "    emoji_pattern = re.compile(\"[\"\n",
    "                               u\"\\U0001F600-\\U0001F64F\"\n",
    "                               u\"\\U0001F300-\\U0001F5FF\"\n",
    "                               u\"\\U0001F680-\\U0001F6FF\"\n",
    "                               u\"\\U0001F700-\\U0001F77F\"\n",
    "                               u\"\\U0001F780-\\U0001F7FF\"\n",
    "                               u\"\\U0001F800-\\U0001F8FF\"\n",
    "                               u\"\\U0001F900-\\U0001F9FF\"\n",
    "                               u\"\\U0001FA00-\\U0001FA6F\"\n",
    "                               u\"\\U0001FA70-\\U0001FAFF\"\n",
    "                               u\"\\U00002702-\\U000027B0\"\n",
    "                               u\"\\U000024C2-\\U0001F251\"\n",
    "                               \"]+\", flags=re.UNICODE)\n",
    "    # Remove emojis\n",
    "    text = emoji_pattern.sub(r'', text)\n",
    "    # Remove English characters & numbers\n",
    "    text = re.sub(r'[A-Za-z0-9]', '', text)\n",
    "    # Remove extra spaces\n",
    "    text = re.sub(r'\\s+', ' ', text).strip()\n",
    "    # Remove punctuation\n",
    "    text = re.sub(r'[!\"#$%&\\'()*+,-./:;<=>?@[\\\\]^_`{|}~]০১২৩৪৫৬৭৮৯', '', text)\n",
    "    punctuations = '''`|¢|Ñ+-*/=EROero৳০১২৩৪৫৬৭৮৯012–34567•89।!()-[]{};:'\"“\\’,<>./?@#$%^&*_~‘—॥”‰🤣⚽️✌�￰৷￰'''\n",
    "    # Create a character class to remove specified characters\n",
    "    regex_pattern = '[' + re.escape(punctuations) + ']'\n",
    "    text = re.sub(regex_pattern, '', text)\n",
    "\n",
    "\n",
    "    return text\n",
    "\n",
    "df['sentence'] = df['sentence'].apply(clean_text)\n",
    "df = df.drop(columns=['target'])"
   ]
  },
  {
   "cell_type": "code",
   "execution_count": 7,
   "metadata": {},
   "outputs": [
    {
     "name": "stdout",
     "output_type": "stream",
     "text": [
      "<class 'pandas.core.frame.DataFrame'>\n",
      "RangeIndex: 40224 entries, 0 to 40223\n",
      "Data columns (total 4 columns):\n",
      " #   Column        Non-Null Count  Dtype \n",
      "---  ------        --------------  ----- \n",
      " 0   sentence      40222 non-null  object\n",
      " 1   type          40224 non-null  object\n",
      " 2   hate speech   40224 non-null  int64 \n",
      " 3   encoded_type  40224 non-null  int64 \n",
      "dtypes: int64(2), object(2)\n",
      "memory usage: 1.2+ MB\n"
     ]
    }
   ],
   "source": [
    "df.info()"
   ]
  },
  {
   "cell_type": "code",
   "execution_count": 9,
   "metadata": {},
   "outputs": [
    {
     "data": {
      "text/plain": [
       "sentence        0\n",
       "type            0\n",
       "hate speech     0\n",
       "encoded_type    0\n",
       "dtype: int64"
      ]
     },
     "execution_count": 9,
     "metadata": {},
     "output_type": "execute_result"
    }
   ],
   "source": [
    "df.isnull().sum() # Null values mean the corresponding sentence is not hate speech\n"
   ]
  },
  {
   "cell_type": "code",
   "execution_count": 5,
   "metadata": {},
   "outputs": [],
   "source": [
    "df.to_csv(\"type_train.csv\", index=False)"
   ]
  },
  {
   "cell_type": "code",
   "execution_count": 9,
   "metadata": {},
   "outputs": [],
   "source": [
    "df['type'].fillna('0', inplace=True) # Replace null values with 0\n",
    "\n"
   ]
  },
  {
   "cell_type": "code",
   "execution_count": 7,
   "metadata": {},
   "outputs": [
    {
     "data": {
      "text/plain": [
       "sentence       0\n",
       "type           0\n",
       "hate speech    0\n",
       "dtype: int64"
      ]
     },
     "execution_count": 7,
     "metadata": {},
     "output_type": "execute_result"
    }
   ],
   "source": [
    "df.isnull().sum() \n"
   ]
  },
  {
   "cell_type": "code",
   "execution_count": 8,
   "metadata": {},
   "outputs": [
    {
     "data": {
      "text/plain": [
       "15"
      ]
     },
     "execution_count": 8,
     "metadata": {},
     "output_type": "execute_result"
    }
   ],
   "source": [
    "type_unique = df['type'].nunique()\n",
    "type_unique"
   ]
  },
  {
   "cell_type": "code",
   "execution_count": 10,
   "metadata": {},
   "outputs": [
    {
     "data": {
      "text/plain": [
       "array(['slander', 'religion', 'religion_slander', 'gender',\n",
       "       'callToViolence', 'callToViolence_slander',\n",
       "       'callToViolence_gender', 'gender_slander', '0',\n",
       "       'callToViolence_gender_slander', 'gender_religion',\n",
       "       'gender_religion_slander', 'callToViolence_religion',\n",
       "       'callToViolence_religion_slander',\n",
       "       'callToViolence_gender_religion_slander'], dtype=object)"
      ]
     },
     "execution_count": 10,
     "metadata": {},
     "output_type": "execute_result"
    }
   ],
   "source": [
    "distinct_classes = df['type'].unique()\n",
    "distinct_classes\n"
   ]
  },
  {
   "cell_type": "code",
   "execution_count": 12,
   "metadata": {},
   "outputs": [
    {
     "data": {
      "text/html": [
       "<div>\n",
       "<style scoped>\n",
       "    .dataframe tbody tr th:only-of-type {\n",
       "        vertical-align: middle;\n",
       "    }\n",
       "\n",
       "    .dataframe tbody tr th {\n",
       "        vertical-align: top;\n",
       "    }\n",
       "\n",
       "    .dataframe thead th {\n",
       "        text-align: right;\n",
       "    }\n",
       "</style>\n",
       "<table border=\"1\" class=\"dataframe\">\n",
       "  <thead>\n",
       "    <tr style=\"text-align: right;\">\n",
       "      <th></th>\n",
       "      <th>type</th>\n",
       "      <th>encoded_type</th>\n",
       "    </tr>\n",
       "  </thead>\n",
       "  <tbody>\n",
       "    <tr>\n",
       "      <th>0</th>\n",
       "      <td>slander</td>\n",
       "      <td>6</td>\n",
       "    </tr>\n",
       "    <tr>\n",
       "      <th>1</th>\n",
       "      <td>religion</td>\n",
       "      <td>13</td>\n",
       "    </tr>\n",
       "    <tr>\n",
       "      <th>2</th>\n",
       "      <td>slander</td>\n",
       "      <td>6</td>\n",
       "    </tr>\n",
       "    <tr>\n",
       "      <th>3</th>\n",
       "      <td>slander</td>\n",
       "      <td>6</td>\n",
       "    </tr>\n",
       "    <tr>\n",
       "      <th>4</th>\n",
       "      <td>slander</td>\n",
       "      <td>6</td>\n",
       "    </tr>\n",
       "    <tr>\n",
       "      <th>5</th>\n",
       "      <td>religion_slander</td>\n",
       "      <td>9</td>\n",
       "    </tr>\n",
       "    <tr>\n",
       "      <th>6</th>\n",
       "      <td>gender</td>\n",
       "      <td>10</td>\n",
       "    </tr>\n",
       "    <tr>\n",
       "      <th>7</th>\n",
       "      <td>callToViolence</td>\n",
       "      <td>1</td>\n",
       "    </tr>\n",
       "    <tr>\n",
       "      <th>8</th>\n",
       "      <td>slander</td>\n",
       "      <td>6</td>\n",
       "    </tr>\n",
       "    <tr>\n",
       "      <th>9</th>\n",
       "      <td>slander</td>\n",
       "      <td>6</td>\n",
       "    </tr>\n",
       "    <tr>\n",
       "      <th>10</th>\n",
       "      <td>religion_slander</td>\n",
       "      <td>9</td>\n",
       "    </tr>\n",
       "    <tr>\n",
       "      <th>11</th>\n",
       "      <td>callToViolence</td>\n",
       "      <td>1</td>\n",
       "    </tr>\n",
       "    <tr>\n",
       "      <th>12</th>\n",
       "      <td>slander</td>\n",
       "      <td>6</td>\n",
       "    </tr>\n",
       "    <tr>\n",
       "      <th>13</th>\n",
       "      <td>slander</td>\n",
       "      <td>6</td>\n",
       "    </tr>\n",
       "    <tr>\n",
       "      <th>14</th>\n",
       "      <td>callToViolence</td>\n",
       "      <td>1</td>\n",
       "    </tr>\n",
       "    <tr>\n",
       "      <th>15</th>\n",
       "      <td>religion</td>\n",
       "      <td>13</td>\n",
       "    </tr>\n",
       "    <tr>\n",
       "      <th>16</th>\n",
       "      <td>slander</td>\n",
       "      <td>6</td>\n",
       "    </tr>\n",
       "    <tr>\n",
       "      <th>17</th>\n",
       "      <td>slander</td>\n",
       "      <td>6</td>\n",
       "    </tr>\n",
       "    <tr>\n",
       "      <th>18</th>\n",
       "      <td>slander</td>\n",
       "      <td>6</td>\n",
       "    </tr>\n",
       "    <tr>\n",
       "      <th>19</th>\n",
       "      <td>slander</td>\n",
       "      <td>6</td>\n",
       "    </tr>\n",
       "    <tr>\n",
       "      <th>20</th>\n",
       "      <td>slander</td>\n",
       "      <td>6</td>\n",
       "    </tr>\n",
       "    <tr>\n",
       "      <th>21</th>\n",
       "      <td>callToViolence_slander</td>\n",
       "      <td>4</td>\n",
       "    </tr>\n",
       "    <tr>\n",
       "      <th>22</th>\n",
       "      <td>slander</td>\n",
       "      <td>6</td>\n",
       "    </tr>\n",
       "    <tr>\n",
       "      <th>23</th>\n",
       "      <td>slander</td>\n",
       "      <td>6</td>\n",
       "    </tr>\n",
       "    <tr>\n",
       "      <th>24</th>\n",
       "      <td>slander</td>\n",
       "      <td>6</td>\n",
       "    </tr>\n",
       "    <tr>\n",
       "      <th>25</th>\n",
       "      <td>gender</td>\n",
       "      <td>10</td>\n",
       "    </tr>\n",
       "    <tr>\n",
       "      <th>26</th>\n",
       "      <td>gender</td>\n",
       "      <td>10</td>\n",
       "    </tr>\n",
       "    <tr>\n",
       "      <th>27</th>\n",
       "      <td>slander</td>\n",
       "      <td>6</td>\n",
       "    </tr>\n",
       "    <tr>\n",
       "      <th>28</th>\n",
       "      <td>slander</td>\n",
       "      <td>6</td>\n",
       "    </tr>\n",
       "    <tr>\n",
       "      <th>29</th>\n",
       "      <td>slander</td>\n",
       "      <td>6</td>\n",
       "    </tr>\n",
       "    <tr>\n",
       "      <th>30</th>\n",
       "      <td>callToViolence_slander</td>\n",
       "      <td>4</td>\n",
       "    </tr>\n",
       "    <tr>\n",
       "      <th>31</th>\n",
       "      <td>callToViolence_slander</td>\n",
       "      <td>4</td>\n",
       "    </tr>\n",
       "    <tr>\n",
       "      <th>32</th>\n",
       "      <td>callToViolence</td>\n",
       "      <td>1</td>\n",
       "    </tr>\n",
       "    <tr>\n",
       "      <th>33</th>\n",
       "      <td>slander</td>\n",
       "      <td>6</td>\n",
       "    </tr>\n",
       "    <tr>\n",
       "      <th>34</th>\n",
       "      <td>slander</td>\n",
       "      <td>6</td>\n",
       "    </tr>\n",
       "    <tr>\n",
       "      <th>35</th>\n",
       "      <td>slander</td>\n",
       "      <td>6</td>\n",
       "    </tr>\n",
       "    <tr>\n",
       "      <th>36</th>\n",
       "      <td>slander</td>\n",
       "      <td>6</td>\n",
       "    </tr>\n",
       "    <tr>\n",
       "      <th>37</th>\n",
       "      <td>callToViolence</td>\n",
       "      <td>1</td>\n",
       "    </tr>\n",
       "    <tr>\n",
       "      <th>38</th>\n",
       "      <td>callToViolence_slander</td>\n",
       "      <td>4</td>\n",
       "    </tr>\n",
       "    <tr>\n",
       "      <th>39</th>\n",
       "      <td>slander</td>\n",
       "      <td>6</td>\n",
       "    </tr>\n",
       "    <tr>\n",
       "      <th>40</th>\n",
       "      <td>slander</td>\n",
       "      <td>6</td>\n",
       "    </tr>\n",
       "    <tr>\n",
       "      <th>41</th>\n",
       "      <td>callToViolence_gender</td>\n",
       "      <td>2</td>\n",
       "    </tr>\n",
       "    <tr>\n",
       "      <th>42</th>\n",
       "      <td>slander</td>\n",
       "      <td>6</td>\n",
       "    </tr>\n",
       "    <tr>\n",
       "      <th>43</th>\n",
       "      <td>callToViolence_slander</td>\n",
       "      <td>4</td>\n",
       "    </tr>\n",
       "    <tr>\n",
       "      <th>44</th>\n",
       "      <td>slander</td>\n",
       "      <td>6</td>\n",
       "    </tr>\n",
       "    <tr>\n",
       "      <th>45</th>\n",
       "      <td>slander</td>\n",
       "      <td>6</td>\n",
       "    </tr>\n",
       "    <tr>\n",
       "      <th>46</th>\n",
       "      <td>slander</td>\n",
       "      <td>6</td>\n",
       "    </tr>\n",
       "    <tr>\n",
       "      <th>47</th>\n",
       "      <td>slander</td>\n",
       "      <td>6</td>\n",
       "    </tr>\n",
       "    <tr>\n",
       "      <th>48</th>\n",
       "      <td>callToViolence_slander</td>\n",
       "      <td>4</td>\n",
       "    </tr>\n",
       "    <tr>\n",
       "      <th>49</th>\n",
       "      <td>slander</td>\n",
       "      <td>6</td>\n",
       "    </tr>\n",
       "  </tbody>\n",
       "</table>\n",
       "</div>"
      ],
      "text/plain": [
       "                      type  encoded_type\n",
       "0                  slander             6\n",
       "1                 religion            13\n",
       "2                  slander             6\n",
       "3                  slander             6\n",
       "4                  slander             6\n",
       "5         religion_slander             9\n",
       "6                   gender            10\n",
       "7           callToViolence             1\n",
       "8                  slander             6\n",
       "9                  slander             6\n",
       "10        religion_slander             9\n",
       "11          callToViolence             1\n",
       "12                 slander             6\n",
       "13                 slander             6\n",
       "14          callToViolence             1\n",
       "15                religion            13\n",
       "16                 slander             6\n",
       "17                 slander             6\n",
       "18                 slander             6\n",
       "19                 slander             6\n",
       "20                 slander             6\n",
       "21  callToViolence_slander             4\n",
       "22                 slander             6\n",
       "23                 slander             6\n",
       "24                 slander             6\n",
       "25                  gender            10\n",
       "26                  gender            10\n",
       "27                 slander             6\n",
       "28                 slander             6\n",
       "29                 slander             6\n",
       "30  callToViolence_slander             4\n",
       "31  callToViolence_slander             4\n",
       "32          callToViolence             1\n",
       "33                 slander             6\n",
       "34                 slander             6\n",
       "35                 slander             6\n",
       "36                 slander             6\n",
       "37          callToViolence             1\n",
       "38  callToViolence_slander             4\n",
       "39                 slander             6\n",
       "40                 slander             6\n",
       "41   callToViolence_gender             2\n",
       "42                 slander             6\n",
       "43  callToViolence_slander             4\n",
       "44                 slander             6\n",
       "45                 slander             6\n",
       "46                 slander             6\n",
       "47                 slander             6\n",
       "48  callToViolence_slander             4\n",
       "49                 slander             6"
      ]
     },
     "execution_count": 12,
     "metadata": {},
     "output_type": "execute_result"
    }
   ],
   "source": [
    "class_mapping = {\n",
    "    '0': 0,\n",
    "    'callToViolence': 1,\n",
    "    'callToViolence_gender': 2,\n",
    "    'callToViolence_religion': 3,\n",
    "    'callToViolence_slander': 4,\n",
    "    'callToViolence_religion_slander': 5,\n",
    "    'slander': 6,\n",
    "    'gender_slander': 7,\n",
    "    'callToViolence_gender_slander': 8,\n",
    "    'religion_slander': 9,\n",
    "    'gender': 10,\n",
    "    'callToViolence_gender_religion': 11,\n",
    "    'gender_religion': 12,\n",
    "    'religion': 13,\n",
    "    'callToViolence_gender_religion_slander': 14,\n",
    "    'gender_religion_slander': 15\n",
    "}\n",
    "\n",
    "# Apply the mapping to the 'type' column\n",
    "df['encoded_type'] = df['type'].map(class_mapping)\n",
    "\n",
    "# Verify the encoding\n",
    "df[['type', 'encoded_type']].head(50)"
   ]
  },
  {
   "cell_type": "code",
   "execution_count": 13,
   "metadata": {},
   "outputs": [],
   "source": [
    "df.to_csv('F:/Course/CSE465/Porject/dataset/encoded_test.csv', index=False)"
   ]
  },
  {
   "cell_type": "markdown",
   "metadata": {},
   "source": [
    "# Tokenization"
   ]
  },
  {
   "cell_type": "code",
   "execution_count": 16,
   "metadata": {},
   "outputs": [
    {
     "data": {
      "text/html": [
       "<div>\n",
       "<style scoped>\n",
       "    .dataframe tbody tr th:only-of-type {\n",
       "        vertical-align: middle;\n",
       "    }\n",
       "\n",
       "    .dataframe tbody tr th {\n",
       "        vertical-align: top;\n",
       "    }\n",
       "\n",
       "    .dataframe thead th {\n",
       "        text-align: right;\n",
       "    }\n",
       "</style>\n",
       "<table border=\"1\" class=\"dataframe\">\n",
       "  <thead>\n",
       "    <tr style=\"text-align: right;\">\n",
       "      <th></th>\n",
       "      <th>sentence</th>\n",
       "      <th>type</th>\n",
       "      <th>hate speech</th>\n",
       "      <th>encoded_type</th>\n",
       "    </tr>\n",
       "  </thead>\n",
       "  <tbody>\n",
       "    <tr>\n",
       "      <th>0</th>\n",
       "      <td>[ঐ, ইন্দুর, তোই, মরছ, নাই]</td>\n",
       "      <td>callToViolence</td>\n",
       "      <td>1</td>\n",
       "      <td>1</td>\n",
       "    </tr>\n",
       "    <tr>\n",
       "      <th>1</th>\n",
       "      <td>[গেবনের, শেষে, আইসা, আপনার, মুখোশ, টা, খুলছে, ...</td>\n",
       "      <td>callToViolence</td>\n",
       "      <td>1</td>\n",
       "      <td>1</td>\n",
       "    </tr>\n",
       "    <tr>\n",
       "      <th>2</th>\n",
       "      <td>[মুরগি, চোরের, পাছায়, ডুকবি, আর, মারবি]</td>\n",
       "      <td>callToViolence</td>\n",
       "      <td>1</td>\n",
       "      <td>1</td>\n",
       "    </tr>\n",
       "    <tr>\n",
       "      <th>3</th>\n",
       "      <td>[কোটির, চোদা, খাওয়া, শেষে, এখন, কোটির, চোদা, খ...</td>\n",
       "      <td>callToViolence</td>\n",
       "      <td>1</td>\n",
       "      <td>1</td>\n",
       "    </tr>\n",
       "    <tr>\n",
       "      <th>4</th>\n",
       "      <td>[য়, মীর, জাফরের, মুখে, মুতে, দে]</td>\n",
       "      <td>callToViolence</td>\n",
       "      <td>1</td>\n",
       "      <td>1</td>\n",
       "    </tr>\n",
       "    <tr>\n",
       "      <th>...</th>\n",
       "      <td>...</td>\n",
       "      <td>...</td>\n",
       "      <td>...</td>\n",
       "      <td>...</td>\n",
       "    </tr>\n",
       "    <tr>\n",
       "      <th>40219</th>\n",
       "      <td>[গানটা, চালু, করে, ওয়াস, রুমে, গিয়েছিলাম, এসে,...</td>\n",
       "      <td>0</td>\n",
       "      <td>0</td>\n",
       "      <td>0</td>\n",
       "    </tr>\n",
       "    <tr>\n",
       "      <th>40220</th>\n",
       "      <td>[হালকার, উপজেলা, ঝাপসা]</td>\n",
       "      <td>0</td>\n",
       "      <td>0</td>\n",
       "      <td>0</td>\n",
       "    </tr>\n",
       "    <tr>\n",
       "      <th>40221</th>\n",
       "      <td>[]</td>\n",
       "      <td>0</td>\n",
       "      <td>0</td>\n",
       "      <td>0</td>\n",
       "    </tr>\n",
       "    <tr>\n",
       "      <th>40222</th>\n",
       "      <td>[পুরাই, আগুনের, গুলা]</td>\n",
       "      <td>0</td>\n",
       "      <td>0</td>\n",
       "      <td>0</td>\n",
       "    </tr>\n",
       "    <tr>\n",
       "      <th>40223</th>\n",
       "      <td>[মজা, পাইলাম]</td>\n",
       "      <td>0</td>\n",
       "      <td>0</td>\n",
       "      <td>0</td>\n",
       "    </tr>\n",
       "  </tbody>\n",
       "</table>\n",
       "<p>40224 rows × 4 columns</p>\n",
       "</div>"
      ],
      "text/plain": [
       "                                                sentence            type  \\\n",
       "0                             [ঐ, ইন্দুর, তোই, মরছ, নাই]  callToViolence   \n",
       "1      [গেবনের, শেষে, আইসা, আপনার, মুখোশ, টা, খুলছে, ...  callToViolence   \n",
       "2                [মুরগি, চোরের, পাছায়, ডুকবি, আর, মারবি]  callToViolence   \n",
       "3      [কোটির, চোদা, খাওয়া, শেষে, এখন, কোটির, চোদা, খ...  callToViolence   \n",
       "4                       [য়, মীর, জাফরের, মুখে, মুতে, দে]  callToViolence   \n",
       "...                                                  ...             ...   \n",
       "40219  [গানটা, চালু, করে, ওয়াস, রুমে, গিয়েছিলাম, এসে,...               0   \n",
       "40220                            [হালকার, উপজেলা, ঝাপসা]               0   \n",
       "40221                                                 []               0   \n",
       "40222                              [পুরাই, আগুনের, গুলা]               0   \n",
       "40223                                      [মজা, পাইলাম]               0   \n",
       "\n",
       "       hate speech  encoded_type  \n",
       "0                1             1  \n",
       "1                1             1  \n",
       "2                1             1  \n",
       "3                1             1  \n",
       "4                1             1  \n",
       "...            ...           ...  \n",
       "40219            0             0  \n",
       "40220            0             0  \n",
       "40221            0             0  \n",
       "40222            0             0  \n",
       "40223            0             0  \n",
       "\n",
       "[40224 rows x 4 columns]"
      ]
     },
     "execution_count": 16,
     "metadata": {},
     "output_type": "execute_result"
    }
   ],
   "source": [
    "basic_tokenizer = BasicTokenizer()\n",
    "\n",
    "df['sentence'] = df['sentence'].apply(basic_tokenizer.tokenize)\n",
    "df"
   ]
  },
  {
   "cell_type": "markdown",
   "metadata": {},
   "source": [
    "# Word2vec"
   ]
  },
  {
   "cell_type": "code",
   "execution_count": 17,
   "metadata": {},
   "outputs": [],
   "source": [
    "pf = df.copy()\n",
    "pf.to_csv('train_processed.csv', index=False)"
   ]
  },
  {
   "cell_type": "code",
   "execution_count": 18,
   "metadata": {},
   "outputs": [],
   "source": [
    "from bnlp import Word2VecTraining\n",
    "\n",
    "trainer = Word2VecTraining()\n",
    "\n",
    "sentences = pf['sentence'].tolist()\n",
    "\n",
    "model_name = \"hsw2v.model\"\n",
    "vector_name = \"hsw2v.vector\""
   ]
  },
  {
   "cell_type": "code",
   "execution_count": 19,
   "metadata": {},
   "outputs": [
    {
     "name": "stdout",
     "output_type": "stream",
     "text": [
      "training started.......\n",
      "please wait.....it will take time according to your data size and computation capability\n",
      "train completed successfully\n",
      "trianing loss: 17600980.0\n",
      "model and vector saving...\n",
      "model and vector saved as hsw2v.model and hsw2v.vector\n"
     ]
    }
   ],
   "source": [
    "trainer.train(sentences, model_name, vector_name, epochs=100)\n"
   ]
  },
  {
   "cell_type": "markdown",
   "metadata": {},
   "source": [
    "Transform into word vectors"
   ]
  },
  {
   "cell_type": "code",
   "execution_count": 20,
   "metadata": {},
   "outputs": [],
   "source": [
    "own_model_path = \"hsw2v.model\"\n",
    "bwv = BengaliWord2Vec(model_path=own_model_path)\n",
    "def sentence_to_vectors(sentence_tokens):\n",
    "\n",
    "    vectors = []\n",
    "    for word in sentence_tokens:\n",
    "        try:\n",
    "            vector = bwv.get_word_vector(word)\n",
    "            vectors.append(vector)\n",
    "        except KeyError:\n",
    "            # Ignore words that are not in the vocabulary\n",
    "            # Or handle with a zero vector if needed:\n",
    "            # vector = np.zeros(bwv.get_word_vector(\"গ্রাম\").shape)\n",
    "            # vectors.append(vector)\n",
    "            continue\n",
    "    return vectors\n"
   ]
  },
  {
   "cell_type": "code",
   "execution_count": 21,
   "metadata": {},
   "outputs": [
    {
     "data": {
      "text/html": [
       "<div>\n",
       "<style scoped>\n",
       "    .dataframe tbody tr th:only-of-type {\n",
       "        vertical-align: middle;\n",
       "    }\n",
       "\n",
       "    .dataframe tbody tr th {\n",
       "        vertical-align: top;\n",
       "    }\n",
       "\n",
       "    .dataframe thead th {\n",
       "        text-align: right;\n",
       "    }\n",
       "</style>\n",
       "<table border=\"1\" class=\"dataframe\">\n",
       "  <thead>\n",
       "    <tr style=\"text-align: right;\">\n",
       "      <th></th>\n",
       "      <th>sentence</th>\n",
       "      <th>type</th>\n",
       "      <th>hate speech</th>\n",
       "      <th>encoded_type</th>\n",
       "      <th>vectors</th>\n",
       "    </tr>\n",
       "  </thead>\n",
       "  <tbody>\n",
       "    <tr>\n",
       "      <th>0</th>\n",
       "      <td>[ঐ, ইন্দুর, তোই, মরছ, নাই]</td>\n",
       "      <td>callToViolence</td>\n",
       "      <td>1</td>\n",
       "      <td>1</td>\n",
       "      <td>[[0.42964834, 1.4504434, 0.6750012, -2.2879171...</td>\n",
       "    </tr>\n",
       "    <tr>\n",
       "      <th>1</th>\n",
       "      <td>[গেবনের, শেষে, আইসা, আপনার, মুখোশ, টা, খুলছে, ...</td>\n",
       "      <td>callToViolence</td>\n",
       "      <td>1</td>\n",
       "      <td>1</td>\n",
       "      <td>[[-0.46499366, -1.01685, -0.05703639, -0.88414...</td>\n",
       "    </tr>\n",
       "    <tr>\n",
       "      <th>2</th>\n",
       "      <td>[মুরগি, চোরের, পাছায়, ডুকবি, আর, মারবি]</td>\n",
       "      <td>callToViolence</td>\n",
       "      <td>1</td>\n",
       "      <td>1</td>\n",
       "      <td>[[0.19932762, -1.1881515, -1.3108538, 1.003096...</td>\n",
       "    </tr>\n",
       "    <tr>\n",
       "      <th>3</th>\n",
       "      <td>[কোটির, চোদা, খাওয়া, শেষে, এখন, কোটির, চোদা, খ...</td>\n",
       "      <td>callToViolence</td>\n",
       "      <td>1</td>\n",
       "      <td>1</td>\n",
       "      <td>[[0.5175878, 0.3303483, 0.6090621, 0.2449671, ...</td>\n",
       "    </tr>\n",
       "    <tr>\n",
       "      <th>4</th>\n",
       "      <td>[য়, মীর, জাফরের, মুখে, মুতে, দে]</td>\n",
       "      <td>callToViolence</td>\n",
       "      <td>1</td>\n",
       "      <td>1</td>\n",
       "      <td>[[-0.66122895, 1.5596209, -1.9710915, 1.821189...</td>\n",
       "    </tr>\n",
       "    <tr>\n",
       "      <th>...</th>\n",
       "      <td>...</td>\n",
       "      <td>...</td>\n",
       "      <td>...</td>\n",
       "      <td>...</td>\n",
       "      <td>...</td>\n",
       "    </tr>\n",
       "    <tr>\n",
       "      <th>40219</th>\n",
       "      <td>[গানটা, চালু, করে, ওয়াস, রুমে, গিয়েছিলাম, এসে,...</td>\n",
       "      <td>0</td>\n",
       "      <td>0</td>\n",
       "      <td>0</td>\n",
       "      <td>[[-0.08691873, -0.14307034, 1.0634518, -0.2697...</td>\n",
       "    </tr>\n",
       "    <tr>\n",
       "      <th>40220</th>\n",
       "      <td>[হালকার, উপজেলা, ঝাপসা]</td>\n",
       "      <td>0</td>\n",
       "      <td>0</td>\n",
       "      <td>0</td>\n",
       "      <td>[]</td>\n",
       "    </tr>\n",
       "    <tr>\n",
       "      <th>40221</th>\n",
       "      <td>[]</td>\n",
       "      <td>0</td>\n",
       "      <td>0</td>\n",
       "      <td>0</td>\n",
       "      <td>[]</td>\n",
       "    </tr>\n",
       "    <tr>\n",
       "      <th>40222</th>\n",
       "      <td>[পুরাই, আগুনের, গুলা]</td>\n",
       "      <td>0</td>\n",
       "      <td>0</td>\n",
       "      <td>0</td>\n",
       "      <td>[[-1.1696118, 5.131156, 1.1120763, -3.139016, ...</td>\n",
       "    </tr>\n",
       "    <tr>\n",
       "      <th>40223</th>\n",
       "      <td>[মজা, পাইলাম]</td>\n",
       "      <td>0</td>\n",
       "      <td>0</td>\n",
       "      <td>0</td>\n",
       "      <td>[[-0.8753032, 0.27224076, 1.0654106, 0.2631539...</td>\n",
       "    </tr>\n",
       "  </tbody>\n",
       "</table>\n",
       "<p>40224 rows × 5 columns</p>\n",
       "</div>"
      ],
      "text/plain": [
       "                                                sentence            type  \\\n",
       "0                             [ঐ, ইন্দুর, তোই, মরছ, নাই]  callToViolence   \n",
       "1      [গেবনের, শেষে, আইসা, আপনার, মুখোশ, টা, খুলছে, ...  callToViolence   \n",
       "2                [মুরগি, চোরের, পাছায়, ডুকবি, আর, মারবি]  callToViolence   \n",
       "3      [কোটির, চোদা, খাওয়া, শেষে, এখন, কোটির, চোদা, খ...  callToViolence   \n",
       "4                       [য়, মীর, জাফরের, মুখে, মুতে, দে]  callToViolence   \n",
       "...                                                  ...             ...   \n",
       "40219  [গানটা, চালু, করে, ওয়াস, রুমে, গিয়েছিলাম, এসে,...               0   \n",
       "40220                            [হালকার, উপজেলা, ঝাপসা]               0   \n",
       "40221                                                 []               0   \n",
       "40222                              [পুরাই, আগুনের, গুলা]               0   \n",
       "40223                                      [মজা, পাইলাম]               0   \n",
       "\n",
       "       hate speech  encoded_type  \\\n",
       "0                1             1   \n",
       "1                1             1   \n",
       "2                1             1   \n",
       "3                1             1   \n",
       "4                1             1   \n",
       "...            ...           ...   \n",
       "40219            0             0   \n",
       "40220            0             0   \n",
       "40221            0             0   \n",
       "40222            0             0   \n",
       "40223            0             0   \n",
       "\n",
       "                                                 vectors  \n",
       "0      [[0.42964834, 1.4504434, 0.6750012, -2.2879171...  \n",
       "1      [[-0.46499366, -1.01685, -0.05703639, -0.88414...  \n",
       "2      [[0.19932762, -1.1881515, -1.3108538, 1.003096...  \n",
       "3      [[0.5175878, 0.3303483, 0.6090621, 0.2449671, ...  \n",
       "4      [[-0.66122895, 1.5596209, -1.9710915, 1.821189...  \n",
       "...                                                  ...  \n",
       "40219  [[-0.08691873, -0.14307034, 1.0634518, -0.2697...  \n",
       "40220                                                 []  \n",
       "40221                                                 []  \n",
       "40222  [[-1.1696118, 5.131156, 1.1120763, -3.139016, ...  \n",
       "40223  [[-0.8753032, 0.27224076, 1.0654106, 0.2631539...  \n",
       "\n",
       "[40224 rows x 5 columns]"
      ]
     },
     "execution_count": 21,
     "metadata": {},
     "output_type": "execute_result"
    }
   ],
   "source": [
    "pf['vectors'] = pf['sentence'].apply(sentence_to_vectors)\n",
    "pf"
   ]
  },
  {
   "cell_type": "markdown",
   "metadata": {},
   "source": [
    "# Training & evaluation loops"
   ]
  },
  {
   "cell_type": "code",
   "execution_count": 22,
   "metadata": {},
   "outputs": [],
   "source": [
    "class EarlyStopping:\n",
    "    def __init__(self, patience=5, min_delta=0):\n",
    "        self.patience = patience\n",
    "        self.min_delta = min_delta\n",
    "        self.counter = 0\n",
    "        self.best_loss = None\n",
    "        self.early_stop = False\n",
    "\n",
    "    def __call__(self, val_loss):\n",
    "        if self.best_loss is None:\n",
    "            self.best_loss = val_loss\n",
    "        elif val_loss > self.best_loss - self.min_delta:\n",
    "            self.counter += 1\n",
    "            if self.counter >= self.patience:\n",
    "                self.early_stop = True\n",
    "        else:\n",
    "            self.best_loss = val_loss\n",
    "            self.counter = 0\n",
    "\n"
   ]
  },
  {
   "cell_type": "code",
   "execution_count": 23,
   "metadata": {},
   "outputs": [],
   "source": [
    "from torch.optim.lr_scheduler import ReduceLROnPlateau\n",
    "import matplotlib.pyplot as plt\n",
    "\n",
    "def train_ES(model, train_loader, val_loader, num_epochs, lr, early_stopping, lr_schduler, optimize):\n",
    "    \n",
    "    train_losses = []\n",
    "    val_losses = []\n",
    "    \n",
    "    if early_stopping:\n",
    "        early_stopper = EarlyStopping(patience=5, min_delta=0.01)\n",
    "        print('Using Early stopping...')\n",
    "        \n",
    "    criterion = nn.CrossEntropyLoss()\n",
    "    \n",
    "    if optimize == 1:\n",
    "        optimizer = torch.optim.SGD(model.parameters(), lr=lr, momentum=0.9)\n",
    "        print('Using SGD as optimizer...')\n",
    "    elif optimize == 2: \n",
    "        optimizer = torch.optim.Adam(model.parameters(), lr=lr)\n",
    "        print('Using Adam as optimizer...')\n",
    "    else:\n",
    "        optimizer = torch.optim.AdamW(model.parameters(), lr=lr)\n",
    "        print('Using AdamW as optimizer...')\n",
    "        \n",
    "    if lr_schduler:\n",
    "        scheduler = ReduceLROnPlateau(optimizer, mode='min', factor=0.2, patience=2, verbose=True)\n",
    "        print('Using Learning Rate Scheduler...')\n",
    "    \n",
    "    print('Starting training...')\n",
    "    for epoch in range(num_epochs):\n",
    "        model.train()\n",
    "        for vectors, labels in train_loader:\n",
    "            vectors, labels = vectors.to(device), labels.to(device)\n",
    "            optimizer.zero_grad()\n",
    "            outputs = model(vectors)\n",
    "            loss = criterion(outputs, labels)\n",
    "            loss.backward()\n",
    "            optimizer.step()\n",
    "\n",
    "        model.eval()\n",
    "        val_loss = 0\n",
    "        with torch.no_grad():\n",
    "            for vectors, labels in val_loader:\n",
    "                vectors, labels = vectors.to(device), labels.to(device)\n",
    "                outputs = model(vectors)\n",
    "                loss = criterion(outputs, labels)\n",
    "                val_loss += loss.item()\n",
    "\n",
    "        val_loss /= len(val_loader)\n",
    "        print(f'Epoch [{epoch+1}/{num_epochs}], Training Loss: {loss.item():.4f}, Validation Loss: {val_loss:.4f}')\n",
    "        \n",
    "        train_losses.append(loss.item())\n",
    "        val_losses.append(val_loss)\n",
    "        # Update the learning rate\n",
    "        if lr_schduler:\n",
    "            scheduler.step(val_loss)\n",
    "\n",
    "        # Early stopping check\n",
    "        if early_stopping:\n",
    "            early_stopper(val_loss)\n",
    "            if early_stopper.early_stop:\n",
    "                print(\"Terminated due to no validation improvement(Early stopping applied)\")\n",
    "                break\n",
    "    \n",
    "    epochs = range(1, len(train_losses) + 1)\n",
    "    plt.figure(figsize=(12, 6))\n",
    "    plt.plot(epochs, train_losses, 'r', label='Training Loss')\n",
    "    plt.plot(epochs, val_losses, 'b', label='Validation Loss')\n",
    "    plt.title('Training and Validation Loss')\n",
    "    plt.xlabel('Epochs')\n",
    "    plt.ylabel('Loss')\n",
    "    plt.legend()\n",
    "    plt.show()\n"
   ]
  },
  {
   "cell_type": "code",
   "execution_count": 24,
   "metadata": {},
   "outputs": [],
   "source": [
    "def evaluate_model(model, dataloader):    \n",
    "    model.eval()\n",
    "    all_predictions = []\n",
    "    all_labels = []\n",
    "\n",
    "    with torch.no_grad():\n",
    "        for vectors, labels in dataloader:\n",
    "            vectors, labels = vectors.to(device), labels.to(device)\n",
    "            outputs = model(vectors)\n",
    "            _, predicted = torch.max(outputs.data, 1)\n",
    "            all_predictions.extend(predicted.cpu().numpy())\n",
    "            all_labels.extend(labels.cpu().numpy())\n",
    "\n",
    "    # Calculate accuracy\n",
    "    accuracy = (np.array(all_predictions) == np.array(all_labels)).mean() * 100\n",
    "\n",
    "    # Calculate precision, recall, and F1-score\n",
    "    precision, recall, f1, _ = precision_recall_fscore_support(all_labels, all_predictions, average='weighted') \n",
    "    precision *= 100\n",
    "    recall *= 100\n",
    "    f1 *= 100\n",
    "    print(f'Accuracy: {accuracy:.2f}')\n",
    "    print(f'Precision: {precision:.2f}')\n",
    "    print(f'Recall: {recall:.2f}')\n",
    "    print(f'F1 Score: {f1:.2f}')\n",
    "    \n",
    "    return accuracy, precision, recall, f1"
   ]
  },
  {
   "cell_type": "code",
   "execution_count": 25,
   "metadata": {},
   "outputs": [],
   "source": [
    "device = torch.device(\"cuda\" if torch.cuda.is_available() else \"cpu\")\n"
   ]
  },
  {
   "cell_type": "markdown",
   "metadata": {},
   "source": [
    "# Set data loaders"
   ]
  },
  {
   "cell_type": "code",
   "execution_count": 26,
   "metadata": {},
   "outputs": [],
   "source": [
    "import torch\n",
    "from torch.nn.utils.rnn import pad_sequence\n",
    "from torch.utils.data import DataLoader, Dataset\n",
    "from torch.utils.data import random_split\n",
    "\n",
    "class SentenceDataset(Dataset):\n",
    "    def __init__(self, vectors, labels):\n",
    "        self.vectors = [torch.tensor(v, dtype=torch.float32, device=device) for v in vectors if len(v) > 0]  # Ensure non-empty\n",
    "        self.labels = torch.tensor(labels, dtype=torch.long, device=device)\n",
    "\n",
    "    def __len__(self):\n",
    "        return len(self.labels)\n",
    "\n",
    "    def __getitem__(self, idx):\n",
    "        return self.vectors[idx], self.labels[idx]\n",
    "\n",
    "def collate_fn(batch):\n",
    "    # Separate source data and labels\n",
    "    vectors, labels = zip(*batch)\n",
    "\n",
    "    # Pad the sequences for each batch separately\n",
    "    vectors_padded = pad_sequence(vectors, batch_first=True).to(device)\n",
    "\n",
    "    # Convert labels to a tensor\n",
    "    labels = torch.tensor(labels, dtype=torch.long, device=device)\n",
    "\n",
    "    return vectors_padded, labels\n",
    "# Make sure all entries in 'vectors' are non-empty for now\n",
    "# If there are empty vectors, replace them with a zero vector of the same size as others\n",
    "model_vector_size = 100\n",
    "non_empty_vectors = [v if len(v) > 0 else [np.zeros(model_vector_size)] for v in pf['vectors']]\n",
    "labels = pf['encoded_type'].tolist()  # Assuming 'label' is your label column\n",
    "\n",
    "# Creating padded sequences\n",
    "padded_vectors = pad_sequence([torch.tensor(v) for v in non_empty_vectors], batch_first=True)\n",
    "\n",
    "# Create dataset and data loader\n",
    "\n",
    "dataset = SentenceDataset(non_empty_vectors, labels)\n",
    "\n",
    "# Total number of data points\n",
    "total_count = len(dataset)\n",
    "\n",
    "# Determine the sizes for training and validation sets\n",
    "train_count = int(0.8 * total_count)\n",
    "val_count = total_count - train_count\n",
    "\n",
    "# Split the dataset\n",
    "train_dataset, val_dataset = random_split(dataset, [train_count, val_count])\n",
    "batch_size = 32\n",
    "\n",
    "# Train DataLoader\n",
    "train_loader = DataLoader(train_dataset, batch_size=32, shuffle=True, collate_fn=collate_fn)\n",
    "\n",
    "# Validation DataLoader\n",
    "val_loader = DataLoader(val_dataset, batch_size=32, shuffle=False, collate_fn=collate_fn)\n",
    "\n"
   ]
  },
  {
   "cell_type": "code",
   "execution_count": 27,
   "metadata": {},
   "outputs": [
    {
     "data": {
      "text/plain": [
       "100"
      ]
     },
     "execution_count": 27,
     "metadata": {},
     "output_type": "execute_result"
    }
   ],
   "source": [
    "padded_vectors.size(2)  # vector size\n"
   ]
  },
  {
   "cell_type": "markdown",
   "metadata": {},
   "source": [
    "# Models"
   ]
  },
  {
   "cell_type": "markdown",
   "metadata": {},
   "source": [
    "LSTM"
   ]
  },
  {
   "cell_type": "code",
   "execution_count": 28,
   "metadata": {},
   "outputs": [],
   "source": [
    "import torch.nn.init as init\n",
    "import torch.nn as nn\n",
    "\n",
    "class LSTMModel(nn.Module):\n",
    "    def __init__(self, input_dim, hidden_dim, output_dim, num_layers, dropout_rate=0.5):\n",
    "        super(LSTMModel, self).__init__()\n",
    "        self.lstm = nn.LSTM(input_dim, hidden_dim, num_layers, batch_first=True, dropout=dropout_rate)\n",
    "        self.dropout = nn.Dropout(dropout_rate)\n",
    "        self.fc = nn.Linear(hidden_dim, output_dim)\n",
    "\n",
    "        # Initialize the weights of the LSTM anda fully-connected layers\n",
    "        init.xavier_uniform_(self.lstm.weight_ih_l0)\n",
    "        init.xavier_uniform_(self.lstm.weight_hh_l0)\n",
    "        init.xavier_uniform_(self.fc.weight)\n",
    "\n",
    "    def forward(self, x):\n",
    "        output, _ = self.lstm(x)\n",
    "        last_output = output[:, -1, :]\n",
    "        last_output = self.dropout(last_output)\n",
    "        return self.fc(last_output)\n",
    "\n",
    "input_dim = padded_vectors.size(2)  # vector size\n",
    "hidden_dim = 128\n",
    "labels_tensor = torch.tensor(labels, dtype=torch.long, device=device)\n",
    "output_dim = len(torch.unique(labels_tensor))\n",
    "num_layers = 4\n",
    "\n",
    "\n",
    "#model_LSTM = LSTMModel(input_dim, hidden_dim, output_dim, num_layers, dropout_rate=0.5).to(device)"
   ]
  },
  {
   "cell_type": "markdown",
   "metadata": {},
   "source": [
    "BI-lstm"
   ]
  },
  {
   "cell_type": "code",
   "execution_count": 29,
   "metadata": {},
   "outputs": [],
   "source": [
    "import torch.nn as nn\n",
    "import torch.nn.init as init\n",
    "\n",
    "class BiLSTMModel(nn.Module):\n",
    "    def __init__(self, input_dim, hidden_dim, output_dim, num_layers, dropout_rate=0.5):\n",
    "        super(BiLSTMModel, self).__init__()\n",
    "        self.bilstm = nn.LSTM(input_dim, hidden_dim, num_layers, batch_first=True, bidirectional=True, dropout=dropout_rate)\n",
    "        self.dropout = nn.Dropout(dropout_rate)\n",
    "        self.fc = nn.Linear(hidden_dim * 2, output_dim)  # Multiplied by 2 for bidirectional\n",
    "\n",
    "        # Initialize the weights of the LSTM and fully-connected layers\n",
    "        init.xavier_uniform_(self.bilstm.weight_ih_l0)\n",
    "        init.xavier_uniform_(self.bilstm.weight_hh_l0)\n",
    "        init.xavier_uniform_(self.fc.weight)\n",
    "\n",
    "    def forward(self, x):\n",
    "        output, _ = self.bilstm(x)\n",
    "        last_output = torch.cat((output[:, -1, :hidden_dim], output[:, 0, hidden_dim:]), dim=1)\n",
    "        last_output = self.dropout(last_output)  # Apply dropout\n",
    "        return self.fc(last_output)\n",
    "\n",
    "# Assuming the input dimension of the vectors and output_dim (number of classes)\n",
    "input_dim = padded_vectors.size(2)  # vector size\n",
    "hidden_dim = 128  # You can tune this\n",
    "labels_tensor = torch.tensor(labels, dtype=torch.long, device=device)\n",
    "output_dim = len(torch.unique(labels_tensor))  # Adjust based on your problem\n",
    "num_layers = 4\n",
    "\n",
    "#model_BILSTM = BiLSTMModel(input_dim, hidden_dim, output_dim, num_layers, dropout_rate=0.3).to(device)"
   ]
  },
  {
   "cell_type": "markdown",
   "metadata": {},
   "source": [
    "GRU"
   ]
  },
  {
   "cell_type": "code",
   "execution_count": 30,
   "metadata": {},
   "outputs": [],
   "source": [
    "import torch.nn as nn\n",
    "import torch.nn.init as init\n",
    "\n",
    "class GRUModel(nn.Module):\n",
    "    def __init__(self, input_dim, hidden_dim, output_dim, num_layers, dropout_rate=0.5):\n",
    "        super(GRUModel, self).__init__()\n",
    "        self.gru = nn.GRU(input_dim, hidden_dim, num_layers, batch_first=True, dropout=dropout_rate)\n",
    "        self.dropout = nn.Dropout(dropout_rate)\n",
    "        self.fc = nn.Linear(hidden_dim, output_dim)\n",
    "\n",
    "        # Initialize the weights of the GRU and fully-connected layers\n",
    "        init.xavier_uniform_(self.fc.weight)\n",
    "        for layer in range(num_layers):\n",
    "            init.xavier_uniform_(getattr(self.gru, f'weight_ih_l{layer}'))\n",
    "            init.xavier_uniform_(getattr(self.gru, f'weight_hh_l{layer}'))\n",
    "\n",
    "    def forward(self, x):\n",
    "        output, _ = self.gru(x)\n",
    "        last_output = output[:, -1, :]  # Take the output from the last timestep\n",
    "        last_output = self.dropout(last_output)\n",
    "        return self.fc(last_output)\n",
    "\n",
    "# Model instantiation\n",
    "input_dim = padded_vectors.size(2)  # vector size\n",
    "hidden_dim = 128  # You can tune this\n",
    "labels_tensor = torch.tensor(labels, dtype=torch.long, device=device)\n",
    "output_dim = len(torch.unique(labels_tensor))  # Adjust based on your problem\n",
    "num_layers = 4\n",
    "\n",
    "#model_GRU = GRUModel(input_dim, hidden_dim, output_dim, num_layers, dropout_rate=0.3).to(device)\n"
   ]
  },
  {
   "cell_type": "markdown",
   "metadata": {},
   "source": [
    "# Run models"
   ]
  },
  {
   "cell_type": "markdown",
   "metadata": {},
   "source": [
    "LSTM"
   ]
  },
  {
   "cell_type": "code",
   "execution_count": 31,
   "metadata": {},
   "outputs": [
    {
     "name": "stdout",
     "output_type": "stream",
     "text": [
      "Running LSTM model\n",
      "Using Early stopping...\n",
      "Using Adam as optimizer...\n",
      "Using Learning Rate Scheduler...\n",
      "Starting training...\n",
      "Epoch [1/30], Training Loss: 1.5373, Validation Loss: 1.3007\n",
      "Epoch [2/30], Training Loss: 1.3136, Validation Loss: 1.2163\n",
      "Epoch [3/30], Training Loss: 1.0792, Validation Loss: 1.0915\n",
      "Epoch [4/30], Training Loss: 1.0830, Validation Loss: 1.0525\n",
      "Epoch [5/30], Training Loss: 0.8762, Validation Loss: 0.9220\n",
      "Epoch [6/30], Training Loss: 0.7608, Validation Loss: 0.8439\n",
      "Epoch [7/30], Training Loss: 0.6176, Validation Loss: 0.8107\n",
      "Epoch [8/30], Training Loss: 0.5853, Validation Loss: 0.7709\n",
      "Epoch [9/30], Training Loss: 0.6189, Validation Loss: 0.7043\n",
      "Epoch [10/30], Training Loss: 0.5486, Validation Loss: 0.7161\n",
      "Epoch [11/30], Training Loss: 0.6437, Validation Loss: 0.6944\n",
      "Epoch [12/30], Training Loss: 0.5259, Validation Loss: 0.6710\n",
      "Epoch [13/30], Training Loss: 0.4506, Validation Loss: 0.6683\n",
      "Epoch [14/30], Training Loss: 0.5781, Validation Loss: 0.6781\n",
      "Epoch [15/30], Training Loss: 0.6350, Validation Loss: 0.7005\n",
      "Epoch [16/30], Training Loss: 0.7757, Validation Loss: 0.6918\n",
      "Epoch [17/30], Training Loss: 0.5474, Validation Loss: 0.7345\n",
      "Terminated due to no validation improvement(Early stopping applied)\n"
     ]
    },
    {
     "data": {
      "image/png": "[encoded data removed]",
      "text/plain": [
       "<Figure size 1200x600 with 1 Axes>"
      ]
     },
     "metadata": {},
     "output_type": "display_data"
    },
    {
     "name": "stdout",
     "output_type": "stream",
     "text": [
      "----------------------------------------------------------------------\n",
      "Accuracy: 79.69\n",
      "Precision: 79.18\n",
      "Recall: 79.69\n",
      "F1 Score: 79.25\n"
     ]
    }
   ],
   "source": [
    "hidden_dim = 128 # No. of neurons in each layer\n",
    "num_layers = 4 # No. of hidden layers\n",
    "model_LSTM = LSTMModel(input_dim, hidden_dim, output_dim, num_layers, dropout_rate=0.4).to(device)\n",
    "lr = 0.002\n",
    "early_stopping = True # Turnn on/off early stopping\n",
    "lr_schedular = True # Turn on/off learning rate scheduler\n",
    "num_epochs = 30\n",
    "optimize = 2 # 1: SGD, 2: Adam, AdamW for any other number\n",
    "print('Running LSTM model')\n",
    "train_ES(model_LSTM, train_loader, val_loader, num_epochs, lr, early_stopping, lr_schedular, optimize)\n",
    "# Note: After training is finished you must re-run the model definition for the one you used\n",
    "print(70*'-')\n",
    "lstm_metrics = {}\n",
    "lstm_metrics['accuracy'], lstm_metrics['precision'], lstm_metrics['recall'], lstm_metrics['f1'] = evaluate_model(model_LSTM, val_loader)"
   ]
  },
  {
   "cell_type": "markdown",
   "metadata": {},
   "source": [
    "Bi-LSTM"
   ]
  },
  {
   "cell_type": "code",
   "execution_count": 32,
   "metadata": {},
   "outputs": [
    {
     "name": "stdout",
     "output_type": "stream",
     "text": [
      "Running BiLSTM model\n",
      "Using Early stopping...\n",
      "Using Adam as optimizer...\n",
      "Using Learning Rate Scheduler...\n",
      "Starting training...\n",
      "Epoch [1/30], Training Loss: 0.8252, Validation Loss: 0.6964\n",
      "Epoch [2/30], Training Loss: 0.5549, Validation Loss: 0.6349\n",
      "Epoch [3/30], Training Loss: 0.5497, Validation Loss: 0.6114\n",
      "Epoch [4/30], Training Loss: 0.5045, Validation Loss: 0.6267\n",
      "Epoch [5/30], Training Loss: 0.5279, Validation Loss: 0.6658\n",
      "Epoch [6/30], Training Loss: 0.5836, Validation Loss: 0.6538\n",
      "Epoch [7/30], Training Loss: 0.4164, Validation Loss: 0.7042\n",
      "Epoch [8/30], Training Loss: 0.4194, Validation Loss: 0.7638\n",
      "Terminated due to no validation improvement(Early stopping applied)\n"
     ]
    },
    {
     "data": {
      "image/png": "[encoded data removed]",
      "text/plain": [
       "<Figure size 1200x600 with 1 Axes>"
      ]
     },
     "metadata": {},
     "output_type": "display_data"
    },
    {
     "name": "stdout",
     "output_type": "stream",
     "text": [
      "----------------------------------------------------------------------\n",
      "Accuracy: 80.34\n",
      "Precision: 79.98\n",
      "Recall: 80.34\n",
      "F1 Score: 80.05\n"
     ]
    }
   ],
   "source": [
    "hidden_dim = 128 # No. of neurons in each layer\n",
    "num_layers = 4 # No. of hidden layers\n",
    "model_BILSTM = BiLSTMModel(input_dim, hidden_dim, output_dim, num_layers, dropout_rate=0.4).to(device)\n",
    "lr = 0.002\n",
    "early_stopping = True # Turnn on/off early stopping\n",
    "lr_schedular = True # Turn on/off learning rate scheduler\n",
    "num_epochs = 30\n",
    "optimize = 2 # 1: SGD, 2: Adam, AdamW for any other number\n",
    "print('Running BiLSTM model')\n",
    "train_ES(model_BILSTM, train_loader, val_loader, num_epochs, lr, early_stopping, lr_schedular, optimize)\n",
    "# Note: After training is finished you must re-run the model definition for the one you used\n",
    "print(70*'-')\n",
    "bilstm_metrics = {}\n",
    "bilstm_metrics['accuracy'], bilstm_metrics['precision'], bilstm_metrics['recall'], bilstm_metrics['f1'] = evaluate_model(model_BILSTM, val_loader)"
   ]
  },
  {
   "cell_type": "markdown",
   "metadata": {},
   "source": [
    "GRU"
   ]
  },
  {
   "cell_type": "code",
   "execution_count": 33,
   "metadata": {},
   "outputs": [
    {
     "name": "stdout",
     "output_type": "stream",
     "text": [
      "Running GRU model\n",
      "Using Early stopping...\n",
      "Using Adam as optimizer...\n",
      "Using Learning Rate Scheduler...\n",
      "Starting training...\n",
      "Epoch [1/30], Training Loss: 0.6591, Validation Loss: 0.6936\n",
      "Epoch [2/30], Training Loss: 0.6839, Validation Loss: 0.6427\n",
      "Epoch [3/30], Training Loss: 0.5645, Validation Loss: 0.6458\n",
      "Epoch [4/30], Training Loss: 0.7052, Validation Loss: 0.6467\n",
      "Epoch [5/30], Training Loss: 0.6600, Validation Loss: 0.6635\n",
      "Epoch [6/30], Training Loss: 0.7200, Validation Loss: 0.6608\n",
      "Epoch [7/30], Training Loss: 0.7540, Validation Loss: 0.6778\n",
      "Terminated due to no validation improvement(Early stopping applied)\n"
     ]
    },
    {
     "data": {
      "image/png": "[encoded data removed]",
      "text/plain": [
       "<Figure size 1200x600 with 1 Axes>"
      ]
     },
     "metadata": {},
     "output_type": "display_data"
    },
    {
     "name": "stdout",
     "output_type": "stream",
     "text": [
      "----------------------------------------------------------------------\n",
      "Accuracy: 80.55\n",
      "Precision: 80.20\n",
      "Recall: 80.55\n",
      "F1 Score: 80.16\n"
     ]
    }
   ],
   "source": [
    "hidden_dim = 128 # No. of neurons in each layer\n",
    "num_layers = 4 # No. of hidden layers\n",
    "model_GRU = GRUModel(input_dim, hidden_dim, output_dim, num_layers, dropout_rate=0.3).to(device)\n",
    "lr = 0.002\n",
    "early_stopping = True # Turnn on/off early stopping\n",
    "lr_schedular = True # Turn on/off learning rate scheduler\n",
    "num_epochs = 30\n",
    "optimize = 2 # 1: SGD, 2: Adam, AdamW for any other number\n",
    "print('Running GRU model')\n",
    "train_ES(model_GRU, train_loader, val_loader, num_epochs, lr, early_stopping, lr_schedular, optimize)\n",
    "# Note: After training is finished you must re-run the model definition for the one you used\n",
    "print(70*'-')\n",
    "gru_metrics = {}\n",
    "gru_metrics['accuracy'], gru_metrics['precision'], gru_metrics['recall'], gru_metrics['f1'] = evaluate_model(model_GRU, val_loader)"
   ]
  },
  {
   "cell_type": "markdown",
   "metadata": {},
   "source": [
    "# Comparison"
   ]
  },
  {
   "cell_type": "code",
   "execution_count": 34,
   "metadata": {},
   "outputs": [
    {
     "data": {
      "application/vnd.plotly.v1+json": {
       "config": {
        "plotlyServerURL": "https://plot.ly"
       },
       "data": [
        {
         "name": "Accuracy",
         "type": "bar",
         "x": [
          "LSTM",
          "BiLSTM",
          "GRU"
         ],
         "xaxis": "x",
         "y": [
          79.68924798011187,
          80.33561218147918,
          80.5469235550031
         ],
         "yaxis": "y"
        },
        {
         "name": "Precision",
         "type": "bar",
         "x": [
          "LSTM",
          "BiLSTM",
          "GRU"
         ],
         "xaxis": "x",
         "y": [
          79.18303585207197,
          79.98270943416813,
          80.1950612206229
         ],
         "yaxis": "y"
        },
        {
         "name": "Recall",
         "type": "bar",
         "x": [
          "LSTM",
          "BiLSTM",
          "GRU"
         ],
         "xaxis": "x",
         "y": [
          79.68924798011187,
          80.33561218147918,
          80.5469235550031
         ],
         "yaxis": "y"
        }
       ],
       "layout": {
        "barmode": "group",
        "legend": {
         "bgcolor": "rgba(0,0,0,0)",
         "bordercolor": "Black",
         "borderwidth": 2,
         "traceorder": "normal",
         "x": 1.05,
         "y": 1
        },
        "template": {
         "data": {
          "bar": [
           {
            "error_x": {
             "color": "#2a3f5f"
            },
            "error_y": {
             "color": "#2a3f5f"
            },
            "marker": {
             "line": {
              "color": "#E5ECF6",
              "width": 0.5
             },
             "pattern": {
              "fillmode": "overlay",
              "size": 10,
              "solidity": 0.2
             }
            },
            "type": "bar"
           }
          ],
          "barpolar": [
           {
            "marker": {
             "line": {
              "color": "#E5ECF6",
              "width": 0.5
             },
             "pattern": {
              "fillmode": "overlay",
              "size": 10,
              "solidity": 0.2
             }
            },
            "type": "barpolar"
           }
          ],
          "carpet": [
           {
            "aaxis": {
             "endlinecolor": "#2a3f5f",
             "gridcolor": "white",
             "linecolor": "white",
             "minorgridcolor": "white",
             "startlinecolor": "#2a3f5f"
            },
            "baxis": {
             "endlinecolor": "#2a3f5f",
             "gridcolor": "white",
             "linecolor": "white",
             "minorgridcolor": "white",
             "startlinecolor": "#2a3f5f"
            },
            "type": "carpet"
           }
          ],
          "choropleth": [
           {
            "colorbar": {
             "outlinewidth": 0,
             "ticks": ""
            },
            "type": "choropleth"
           }
          ],
          "contour": [
           {
            "colorbar": {
             "outlinewidth": 0,
             "ticks": ""
            },
            "colorscale": [
             [
              0,
              "#0d0887"
             ],
             [
              0.1111111111111111,
              "#46039f"
             ],
             [
              0.2222222222222222,
              "#7201a8"
             ],
             [
              0.3333333333333333,
              "#9c179e"
             ],
             [
              0.4444444444444444,
              "#bd3786"
             ],
             [
              0.5555555555555556,
              "#d8576b"
             ],
             [
              0.6666666666666666,
              "#ed7953"
             ],
             [
              0.7777777777777778,
              "#fb9f3a"
             ],
             [
              0.8888888888888888,
              "#fdca26"
             ],
             [
              1,
              "#f0f921"
             ]
            ],
            "type": "contour"
           }
          ],
          "contourcarpet": [
           {
            "colorbar": {
             "outlinewidth": 0,
             "ticks": ""
            },
            "type": "contourcarpet"
           }
          ],
          "heatmap": [
           {
            "colorbar": {
             "outlinewidth": 0,
             "ticks": ""
            },
            "colorscale": [
             [
              0,
              "#0d0887"
             ],
             [
              0.1111111111111111,
              "#46039f"
             ],
             [
              0.2222222222222222,
              "#7201a8"
             ],
             [
              0.3333333333333333,
              "#9c179e"
             ],
             [
              0.4444444444444444,
              "#bd3786"
             ],
             [
              0.5555555555555556,
              "#d8576b"
             ],
             [
              0.6666666666666666,
              "#ed7953"
             ],
             [
              0.7777777777777778,
              "#fb9f3a"
             ],
             [
              0.8888888888888888,
              "#fdca26"
             ],
             [
              1,
              "#f0f921"
             ]
            ],
            "type": "heatmap"
           }
          ],
          "heatmapgl": [
           {
            "colorbar": {
             "outlinewidth": 0,
             "ticks": ""
            },
            "colorscale": [
             [
              0,
              "#0d0887"
             ],
             [
              0.1111111111111111,
              "#46039f"
             ],
             [
              0.2222222222222222,
              "#7201a8"
             ],
             [
              0.3333333333333333,
              "#9c179e"
             ],
             [
              0.4444444444444444,
              "#bd3786"
             ],
             [
              0.5555555555555556,
              "#d8576b"
             ],
             [
              0.6666666666666666,
              "#ed7953"
             ],
             [
              0.7777777777777778,
              "#fb9f3a"
             ],
             [
              0.8888888888888888,
              "#fdca26"
             ],
             [
              1,
              "#f0f921"
             ]
            ],
            "type": "heatmapgl"
           }
          ],
          "histogram": [
           {
            "marker": {
             "pattern": {
              "fillmode": "overlay",
              "size": 10,
              "solidity": 0.2
             }
            },
            "type": "histogram"
           }
          ],
          "histogram2d": [
           {
            "colorbar": {
             "outlinewidth": 0,
             "ticks": ""
            },
            "colorscale": [
             [
              0,
              "#0d0887"
             ],
             [
              0.1111111111111111,
              "#46039f"
             ],
             [
              0.2222222222222222,
              "#7201a8"
             ],
             [
              0.3333333333333333,
              "#9c179e"
             ],
             [
              0.4444444444444444,
              "#bd3786"
             ],
             [
              0.5555555555555556,
              "#d8576b"
             ],
             [
              0.6666666666666666,
              "#ed7953"
             ],
             [
              0.7777777777777778,
              "#fb9f3a"
             ],
             [
              0.8888888888888888,
              "#fdca26"
             ],
             [
              1,
              "#f0f921"
             ]
            ],
            "type": "histogram2d"
           }
          ],
          "histogram2dcontour": [
           {
            "colorbar": {
             "outlinewidth": 0,
             "ticks": ""
            },
            "colorscale": [
             [
              0,
              "#0d0887"
             ],
             [
              0.1111111111111111,
              "#46039f"
             ],
             [
              0.2222222222222222,
              "#7201a8"
             ],
             [
              0.3333333333333333,
              "#9c179e"
             ],
             [
              0.4444444444444444,
              "#bd3786"
             ],
             [
              0.5555555555555556,
              "#d8576b"
             ],
             [
              0.6666666666666666,
              "#ed7953"
             ],
             [
              0.7777777777777778,
              "#fb9f3a"
             ],
             [
              0.8888888888888888,
              "#fdca26"
             ],
             [
              1,
              "#f0f921"
             ]
            ],
            "type": "histogram2dcontour"
           }
          ],
          "mesh3d": [
           {
            "colorbar": {
             "outlinewidth": 0,
             "ticks": ""
            },
            "type": "mesh3d"
           }
          ],
          "parcoords": [
           {
            "line": {
             "colorbar": {
              "outlinewidth": 0,
              "ticks": ""
             }
            },
            "type": "parcoords"
           }
          ],
          "pie": [
           {
            "automargin": true,
            "type": "pie"
           }
          ],
          "scatter": [
           {
            "fillpattern": {
             "fillmode": "overlay",
             "size": 10,
             "solidity": 0.2
            },
            "type": "scatter"
           }
          ],
          "scatter3d": [
           {
            "line": {
             "colorbar": {
              "outlinewidth": 0,
              "ticks": ""
             }
            },
            "marker": {
             "colorbar": {
              "outlinewidth": 0,
              "ticks": ""
             }
            },
            "type": "scatter3d"
           }
          ],
          "scattercarpet": [
           {
            "marker": {
             "colorbar": {
              "outlinewidth": 0,
              "ticks": ""
             }
            },
            "type": "scattercarpet"
           }
          ],
          "scattergeo": [
           {
            "marker": {
             "colorbar": {
              "outlinewidth": 0,
              "ticks": ""
             }
            },
            "type": "scattergeo"
           }
          ],
          "scattergl": [
           {
            "marker": {
             "colorbar": {
              "outlinewidth": 0,
              "ticks": ""
             }
            },
            "type": "scattergl"
           }
          ],
          "scattermapbox": [
           {
            "marker": {
             "colorbar": {
              "outlinewidth": 0,
              "ticks": ""
             }
            },
            "type": "scattermapbox"
           }
          ],
          "scatterpolar": [
           {
            "marker": {
             "colorbar": {
              "outlinewidth": 0,
              "ticks": ""
             }
            },
            "type": "scatterpolar"
           }
          ],
          "scatterpolargl": [
           {
            "marker": {
             "colorbar": {
              "outlinewidth": 0,
              "ticks": ""
             }
            },
            "type": "scatterpolargl"
           }
          ],
          "scatterternary": [
           {
            "marker": {
             "colorbar": {
              "outlinewidth": 0,
              "ticks": ""
             }
            },
            "type": "scatterternary"
           }
          ],
          "surface": [
           {
            "colorbar": {
             "outlinewidth": 0,
             "ticks": ""
            },
            "colorscale": [
             [
              0,
              "#0d0887"
             ],
             [
              0.1111111111111111,
              "#46039f"
             ],
             [
              0.2222222222222222,
              "#7201a8"
             ],
             [
              0.3333333333333333,
              "#9c179e"
             ],
             [
              0.4444444444444444,
              "#bd3786"
             ],
             [
              0.5555555555555556,
              "#d8576b"
             ],
             [
              0.6666666666666666,
              "#ed7953"
             ],
             [
              0.7777777777777778,
              "#fb9f3a"
             ],
             [
              0.8888888888888888,
              "#fdca26"
             ],
             [
              1,
              "#f0f921"
             ]
            ],
            "type": "surface"
           }
          ],
          "table": [
           {
            "cells": {
             "fill": {
              "color": "#EBF0F8"
             },
             "line": {
              "color": "white"
             }
            },
            "header": {
             "fill": {
              "color": "#C8D4E3"
             },
             "line": {
              "color": "white"
             }
            },
            "type": "table"
           }
          ]
         },
         "layout": {
          "annotationdefaults": {
           "arrowcolor": "#2a3f5f",
           "arrowhead": 0,
           "arrowwidth": 1
          },
          "autotypenumbers": "strict",
          "coloraxis": {
           "colorbar": {
            "outlinewidth": 0,
            "ticks": ""
           }
          },
          "colorscale": {
           "diverging": [
            [
             0,
             "#8e0152"
            ],
            [
             0.1,
             "#c51b7d"
            ],
            [
             0.2,
             "#de77ae"
            ],
            [
             0.3,
             "#f1b6da"
            ],
            [
             0.4,
             "#fde0ef"
            ],
            [
             0.5,
             "#f7f7f7"
            ],
            [
             0.6,
             "#e6f5d0"
            ],
            [
             0.7,
             "#b8e186"
            ],
            [
             0.8,
             "#7fbc41"
            ],
            [
             0.9,
             "#4d9221"
            ],
            [
             1,
             "#276419"
            ]
           ],
           "sequential": [
            [
             0,
             "#0d0887"
            ],
            [
             0.1111111111111111,
             "#46039f"
            ],
            [
             0.2222222222222222,
             "#7201a8"
            ],
            [
             0.3333333333333333,
             "#9c179e"
            ],
            [
             0.4444444444444444,
             "#bd3786"
            ],
            [
             0.5555555555555556,
             "#d8576b"
            ],
            [
             0.6666666666666666,
             "#ed7953"
            ],
            [
             0.7777777777777778,
             "#fb9f3a"
            ],
            [
             0.8888888888888888,
             "#fdca26"
            ],
            [
             1,
             "#f0f921"
            ]
           ],
           "sequentialminus": [
            [
             0,
             "#0d0887"
            ],
            [
             0.1111111111111111,
             "#46039f"
            ],
            [
             0.2222222222222222,
             "#7201a8"
            ],
            [
             0.3333333333333333,
             "#9c179e"
            ],
            [
             0.4444444444444444,
             "#bd3786"
            ],
            [
             0.5555555555555556,
             "#d8576b"
            ],
            [
             0.6666666666666666,
             "#ed7953"
            ],
            [
             0.7777777777777778,
             "#fb9f3a"
            ],
            [
             0.8888888888888888,
             "#fdca26"
            ],
            [
             1,
             "#f0f921"
            ]
           ]
          },
          "colorway": [
           "#636efa",
           "#EF553B",
           "#00cc96",
           "#ab63fa",
           "#FFA15A",
           "#19d3f3",
           "#FF6692",
           "#B6E880",
           "#FF97FF",
           "#FECB52"
          ],
          "font": {
           "color": "#2a3f5f"
          },
          "geo": {
           "bgcolor": "white",
           "lakecolor": "white",
           "landcolor": "#E5ECF6",
           "showlakes": true,
           "showland": true,
           "subunitcolor": "white"
          },
          "hoverlabel": {
           "align": "left"
          },
          "hovermode": "closest",
          "mapbox": {
           "style": "light"
          },
          "paper_bgcolor": "white",
          "plot_bgcolor": "#E5ECF6",
          "polar": {
           "angularaxis": {
            "gridcolor": "white",
            "linecolor": "white",
            "ticks": ""
           },
           "bgcolor": "#E5ECF6",
           "radialaxis": {
            "gridcolor": "white",
            "linecolor": "white",
            "ticks": ""
           }
          },
          "scene": {
           "xaxis": {
            "backgroundcolor": "#E5ECF6",
            "gridcolor": "white",
            "gridwidth": 2,
            "linecolor": "white",
            "showbackground": true,
            "ticks": "",
            "zerolinecolor": "white"
           },
           "yaxis": {
            "backgroundcolor": "#E5ECF6",
            "gridcolor": "white",
            "gridwidth": 2,
            "linecolor": "white",
            "showbackground": true,
            "ticks": "",
            "zerolinecolor": "white"
           },
           "zaxis": {
            "backgroundcolor": "#E5ECF6",
            "gridcolor": "white",
            "gridwidth": 2,
            "linecolor": "white",
            "showbackground": true,
            "ticks": "",
            "zerolinecolor": "white"
           }
          },
          "shapedefaults": {
           "line": {
            "color": "#2a3f5f"
           }
          },
          "ternary": {
           "aaxis": {
            "gridcolor": "white",
            "linecolor": "white",
            "ticks": ""
           },
           "baxis": {
            "gridcolor": "white",
            "linecolor": "white",
            "ticks": ""
           },
           "bgcolor": "#E5ECF6",
           "caxis": {
            "gridcolor": "white",
            "linecolor": "white",
            "ticks": ""
           }
          },
          "title": {
           "x": 0.05
          },
          "xaxis": {
           "automargin": true,
           "gridcolor": "white",
           "linecolor": "white",
           "ticks": "",
           "title": {
            "standoff": 15
           },
           "zerolinecolor": "white",
           "zerolinewidth": 2
          },
          "yaxis": {
           "automargin": true,
           "gridcolor": "white",
           "linecolor": "white",
           "ticks": "",
           "title": {
            "standoff": 15
           },
           "zerolinecolor": "white",
           "zerolinewidth": 2
          }
         }
        },
        "title": {
         "text": "Comparison of Evaluation Metrics across Models"
        },
        "xaxis": {
         "anchor": "y",
         "domain": [
          0,
          1
         ],
         "title": {
          "text": "Models"
         },
         "type": "category"
        },
        "yaxis": {
         "anchor": "x",
         "domain": [
          0,
          1
         ],
         "title": {
          "text": "Metric Values"
         }
        }
       }
      }
     },
     "metadata": {},
     "output_type": "display_data"
    }
   ],
   "source": [
    "import plotly.graph_objs as go\n",
    "from plotly.subplots import make_subplots\n",
    "\n",
    "\n",
    "\n",
    "# Create a list of model names\n",
    "model_names = ['LSTM', 'BiLSTM', 'GRU']\n",
    "\n",
    "# Create a list of metric values for each model\n",
    "accuracy_values = [ lstm_metrics['accuracy'], bilstm_metrics['accuracy'], gru_metrics['accuracy']]\n",
    "precision_values = [ lstm_metrics['precision'], bilstm_metrics['precision'], gru_metrics['precision']]\n",
    "recall_values = [ lstm_metrics['recall'], bilstm_metrics['recall'], gru_metrics['recall']]\n",
    "f1_values = [ lstm_metrics['f1'], bilstm_metrics['f1'], gru_metrics['f1']]\n",
    "\n",
    "trace1 = go.Bar(x=model_names, y=accuracy_values, name='Accuracy')\n",
    "trace2 = go.Bar(x=model_names, y=precision_values, name='Precision')\n",
    "trace3 = go.Bar(x=model_names, y=recall_values, name='Recall')\n",
    "trace4 = go.Bar(x=model_names, y=f1_values, name='F1-score')\n",
    "\n",
    "# Create the figure and layout\n",
    "fig = make_subplots(rows=1, cols=1)\n",
    "fig.add_trace(trace1, row=1, col=1)\n",
    "fig.add_trace(trace2, row=1, col=1)\n",
    "fig.add_trace(trace3, row=1, col=1)\n",
    "\n",
    "\n",
    "# Update the layout\n",
    "fig.update_layout(\n",
    "    title='Comparison of Evaluation Metrics across Models',\n",
    "    xaxis_title='Models',\n",
    "    yaxis_title='Metric Values',\n",
    "    barmode='group',\n",
    "    legend=dict(\n",
    "        x=1.05,\n",
    "        y=1,\n",
    "        traceorder='normal',\n",
    "        bgcolor='rgba(0,0,0,0)',\n",
    "        bordercolor='Black',\n",
    "        borderwidth=2\n",
    "    ),\n",
    "    xaxis_type='category'\n",
    ")\n",
    "\n",
    "# Show the plot\n",
    "fig.show()"
   ]
  }
 ],
 "metadata": {
  "kernelspec": {
   "display_name": "Python 3",
   "language": "python",
   "name": "python3"
  },
  "language_info": {
   "codemirror_mode": {
    "name": "ipython",
    "version": 3
   },
   "file_extension": ".py",
   "mimetype": "text/x-python",
   "name": "python",
   "nbconvert_exporter": "python",
   "pygments_lexer": "ipython3",
   "version": "3.12.2"
  }
 },
 "nbformat": 4,
 "nbformat_minor": 2
}
